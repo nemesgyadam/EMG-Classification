{
 "cells": [
  {
   "cell_type": "code",
   "execution_count": 13,
   "metadata": {},
   "outputs": [
    {
     "name": "stdout",
     "output_type": "stream",
     "text": [
      "54 , 91 , 97 , 35 , \n",
      "7 , 23 , 4 , 16 , \n",
      "81 , 76 , 75 , 4 , \n",
      "40 , 64 , 14 , 4 , \n",
      "49 , 47 , 41 , 7 , \n",
      "53 , 82 , 29 , 54 , \n",
      "47 , 86 , 69 , 7 , \n",
      "68 , 84 , 2 , 9 , \n",
      "34 , 93 , 96 , 70 , \n",
      "2 , 40 , 3 , 4 , \n",
      "79 , 90 , 99 , 96 , \n",
      "81 , 77 , 94 , 74 , \n",
      "59 , 41 , 39 , 1 , \n",
      "62 , 79 , 11 , 7 , \n",
      "13 , 82 , 1 , 60 , \n",
      "34 , 78 , 46 , 52 , \n"
     ]
    }
   ],
   "source": [
    "import os \n",
    "import numpy as np\n",
    "\n",
    "from config.default import *\n",
    "classes = settings['classes']\n",
    "\n",
    "root_path = 'C:/resources/EMG'\n",
    "post_fix  = '_1s_cleaned'\n",
    "exclude = ['S003']\n",
    "\n",
    "total =  { c:0 for c in classes}\n",
    "for subject in os.listdir(root_path):\n",
    "    if subject not in exclude:\n",
    "        #print()\n",
    "        #print(subject)\n",
    "        db = { c:0 for c in classes}\n",
    "        for session in os.listdir(os.path.join(root_path,subject)):\n",
    "            for c in classes:\n",
    "                #print(c)\n",
    "                data = np.load(os.path.join(root_path,subject, session,c+post_fix+'.npy'),allow_pickle=True)\n",
    "                sample_count = data.shape[0]/3\n",
    "                db[c] += sample_count\n",
    "                total[c] += sample_count\n",
    "        for a in db.items():\n",
    "            print(int(a[1]),', ', end = '')\n",
    "        print()\n",
    "\n",
    "# print(\"Total:\")\n",
    "# print(total)"
   ]
  },
  {
   "cell_type": "code",
   "execution_count": null,
   "metadata": {},
   "outputs": [],
   "source": []
  },
  {
   "cell_type": "code",
   "execution_count": null,
   "metadata": {},
   "outputs": [],
   "source": []
  }
 ],
 "metadata": {
  "interpreter": {
   "hash": "128934f646949eb4cf464f35c20c7e7ac7bc290bed06c64aee2699698b1492ef"
  },
  "kernelspec": {
   "display_name": "Python 3.7.0 ('tf')",
   "language": "python",
   "name": "python3"
  },
  "language_info": {
   "codemirror_mode": {
    "name": "ipython",
    "version": 3
   },
   "file_extension": ".py",
   "mimetype": "text/x-python",
   "name": "python",
   "nbconvert_exporter": "python",
   "pygments_lexer": "ipython3",
   "version": "3.7.0"
  },
  "orig_nbformat": 4
 },
 "nbformat": 4,
 "nbformat_minor": 2
}
