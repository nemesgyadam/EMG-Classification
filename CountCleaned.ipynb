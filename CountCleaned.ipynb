{
 "cells": [
  {
   "cell_type": "code",
   "execution_count": 10,
   "metadata": {},
   "outputs": [
    {
     "name": "stdout",
     "output_type": "stream",
     "text": [
      "S001\n",
      "{'Rest': 162, 'Eyebrow': 273, 'Chew': 291, 'Smile': 105}\n",
      "S002\n",
      "{'Rest': 21, 'Eyebrow': 69, 'Chew': 12, 'Smile': 48}\n",
      "S004\n",
      "{'Rest': 243, 'Eyebrow': 228, 'Chew': 225, 'Smile': 12}\n",
      "S005\n",
      "{'Rest': 120, 'Eyebrow': 192, 'Chew': 42, 'Smile': 12}\n",
      "S006\n",
      "{'Rest': 147, 'Eyebrow': 141, 'Chew': 123, 'Smile': 21}\n",
      "S007\n",
      "{'Rest': 159, 'Eyebrow': 246, 'Chew': 87, 'Smile': 162}\n",
      "S008\n",
      "{'Rest': 141, 'Eyebrow': 258, 'Chew': 207, 'Smile': 21}\n",
      "S009\n",
      "{'Rest': 204, 'Eyebrow': 252, 'Chew': 6, 'Smile': 27}\n",
      "S010\n",
      "{'Rest': 102, 'Eyebrow': 279, 'Chew': 288, 'Smile': 210}\n",
      "S011\n",
      "{'Rest': 6, 'Eyebrow': 120, 'Chew': 9, 'Smile': 12}\n",
      "S101\n",
      "{'Rest': 237, 'Eyebrow': 270, 'Chew': 297, 'Smile': 288}\n",
      "S102\n",
      "{'Rest': 243, 'Eyebrow': 231, 'Chew': 282, 'Smile': 222}\n",
      "S103\n",
      "{'Rest': 177, 'Eyebrow': 123, 'Chew': 117, 'Smile': 3}\n",
      "S104\n",
      "{'Rest': 186, 'Eyebrow': 237, 'Chew': 33, 'Smile': 21}\n",
      "S105\n",
      "{'Rest': 39, 'Eyebrow': 246, 'Chew': 3, 'Smile': 180}\n",
      "S106\n",
      "{'Rest': 102, 'Eyebrow': 234, 'Chew': 138, 'Smile': 156}\n",
      "Total:\n",
      "{'Rest': 2289, 'Eyebrow': 3399, 'Chew': 2160, 'Smile': 1500}\n"
     ]
    }
   ],
   "source": [
    "import os \n",
    "import numpy as np\n",
    "\n",
    "from config.default import *\n",
    "classes = settings['classes']\n",
    "\n",
    "root_path = 'C:/resources/EMG'\n",
    "post_fix  = '_1s_cleaned'\n",
    "exclude = ['S003']\n",
    "\n",
    "total =  { c:0 for c in classes}\n",
    "for subject in os.listdir(root_path):\n",
    "    if subject not in exclude:\n",
    "        print(subject)\n",
    "        db = { c:0 for c in classes}\n",
    "        for session in os.listdir(os.path.join(root_path,subject)):\n",
    "            for c in classes:\n",
    "                #print(c)\n",
    "                data = np.load(os.path.join(root_path,subject, session,c+post_fix+'.npy'),allow_pickle=True)\n",
    "                sample_count = data.shape[0]\n",
    "                db[c] += sample_count\n",
    "                total[c] += sample_count\n",
    "        print(db)\n",
    "\n",
    "print(\"Total:\")\n",
    "print(total)"
   ]
  },
  {
   "cell_type": "code",
   "execution_count": null,
   "metadata": {},
   "outputs": [],
   "source": []
  }
 ],
 "metadata": {
  "interpreter": {
   "hash": "128934f646949eb4cf464f35c20c7e7ac7bc290bed06c64aee2699698b1492ef"
  },
  "kernelspec": {
   "display_name": "Python 3.7.0 ('tf')",
   "language": "python",
   "name": "python3"
  },
  "language_info": {
   "codemirror_mode": {
    "name": "ipython",
    "version": 3
   },
   "file_extension": ".py",
   "mimetype": "text/x-python",
   "name": "python",
   "nbconvert_exporter": "python",
   "pygments_lexer": "ipython3",
   "version": "3.7.0"
  },
  "orig_nbformat": 4
 },
 "nbformat": 4,
 "nbformat_minor": 2
}
