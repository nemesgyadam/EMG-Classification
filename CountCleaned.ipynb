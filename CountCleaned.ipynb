{
 "cells": [
  {
   "cell_type": "code",
   "execution_count": 11,
   "metadata": {},
   "outputs": [
    {
     "name": "stdout",
     "output_type": "stream",
     "text": [
      "S001\n",
      "{'Rest': 54.0, 'Eyebrow': 91.0, 'Chew': 97.0, 'Smile': 35.0}\n",
      "S002\n",
      "{'Rest': 7.0, 'Eyebrow': 23.0, 'Chew': 4.0, 'Smile': 16.0}\n",
      "S004\n",
      "{'Rest': 81.0, 'Eyebrow': 76.0, 'Chew': 75.0, 'Smile': 4.0}\n",
      "S005\n",
      "{'Rest': 40.0, 'Eyebrow': 64.0, 'Chew': 14.0, 'Smile': 4.0}\n",
      "S006\n",
      "{'Rest': 49.0, 'Eyebrow': 47.0, 'Chew': 41.0, 'Smile': 7.0}\n",
      "S007\n",
      "{'Rest': 53.0, 'Eyebrow': 82.0, 'Chew': 29.0, 'Smile': 54.0}\n",
      "S008\n",
      "{'Rest': 47.0, 'Eyebrow': 86.0, 'Chew': 69.0, 'Smile': 7.0}\n",
      "S009\n",
      "{'Rest': 68.0, 'Eyebrow': 84.0, 'Chew': 2.0, 'Smile': 9.0}\n",
      "S010\n",
      "{'Rest': 34.0, 'Eyebrow': 93.0, 'Chew': 96.0, 'Smile': 70.0}\n",
      "S011\n",
      "{'Rest': 2.0, 'Eyebrow': 40.0, 'Chew': 3.0, 'Smile': 4.0}\n",
      "S101\n",
      "{'Rest': 79.0, 'Eyebrow': 90.0, 'Chew': 99.0, 'Smile': 96.0}\n",
      "S102\n",
      "{'Rest': 81.0, 'Eyebrow': 77.0, 'Chew': 94.0, 'Smile': 74.0}\n",
      "S103\n",
      "{'Rest': 59.0, 'Eyebrow': 41.0, 'Chew': 39.0, 'Smile': 1.0}\n",
      "S104\n",
      "{'Rest': 62.0, 'Eyebrow': 79.0, 'Chew': 11.0, 'Smile': 7.0}\n",
      "S105\n",
      "{'Rest': 13.0, 'Eyebrow': 82.0, 'Chew': 1.0, 'Smile': 60.0}\n",
      "S106\n",
      "{'Rest': 34.0, 'Eyebrow': 78.0, 'Chew': 46.0, 'Smile': 52.0}\n",
      "Total:\n",
      "{'Rest': 763.0, 'Eyebrow': 1133.0, 'Chew': 720.0, 'Smile': 500.0}\n"
     ]
    }
   ],
   "source": [
    "import os \n",
    "import numpy as np\n",
    "\n",
    "from config.default import *\n",
    "classes = settings['classes']\n",
    "\n",
    "root_path = 'C:/resources/EMG'\n",
    "post_fix  = '_1s_cleaned'\n",
    "exclude = ['S003']\n",
    "\n",
    "total =  { c:0 for c in classes}\n",
    "for subject in os.listdir(root_path):\n",
    "    if subject not in exclude:\n",
    "        print(subject)\n",
    "        db = { c:0 for c in classes}\n",
    "        for session in os.listdir(os.path.join(root_path,subject)):\n",
    "            for c in classes:\n",
    "                #print(c)\n",
    "                data = np.load(os.path.join(root_path,subject, session,c+post_fix+'.npy'),allow_pickle=True)\n",
    "                sample_count = data.shape[0]/3\n",
    "                db[c] += sample_count\n",
    "                total[c] += sample_count\n",
    "        print(db)\n",
    "\n",
    "print(\"Total:\")\n",
    "print(total)"
   ]
  },
  {
   "cell_type": "code",
   "execution_count": null,
   "metadata": {},
   "outputs": [],
   "source": []
  }
 ],
 "metadata": {
  "interpreter": {
   "hash": "128934f646949eb4cf464f35c20c7e7ac7bc290bed06c64aee2699698b1492ef"
  },
  "kernelspec": {
   "display_name": "Python 3.7.0 ('tf')",
   "language": "python",
   "name": "python3"
  },
  "language_info": {
   "codemirror_mode": {
    "name": "ipython",
    "version": 3
   },
   "file_extension": ".py",
   "mimetype": "text/x-python",
   "name": "python",
   "nbconvert_exporter": "python",
   "pygments_lexer": "ipython3",
   "version": "3.7.0"
  },
  "orig_nbformat": 4
 },
 "nbformat": 4,
 "nbformat_minor": 2
}
