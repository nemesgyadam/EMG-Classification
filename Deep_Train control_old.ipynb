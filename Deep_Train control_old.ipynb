{
 "cells": [
  {
   "cell_type": "code",
   "execution_count": 1,
   "metadata": {},
   "outputs": [
    {
     "name": "stderr",
     "output_type": "stream",
     "text": [
      "C:\\Users\\Nemes\\anaconda3\\envs\\tf\\lib\\site-packages\\numpy\\_distributor_init.py:32: UserWarning: loaded more than 1 DLL from .libs:\n",
      "C:\\Users\\Nemes\\anaconda3\\envs\\tf\\lib\\site-packages\\numpy\\.libs\\libopenblas.PYQHXLVVQ7VESDPUVUADXEVJOBGHJPAY.gfortran-win_amd64.dll\n",
      "C:\\Users\\Nemes\\anaconda3\\envs\\tf\\lib\\site-packages\\numpy\\.libs\\libopenblas.WCDJNK7YVMPZQ2ME2ZZHJJRJ3JIKNDB7.gfortran-win_amd64.dll\n",
      "C:\\Users\\Nemes\\anaconda3\\envs\\tf\\lib\\site-packages\\numpy\\.libs\\libopenblas.XWYDX2IKJW2NMTWSFYNGFUWKQU3LYTCZ.gfortran-win_amd64.dll\n",
      "  stacklevel=1)\n"
     ]
    }
   ],
   "source": [
    "import numpy as np\n",
    "import random\n",
    "import os\n",
    "import keras_tuner as kt\n",
    "from matplotlib import pyplot as plt\n",
    "from sklearn.model_selection import train_test_split\n",
    "import tensorflow as tf\n",
    "from tensorflow import keras\n",
    "from tensorflow.keras.utils import to_categorical\n",
    "from tensorflow.keras.models import Sequential\n",
    "from tensorflow.keras import layers as layers\n",
    "from tensorflow.keras.layers import GlobalMaxPooling2D, Activation, Dense, Conv1D, Conv2D, Dropout, Flatten, MaxPooling2D, BatchNormalization, GlobalMaxPooling1D\n",
    "from tensorflow.keras import optimizers\n",
    "import pandas as pd\n",
    "from tqdm.notebook import tqdm\n",
    "%matplotlib inline\n",
    "import matplotlib.pyplot as plt\n",
    "from tensorflow.keras import regularizers\n",
    "from tensorflow.keras.callbacks import EarlyStopping, ReduceLROnPlateau\n",
    "from scipy import signal\n",
    "\n",
    "from utils.augment import augment\n",
    "from sklearn.model_selection import StratifiedKFold, KFold\n",
    "from sklearn.metrics import classification_report,confusion_matrix\n",
    "from sklearn.metrics import accuracy_score\n",
    "from tensorflow.keras.utils import to_categorical\n",
    "from sklearn.preprocessing import StandardScaler\n",
    "\n",
    "from utils.deep import preProcess, smoothLabels, oneHot, applyOneHot, evaluate_set\n",
    "from utils.visualize import showMe, showHistory\n",
    "\n",
    "\n",
    "%load_ext autoreload\n",
    "%autoreload 2\n"
   ]
  },
  {
   "cell_type": "code",
   "execution_count": 101,
   "metadata": {},
   "outputs": [
    {
     "name": "stdout",
     "output_type": "stream",
     "text": [
      "3 sessions loaded for training\n",
      "1 sessions loaded for validation\n"
     ]
    }
   ],
   "source": [
    "classes = ['Rest', 'Eyebrow','Smile', 'Chew']\n",
    "classes = ['Rest', 'Chew']\n",
    "\n",
    "batch_size = 32\n",
    "input_length = 300\n",
    "#input_length = 100\n",
    "root_path = 'resources/'\n",
    "#post_fix = '_1s_augmented'\n",
    "post_fix = '_3s'\n",
    "exclude =  ['S011'] #['S002', 'S009', 'S011']\n",
    "exclude_last = ['S001', 'S006', 'S007']\n",
    "include = ['S010']\n",
    "\n",
    "# use session4 for validation\n",
    "train_sessions = []\n",
    "val_sessions = []\n",
    "for subject in os.listdir(root_path):\n",
    "    #if subject not in exclude:\n",
    "    if subject in include:\n",
    "        for session in os.listdir(os.path.join(root_path,subject)):\n",
    "            if session == 'session_4':\n",
    "                val_sessions.append(os.path.join(root_path,subject, session))\n",
    "            else:\n",
    "                train_sessions.append(os.path.join(root_path,subject, session))\n",
    "        #print(f\"{len(os.listdir(os.path.join(root_path,subject)))} session loaded from subject: {subject}\")\n",
    "print(f\"{len(train_sessions)} sessions loaded for training\")\n",
    "print(f\"{len(val_sessions)} sessions loaded for validation\")\n",
    "\n",
    "records = {}\n",
    "for c in classes:\n",
    "    class_data = []\n",
    "    for session in train_sessions:\n",
    "        class_data.append(np.load(os.path.join(session,c+post_fix+'.npy'),allow_pickle=True))\n",
    "    records[c] = np.concatenate(class_data)\n",
    "\n",
    "val_records = {}\n",
    "for c in classes:\n",
    "    class_data = []\n",
    "    for session in val_sessions:\n",
    "        class_data.append(np.load(os.path.join(session,c+post_fix+'.npy'),allow_pickle=True))\n",
    "    val_records[c] = np.concatenate(class_data)\n",
    "    \n",
    "# test_sessions = []\n",
    "# for subject in os.listdir(root_path):\n",
    "#     if subject not in exclude:\n",
    "#         for session in os.listdir(os.path.join(root_path,subject)):\n",
    "#             if session == 'session_4' and subject in exclude_last:\n",
    "#                 test_sessions.append(os.path.join(root_path,subject, session))\n",
    "# print(f\"{len(test_sessions)} session loaded for testing\")\n",
    "\n"
   ]
  },
  {
   "cell_type": "code",
   "execution_count": 111,
   "metadata": {},
   "outputs": [
    {
     "name": "stdout",
     "output_type": "stream",
     "text": [
      "(150, 6, 1500)\n",
      "(150, 2)\n",
      "(50, 6, 1500)\n",
      "(50, 2)\n"
     ]
    }
   ],
   "source": [
    "X = np.concatenate((list(records.values())),axis = 0)\n",
    "val_X= np.concatenate((list(val_records.values())),axis = 0)\n",
    "\n",
    "# ezt szedd ki\n",
    "# clip_value = 2000\n",
    "# X = signal.resample(X, input_length, axis = -1)\n",
    "# X = np.clip(X, -clip_value, clip_value) \n",
    "# X /= clip_value\n",
    "\n",
    "\n",
    "# val_X = signal.resample(val_X, input_length, axis = -1)\n",
    "# val_X = np.clip(val_X, -clip_value, clip_value) \n",
    "# val_X /= clip_value\n",
    "\n",
    "s = records['Rest'].shape[0]\n",
    "#y = np.concatenate(( np.zeros(s),np.ones(s),np.ones(s)*2,np.ones(s)*3))\n",
    "y = np.concatenate(( np.zeros(s),np.ones(s)))\n",
    "\n",
    "\n",
    "val_s = val_records['Rest'].shape[0]\n",
    "#val_y = np.concatenate(( np.zeros(val_s),np.ones(val_s),np.ones(val_s)*2,np.ones(val_s)*3))\n",
    "val_y = np.concatenate(( np.zeros(val_s),np.ones(val_s)))\n",
    "\n",
    "\n",
    "\n",
    "#SHUFFLE DATA\n",
    "c = list(zip(X, y))\n",
    "random.shuffle(c)\n",
    "X,y = zip(*c)\n",
    "X = np.array(X)\n",
    "y = np.array(y)\n",
    "\n",
    "y = applyOneHot(y,len(classes))\n",
    "val_y = applyOneHot(val_y,len(classes))\n",
    "\n",
    "print(X.shape)\n",
    "print(y.shape)\n",
    "\n",
    "print(val_X.shape)\n",
    "print(val_y.shape)\n"
   ]
  },
  {
   "cell_type": "code",
   "execution_count": 131,
   "metadata": {},
   "outputs": [
    {
     "name": "stdout",
     "output_type": "stream",
     "text": [
      "(300, 6, 1500)\n",
      "(300, 2)\n"
     ]
    }
   ],
   "source": [
    "X = np.array([preProcess(s) for s in X])\n",
    "val_X = np.array([preProcess(s) for s in val_X])\n",
    "\n",
    "\n",
    "#AUGMENT\n",
    "X_aug, y_aug = augment(X, y)\n",
    "\n",
    "print(X_aug.shape)\n",
    "print(y_aug.shape)"
   ]
  },
  {
   "cell_type": "code",
   "execution_count": 132,
   "metadata": {},
   "outputs": [],
   "source": [
    "def get_dense_model():\n",
    "    inspected_chanels= X.shape[1]\n",
    "    input_length=     X.shape[2]\n",
    "    input_layer = keras.Input(shape = (inspected_chanels,input_length,1), name='input')\n",
    "    x = layers.Flatten()(input_layer)\n",
    "\n",
    "    l2 = 0.0001\n",
    "   \n",
    "\n",
    "    x     = layers.Dense(1000,kernel_regularizer=regularizers.l2(l2))(x)\n",
    "    x     = layers.BatchNormalization()(x)\n",
    "    x     = layers.Flatten()(x)\n",
    "\n",
    "    x     = layers.Dense(200,kernel_regularizer=regularizers.l2(l2))(x)\n",
    "    x     = layers.BatchNormalization()(x)\n",
    "\n",
    "\n",
    "    x     = layers.Dense(100,kernel_regularizer=regularizers.l2(l2))(x)\n",
    "    x     = layers.BatchNormalization()(x)\n",
    "\n",
    "\n",
    "\n",
    "    x     = layers.Dense(50,kernel_regularizer=regularizers.l2(l2))(x)\n",
    "    x     = layers.BatchNormalization()(x)\n",
    "    #x     = layers.Dropout(.1)(x)\n",
    "\n",
    "\n",
    "    x     = layers.Dense(30,kernel_regularizer=regularizers.l2(l2))(x)\n",
    "    x     = layers.BatchNormalization()(x)\n",
    "\n",
    "\n",
    "\n",
    "    x     = layers.Dense(10,kernel_regularizer=regularizers.l2(l2))(x)\n",
    "    x     = layers.BatchNormalization()(x)\n",
    "    x     = layers.Dropout(.2)(x)\n",
    "\n",
    "\n",
    "    output = layers.Dense(len(classes), activation='softmax')(x)\n",
    "    model = keras.Model(inputs=input_layer, outputs=output)\n",
    "\n",
    "    model.summary()\n",
    "    return model"
   ]
  },
  {
   "cell_type": "code",
   "execution_count": 133,
   "metadata": {},
   "outputs": [],
   "source": [
    "def get_model():\n",
    "    inspected_chanels= X.shape[1]\n",
    "    input_length=     X.shape[2]\n",
    "    input_layer = keras.Input(shape = (inspected_chanels,input_length,1), name='input')\n",
    "    #x = layers.Flatten()(input_layer)\n",
    "\n",
    "    l2 = 0.0001\n",
    "   \n",
    "    x     = layers.Conv2D(128, kernel_size=(6,6), padding='same', activation='relu', kernel_regularizer=regularizers.l2(l2))(input_layer)\n",
    "    x     = layers.BatchNormalization()(x)\n",
    "    x     = layers.AveragePooling2D(pool_size=(1,5))(x)\n",
    "\n",
    "\n",
    "    # x     = layers.Dense(1000,kernel_regularizer=regularizers.l2(l2))(x)\n",
    "    # x     = layers.BatchNormalization()(x)\n",
    "    # #x     = layers.Flatten()(x)\n",
    "\n",
    "   \n",
    "\n",
    "    # x     = layers.Dense(500,kernel_regularizer=regularizers.l2(l2))(x)\n",
    "    # x     = layers.BatchNormalization()(x)\n",
    "\n",
    "    # x     = layers.Dense(200,kernel_regularizer=regularizers.l2(l2))(x)\n",
    "    # x     = layers.BatchNormalization()(x)\n",
    "\n",
    "    \n",
    "\n",
    "    # x     = layers.Dense(100,kernel_regularizer=regularizers.l2(l2))(x)\n",
    "    # x     = layers.BatchNormalization()(x)\n",
    "    # x     = layers.Dropout(.2)(x)\n",
    "\n",
    "    \n",
    "    \n",
    "    \n",
    "\n",
    "    x     = layers.Flatten()(x)\n",
    "\n",
    "    x     = layers.Dense(10,kernel_regularizer=regularizers.l2(l2))(x)\n",
    "    x     = layers.BatchNormalization()(x)\n",
    "    x     = layers.Dropout(.2)(x)\n",
    "\n",
    "\n",
    "    output = layers.Dense(len(classes), activation='softmax')(x)\n",
    "    model = keras.Model(inputs=input_layer, outputs=output)\n",
    "\n",
    "    model.summary()\n",
    "    return model"
   ]
  },
  {
   "cell_type": "code",
   "execution_count": 9,
   "metadata": {},
   "outputs": [],
   "source": [
    "def get_hyper_model(hp):\n",
    "    model = keras.Sequential()\n",
    "    inspected_chanels= X.shape[1]\n",
    "    input_length=     X.shape[2]\n",
    "    input_layer = keras.Input(shape = (inspected_chanels,input_length), name='input')\n",
    "    x = layers.Flatten()(input_layer)\n",
    "    l2 = 0.001\n",
    "    for i in range(hp.Choice('n_layers',[4,6, 10, 20])):\n",
    "        x     = layers.Dense(hp.Int('dense',min_value=100,max_value=10000,sampling=\"log\"),kernel_regularizer=regularizers.l2(l2))(x)\n",
    "        x     = layers.BatchNormalization()(x)\n",
    "        x     = layers.Dropout(hp.Choice('dropout',[0., 0.1]))(x)\n",
    "\n",
    "\n",
    "    output = layers.Dense(len(classes), activation='softmax')(x)\n",
    "    model = keras.Model(inputs=input_layer, outputs=output)\n",
    "\n",
    "\n",
    "    lr_schedule = keras.optimizers.schedules.ExponentialDecay(\n",
    "        initial_learning_rate=hp.Float(\"lr\", min_value=1e-5, max_value=1e-2, sampling=\"log\"),\n",
    "        decay_steps=batch_size*10,\n",
    "        decay_rate=hp.Choice('decay',[0.1,0.9]))\n",
    "\n",
    "\n",
    "    model.compile(\n",
    "        optimizer=keras.optimizers.SGD(learning_rate=lr_schedule),\n",
    "        loss=\"categorical_crossentropy\",\n",
    "        metrics=[\"categorical_accuracy\"],\n",
    "    )\n",
    "    model.summary()\n",
    "    return model"
   ]
  },
  {
   "cell_type": "code",
   "execution_count": 134,
   "metadata": {},
   "outputs": [
    {
     "name": "stdout",
     "output_type": "stream",
     "text": [
      "Model: \"functional_55\"\n",
      "_________________________________________________________________\n",
      "Layer (type)                 Output Shape              Param #   \n",
      "=================================================================\n",
      "input (InputLayer)           [(None, 6, 1500, 1)]      0         \n",
      "_________________________________________________________________\n",
      "flatten_33 (Flatten)         (None, 9000)              0         \n",
      "_________________________________________________________________\n",
      "dense_88 (Dense)             (None, 1000)              9001000   \n",
      "_________________________________________________________________\n",
      "batch_normalization_69 (Batc (None, 1000)              4000      \n",
      "_________________________________________________________________\n",
      "flatten_34 (Flatten)         (None, 1000)              0         \n",
      "_________________________________________________________________\n",
      "dense_89 (Dense)             (None, 200)               200200    \n",
      "_________________________________________________________________\n",
      "batch_normalization_70 (Batc (None, 200)               800       \n",
      "_________________________________________________________________\n",
      "dense_90 (Dense)             (None, 100)               20100     \n",
      "_________________________________________________________________\n",
      "batch_normalization_71 (Batc (None, 100)               400       \n",
      "_________________________________________________________________\n",
      "dense_91 (Dense)             (None, 50)                5050      \n",
      "_________________________________________________________________\n",
      "batch_normalization_72 (Batc (None, 50)                200       \n",
      "_________________________________________________________________\n",
      "dense_92 (Dense)             (None, 30)                1530      \n",
      "_________________________________________________________________\n",
      "batch_normalization_73 (Batc (None, 30)                120       \n",
      "_________________________________________________________________\n",
      "dense_93 (Dense)             (None, 10)                310       \n",
      "_________________________________________________________________\n",
      "batch_normalization_74 (Batc (None, 10)                40        \n",
      "_________________________________________________________________\n",
      "dropout_26 (Dropout)         (None, 10)                0         \n",
      "_________________________________________________________________\n",
      "dense_94 (Dense)             (None, 2)                 22        \n",
      "=================================================================\n",
      "Total params: 9,233,772\n",
      "Trainable params: 9,230,992\n",
      "Non-trainable params: 2,780\n",
      "_________________________________________________________________\n"
     ]
    }
   ],
   "source": [
    "model = get_dense_model()\n",
    "#model = get_model()\n",
    "\n",
    "\n",
    "# reduce_lr = ReduceLROnPlateau(monitor='val_loss', factor=0.2,\n",
    "#                               patience=3, min_lr=1e-6, min_delta = 0.0001)\n",
    "                              \n",
    "# early_stopping =  tf.keras.callbacks.EarlyStopping(monitor='val_loss', patience=3, min_delta=0.000001)\n",
    "\n",
    "opt = keras.optimizers.SGD(learning_rate=1e-5) #, momentum=0.9)\n",
    "model.compile(optimizer=opt,\n",
    "          loss='categorical_crossentropy',\n",
    "          metrics=['categorical_accuracy']\n",
    "         )\n"
   ]
  },
  {
   "cell_type": "code",
   "execution_count": 135,
   "metadata": {},
   "outputs": [
    {
     "name": "stdout",
     "output_type": "stream",
     "text": [
      "Batch size: 64\n",
      "Epoch 1/40\n",
      "3/3 [==============================] - 0s 98ms/step - loss: 1.3305 - categorical_accuracy: 0.4533 - val_loss: 2.0214 - val_categorical_accuracy: 0.5200\n",
      "Epoch 2/40\n",
      "3/3 [==============================] - 0s 13ms/step - loss: 1.3400 - categorical_accuracy: 0.4533 - val_loss: 1.9195 - val_categorical_accuracy: 0.5200\n",
      "Epoch 3/40\n",
      "3/3 [==============================] - 0s 14ms/step - loss: 1.3008 - categorical_accuracy: 0.4467 - val_loss: 1.8357 - val_categorical_accuracy: 0.5200\n",
      "Epoch 4/40\n",
      "3/3 [==============================] - 0s 14ms/step - loss: 1.2657 - categorical_accuracy: 0.4533 - val_loss: 1.7575 - val_categorical_accuracy: 0.5200\n",
      "Epoch 5/40\n",
      "3/3 [==============================] - 0s 14ms/step - loss: 1.2462 - categorical_accuracy: 0.4933 - val_loss: 1.6933 - val_categorical_accuracy: 0.5200\n",
      "Epoch 6/40\n",
      "3/3 [==============================] - 0s 14ms/step - loss: 1.2948 - categorical_accuracy: 0.4267 - val_loss: 1.6320 - val_categorical_accuracy: 0.5000\n",
      "Epoch 7/40\n",
      "3/3 [==============================] - 0s 15ms/step - loss: 1.2698 - categorical_accuracy: 0.4467 - val_loss: 1.5752 - val_categorical_accuracy: 0.5000\n",
      "Epoch 8/40\n",
      "3/3 [==============================] - 0s 13ms/step - loss: 1.2960 - categorical_accuracy: 0.4733 - val_loss: 1.5372 - val_categorical_accuracy: 0.5000\n",
      "Epoch 9/40\n",
      "3/3 [==============================] - 0s 13ms/step - loss: 1.2433 - categorical_accuracy: 0.4533 - val_loss: 1.4963 - val_categorical_accuracy: 0.5000\n",
      "Epoch 10/40\n",
      "3/3 [==============================] - 0s 13ms/step - loss: 1.2014 - categorical_accuracy: 0.5000 - val_loss: 1.4572 - val_categorical_accuracy: 0.5000\n",
      "Epoch 11/40\n",
      "3/3 [==============================] - 0s 13ms/step - loss: 1.1555 - categorical_accuracy: 0.5000 - val_loss: 1.4252 - val_categorical_accuracy: 0.5000\n",
      "Epoch 12/40\n",
      "3/3 [==============================] - ETA: 0s - loss: 1.1996 - categorical_accuracy: 0.45 - 0s 13ms/step - loss: 1.2470 - categorical_accuracy: 0.4800 - val_loss: 1.3900 - val_categorical_accuracy: 0.5000\n",
      "Epoch 13/40\n",
      "3/3 [==============================] - 0s 14ms/step - loss: 1.1800 - categorical_accuracy: 0.5133 - val_loss: 1.3660 - val_categorical_accuracy: 0.5000\n",
      "Epoch 14/40\n",
      "3/3 [==============================] - 0s 13ms/step - loss: 1.2259 - categorical_accuracy: 0.4200 - val_loss: 1.3441 - val_categorical_accuracy: 0.5000\n",
      "Epoch 15/40\n",
      "3/3 [==============================] - 0s 14ms/step - loss: 1.2409 - categorical_accuracy: 0.4267 - val_loss: 1.3220 - val_categorical_accuracy: 0.5000\n",
      "Epoch 16/40\n",
      "3/3 [==============================] - 0s 14ms/step - loss: 1.1329 - categorical_accuracy: 0.4867 - val_loss: 1.3018 - val_categorical_accuracy: 0.5000\n",
      "Epoch 17/40\n",
      "3/3 [==============================] - 0s 13ms/step - loss: 1.1474 - categorical_accuracy: 0.4600 - val_loss: 1.2858 - val_categorical_accuracy: 0.4800\n",
      "Epoch 18/40\n",
      "3/3 [==============================] - 0s 14ms/step - loss: 1.1963 - categorical_accuracy: 0.4800 - val_loss: 1.2694 - val_categorical_accuracy: 0.4600\n",
      "Epoch 19/40\n",
      "3/3 [==============================] - 0s 13ms/step - loss: 1.1698 - categorical_accuracy: 0.4933 - val_loss: 1.2512 - val_categorical_accuracy: 0.4600\n",
      "Epoch 20/40\n",
      "3/3 [==============================] - 0s 13ms/step - loss: 1.1844 - categorical_accuracy: 0.5000 - val_loss: 1.2318 - val_categorical_accuracy: 0.4600\n",
      "Epoch 21/40\n",
      "3/3 [==============================] - 0s 13ms/step - loss: 1.1233 - categorical_accuracy: 0.5200 - val_loss: 1.2150 - val_categorical_accuracy: 0.4600\n",
      "Epoch 22/40\n",
      "3/3 [==============================] - 0s 14ms/step - loss: 1.2654 - categorical_accuracy: 0.4667 - val_loss: 1.1998 - val_categorical_accuracy: 0.4400\n",
      "Epoch 23/40\n",
      "3/3 [==============================] - 0s 13ms/step - loss: 1.1387 - categorical_accuracy: 0.5267 - val_loss: 1.1851 - val_categorical_accuracy: 0.4400\n",
      "Epoch 24/40\n",
      "3/3 [==============================] - 0s 13ms/step - loss: 1.1096 - categorical_accuracy: 0.4933 - val_loss: 1.1754 - val_categorical_accuracy: 0.4400\n",
      "Epoch 25/40\n",
      "3/3 [==============================] - 0s 14ms/step - loss: 1.1176 - categorical_accuracy: 0.5333 - val_loss: 1.1612 - val_categorical_accuracy: 0.4400\n",
      "Epoch 26/40\n",
      "3/3 [==============================] - 0s 13ms/step - loss: 1.1560 - categorical_accuracy: 0.5267 - val_loss: 1.1551 - val_categorical_accuracy: 0.4600\n",
      "Epoch 27/40\n",
      "3/3 [==============================] - 0s 13ms/step - loss: 1.1319 - categorical_accuracy: 0.5467 - val_loss: 1.1433 - val_categorical_accuracy: 0.4800\n",
      "Epoch 28/40\n",
      "3/3 [==============================] - 0s 13ms/step - loss: 1.1406 - categorical_accuracy: 0.5400 - val_loss: 1.1348 - val_categorical_accuracy: 0.4800\n",
      "Epoch 29/40\n",
      "3/3 [==============================] - 0s 13ms/step - loss: 1.1907 - categorical_accuracy: 0.4667 - val_loss: 1.1248 - val_categorical_accuracy: 0.4800\n",
      "Epoch 30/40\n",
      "3/3 [==============================] - 0s 13ms/step - loss: 1.1986 - categorical_accuracy: 0.4933 - val_loss: 1.1157 - val_categorical_accuracy: 0.5000\n",
      "Epoch 31/40\n",
      "3/3 [==============================] - 0s 13ms/step - loss: 1.1576 - categorical_accuracy: 0.4667 - val_loss: 1.1054 - val_categorical_accuracy: 0.5000\n",
      "Epoch 32/40\n",
      "3/3 [==============================] - 0s 13ms/step - loss: 1.0778 - categorical_accuracy: 0.5133 - val_loss: 1.0989 - val_categorical_accuracy: 0.5200\n",
      "Epoch 33/40\n",
      "3/3 [==============================] - 0s 13ms/step - loss: 1.2222 - categorical_accuracy: 0.4333 - val_loss: 1.0903 - val_categorical_accuracy: 0.5200\n",
      "Epoch 34/40\n",
      "3/3 [==============================] - 0s 13ms/step - loss: 1.1535 - categorical_accuracy: 0.4933 - val_loss: 1.0832 - val_categorical_accuracy: 0.5200\n",
      "Epoch 35/40\n",
      "3/3 [==============================] - 0s 13ms/step - loss: 1.1830 - categorical_accuracy: 0.5133 - val_loss: 1.0783 - val_categorical_accuracy: 0.5200\n",
      "Epoch 36/40\n",
      "3/3 [==============================] - 0s 14ms/step - loss: 1.1124 - categorical_accuracy: 0.5067 - val_loss: 1.0744 - val_categorical_accuracy: 0.5200\n",
      "Epoch 37/40\n",
      "3/3 [==============================] - 0s 13ms/step - loss: 1.1177 - categorical_accuracy: 0.5067 - val_loss: 1.0680 - val_categorical_accuracy: 0.5200\n",
      "Epoch 38/40\n",
      "3/3 [==============================] - 0s 14ms/step - loss: 1.1149 - categorical_accuracy: 0.5000 - val_loss: 1.0616 - val_categorical_accuracy: 0.5200\n",
      "Epoch 39/40\n",
      "3/3 [==============================] - 0s 13ms/step - loss: 1.1116 - categorical_accuracy: 0.4933 - val_loss: 1.0586 - val_categorical_accuracy: 0.5200\n",
      "Epoch 40/40\n",
      "3/3 [==============================] - 0s 14ms/step - loss: 1.1197 - categorical_accuracy: 0.5067 - val_loss: 1.0540 - val_categorical_accuracy: 0.5200\n"
     ]
    },
    {
     "data": {
      "image/png": "[encoded data removed]",
      "text/plain": [
       "<Figure size 360x360 with 1 Axes>"
      ]
     },
     "metadata": {
      "needs_background": "light"
     },
     "output_type": "display_data"
    },
    {
     "data": {
      "image/png": "[encoded data removed]",
      "text/plain": [
       "<Figure size 360x360 with 1 Axes>"
      ]
     },
     "metadata": {
      "needs_background": "light"
     },
     "output_type": "display_data"
    },
    {
     "name": "stdout",
     "output_type": "stream",
     "text": [
      "0.5199999809265137\n"
     ]
    }
   ],
   "source": [
    "##############################################\n",
    "############     TRAIN MODEL     #############\n",
    "##############################################\n",
    "\n",
    "batch_size = 64# len(val_X)\n",
    "print(\"Batch size: {}\".format(batch_size))\n",
    "\n",
    "history = model.fit(X,\n",
    "                    y,\n",
    "                    validation_data=(val_X, val_y),\n",
    "                    batch_size=batch_size,\n",
    "                    epochs=40,\n",
    "                    shuffle=True,\n",
    "                    #callbacks = [reduce_lr]\n",
    "                    )\n",
    "\n",
    "showHistory(history)      \n",
    "try:    \n",
    "    acc = max(history.history['val_accuracy'])\n",
    "except:\n",
    "    acc = max(history.history['val_categorical_accuracy'])\n",
    "\n",
    "print(acc)"
   ]
  },
  {
   "cell_type": "code",
   "execution_count": null,
   "metadata": {},
   "outputs": [],
   "source": [
    "skf = StratifiedKFold(n_splits=10)\n",
    "#tf.config.run_functions_eagerly(True)\n",
    "\n",
    "for train, test in skf.split(X, y.argmax(1)):\n",
    "  \n",
    "    X_train = X[train]\n",
    "    X_test  = X[test]\n",
    "    y_train = y[train]\n",
    "    y_test  = y[test]\n",
    "\n",
    "    #batch_size = 30 #len(X_train)\n",
    "    print(\"Batch size: {}\".format(batch_size))\n",
    "\n",
    "\n",
    "    tuner = kt.tuners.RandomSearch(\n",
    "        get_hyper_model,\n",
    "        objective='val_accuracy',\n",
    "        max_trials=100)\n",
    "\n",
    "    tuner.search(X_train,\n",
    "                y_train,\n",
    "                validation_data=(X_test, y_test),\n",
    "                batch_size=batch_size,\n",
    "                epochs=20,\n",
    "                shuffle=True)\n",
    "\n",
    "    best_model = tuner.get_best_models()[0]\n",
    "                             \n",
    "    break\n",
    "   "
   ]
  },
  {
   "cell_type": "code",
   "execution_count": null,
   "metadata": {},
   "outputs": [],
   "source": [
    "tuner.results_summary()"
   ]
  },
  {
   "cell_type": "code",
   "execution_count": 99,
   "metadata": {},
   "outputs": [
    {
     "data": {
      "application/vnd.jupyter.widget-view+json": {
       "model_id": "47d088c82ee3452e8d55031bfb45a69f",
       "version_major": 2,
       "version_minor": 0
      },
      "text/plain": [
       "  0%|          | 0/3 [00:00<?, ?it/s]"
      ]
     },
     "metadata": {},
     "output_type": "display_data"
    },
    {
     "name": "stdout",
     "output_type": "stream",
     "text": [
      "####################\n",
      "Accuracy : 68.0%\n",
      "[[22  3]\n",
      " [13 12]]\n",
      "\n",
      "####################\n",
      "Accuracy : 57.99999999999999%\n",
      "[[13 12]\n",
      " [ 9 16]]\n",
      "\n",
      "####################\n",
      "Accuracy : 54.0%\n",
      "[[ 9 16]\n",
      " [ 7 18]]\n",
      "\n",
      "Global accuracy: 59.67%\n",
      "          Accuracy\n",
      "Subject           \n",
      "S001     59.666667\n"
     ]
    }
   ],
   "source": [
    "evaluate_set(model, train_sessions, classes, post_fix, input_length=input_length, log = True)"
   ]
  },
  {
   "cell_type": "code",
   "execution_count": 100,
   "metadata": {},
   "outputs": [
    {
     "data": {
      "application/vnd.jupyter.widget-view+json": {
       "model_id": "9dc717fa3c0a4c3698612f4e0f5da531",
       "version_major": 2,
       "version_minor": 0
      },
      "text/plain": [
       "  0%|          | 0/1 [00:00<?, ?it/s]"
      ]
     },
     "metadata": {},
     "output_type": "display_data"
    },
    {
     "name": "stdout",
     "output_type": "stream",
     "text": [
      "####################\n",
      "Accuracy : 44.0%\n",
      "[[14 11]\n",
      " [17  8]]\n",
      "\n",
      "Global accuracy: 44.0%\n",
      "         Accuracy\n",
      "Subject          \n",
      "S001           44\n"
     ]
    }
   ],
   "source": [
    "evaluate_set(model, val_sessions, classes,  post_fix, input_length=input_length, log = True)"
   ]
  },
  {
   "cell_type": "code",
   "execution_count": null,
   "metadata": {},
   "outputs": [],
   "source": []
  }
 ],
 "metadata": {
  "interpreter": {
   "hash": "a81b55685ebb6380129efe90592a7e4f2f571da2ab32c8bbcf8b970d830ead19"
  },
  "kernelspec": {
   "display_name": "Python 3.7.6 64-bit",
   "name": "python3"
  },
  "language_info": {
   "codemirror_mode": {
    "name": "ipython",
    "version": 3
   },
   "file_extension": ".py",
   "mimetype": "text/x-python",
   "name": "python",
   "nbconvert_exporter": "python",
   "pygments_lexer": "ipython3",
   "version": "3.7.0"
  }
 },
 "nbformat": 4,
 "nbformat_minor": 4
}
