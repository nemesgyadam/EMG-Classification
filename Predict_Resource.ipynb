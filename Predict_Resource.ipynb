{
 "cells": [
  {
   "cell_type": "code",
   "execution_count": 3,
   "metadata": {},
   "outputs": [],
   "source": [
    "import numpy as np\n",
    "import tensorflow as tf\n",
    "from tensorflow.keras.models import load_model\n",
    "\n",
    "from joblib import load\n",
    "\n",
    "%load_ext autoreload\n",
    "%autoreload 2\n",
    "\n",
    "\n",
    "from utils.svm  import preProcess as preProcess_svm\n",
    "from utils.deep import preProcess as preProcess_deep\n",
    "signal_length = 100\n",
    "resource_path = 'resources/'\n",
    "train_sessions = ['session_0','session_1', 'session_2', 'session_3']\n",
    "test_sessions  = ['session_0','session_1', 'session_2', 'session_3', 'session_4']\n"
   ]
  },
  {
   "cell_type": "code",
   "execution_count": 4,
   "metadata": {},
   "outputs": [],
   "source": [
    "svm = load('saved_models/svm_acc_95.joblib')"
   ]
  },
  {
   "cell_type": "code",
   "execution_count": null,
   "metadata": {},
   "outputs": [],
   "source": [
    "deep = load_model('saved_models/dense_val_acc_94')"
   ]
  },
  {
   "cell_type": "code",
   "execution_count": 6,
   "metadata": {},
   "outputs": [],
   "source": [
    "def evaluate(model, session, preProcess):\n",
    "    rests    = np.load(resource_path+session+'/Rest.npy')\n",
    "    eyebrows = np.load(resource_path+session+'/Eyebrow.npy')\n",
    "    chews    = np.load(resource_path+session+'/Chew.npy')\n",
    "\n",
    "    rests = preProcess(rests, signal_length)\n",
    "    eyebrows = preProcess(eyebrows, signal_length)\n",
    "    chews = preProcess(chews, signal_length)\n",
    "\n",
    "    rests = rests.reshape(-1,6*signal_length)\n",
    "    eyebrows = eyebrows.reshape(-1,6*signal_length)\n",
    "    chews = chews.reshape(-1,6*signal_length)\n",
    "    \n",
    "\n",
    "    correct = 0\n",
    "    incorrect = 0\n",
    "\n",
    "    for r in rests:\n",
    "        if abs(0-model.predict([r]))<0.5:\n",
    "            correct+=1\n",
    "        else:\n",
    "            incorrect+=1\n",
    "    \n",
    "    for r in eyebrows:\n",
    "        if abs(1-model.predict([r]))<0.5:\n",
    "            correct+=1\n",
    "        else:\n",
    "            incorrect+=1\n",
    "    \n",
    "    for r in chews:\n",
    "        if abs(2-model.predict([r]))<0.5:\n",
    "            correct+=1\n",
    "        else:\n",
    "            incorrect+=1\n",
    "\n",
    "            \n",
    "    print('Total:{}, correct:{}, acc:{}%'.format(correct+incorrect,correct,round(correct/(correct+incorrect),2)*100))\n",
    "\n",
    "    "
   ]
  },
  {
   "cell_type": "code",
   "execution_count": 7,
   "metadata": {},
   "outputs": [
    {
     "name": "stdout",
     "output_type": "stream",
     "text": [
      "Evaluating session: session_0\n",
      "Total:60, correct:53, acc:88.0%\n",
      "Evaluating session: session_1\n",
      "Total:60, correct:59, acc:98.0%\n",
      "Evaluating session: session_2\n",
      "Total:60, correct:59, acc:98.0%\n",
      "Evaluating session: session_3\n",
      "Total:60, correct:49, acc:82.0%\n",
      "Evaluating session: session_4\n",
      "Total:60, correct:50, acc:83.0%\n"
     ]
    }
   ],
   "source": [
    "for session in test_sessions:\n",
    "    print(\"Evaluating session: {}\".format(session))\n",
    "    evaluate(svm, session, preProcess_svm)"
   ]
  },
  {
   "cell_type": "code",
   "execution_count": 15,
   "metadata": {},
   "outputs": [
    {
     "data": {
      "text/plain": [
       "<tf.Tensor: shape=(20, 3), dtype=float32, numpy=\n",
       "array([[0.6712174 , 0.01813878, 0.3106438 ],\n",
       "       [0.5977446 , 0.10293829, 0.29931706],\n",
       "       [0.6565697 , 0.0176442 , 0.32578602],\n",
       "       [0.2817491 , 0.15436552, 0.5638854 ],\n",
       "       [0.2708763 , 0.07831372, 0.65081   ],\n",
       "       [0.9507375 , 0.01311664, 0.03614579],\n",
       "       [0.35918576, 0.04596799, 0.5948462 ],\n",
       "       [0.71605545, 0.00365663, 0.28028795],\n",
       "       [0.38748685, 0.09601411, 0.51649904],\n",
       "       [0.33596292, 0.09722403, 0.566813  ],\n",
       "       [0.58162355, 0.17651777, 0.24185865],\n",
       "       [0.62784046, 0.01942797, 0.3527316 ],\n",
       "       [0.483441  , 0.06381889, 0.45274013],\n",
       "       [0.12417678, 0.7144085 , 0.16141464],\n",
       "       [0.33047998, 0.16122901, 0.50829095],\n",
       "       [0.53225505, 0.01126558, 0.45647943],\n",
       "       [0.14727241, 0.01674074, 0.83598685],\n",
       "       [0.1031239 , 0.00382676, 0.89304936],\n",
       "       [0.5615094 , 0.00513455, 0.43335608],\n",
       "       [0.11813476, 0.02582375, 0.8560415 ]], dtype=float32)>"
      ]
     },
     "execution_count": 15,
     "metadata": {},
     "output_type": "execute_result"
    }
   ],
   "source": [
    "rests    = np.load(resource_path+test_sessions[-1]+'/Rest.npy')\n",
    "rests_to_deep = preProcess_deep(rests, 200)\n",
    "deep(rests_to_deep)"
   ]
  },
  {
   "cell_type": "code",
   "execution_count": null,
   "metadata": {},
   "outputs": [],
   "source": []
  }
 ],
 "metadata": {
  "interpreter": {
   "hash": "a81b55685ebb6380129efe90592a7e4f2f571da2ab32c8bbcf8b970d830ead19"
  },
  "kernelspec": {
   "display_name": "Python 3.7.6 64-bit",
   "language": "python",
   "name": "python3"
  },
  "language_info": {
   "codemirror_mode": {
    "name": "ipython",
    "version": 3
   },
   "file_extension": ".py",
   "mimetype": "text/x-python",
   "name": "python",
   "nbconvert_exporter": "python",
   "pygments_lexer": "ipython3",
   "version": "3.7.6"
  },
  "orig_nbformat": 4
 },
 "nbformat": 4,
 "nbformat_minor": 2
}
