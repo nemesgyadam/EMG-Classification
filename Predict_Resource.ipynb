{
 "cells": [
  {
   "cell_type": "code",
   "execution_count": 1,
   "metadata": {},
   "outputs": [
    {
     "name": "stderr",
     "output_type": "stream",
     "text": [
      "C:\\Users\\Nemes\\anaconda3\\envs\\tf\\lib\\site-packages\\numpy\\_distributor_init.py:32: UserWarning: loaded more than 1 DLL from .libs:\n",
      "C:\\Users\\Nemes\\anaconda3\\envs\\tf\\lib\\site-packages\\numpy\\.libs\\libopenblas.PYQHXLVVQ7VESDPUVUADXEVJOBGHJPAY.gfortran-win_amd64.dll\n",
      "C:\\Users\\Nemes\\anaconda3\\envs\\tf\\lib\\site-packages\\numpy\\.libs\\libopenblas.WCDJNK7YVMPZQ2ME2ZZHJJRJ3JIKNDB7.gfortran-win_amd64.dll\n",
      "C:\\Users\\Nemes\\anaconda3\\envs\\tf\\lib\\site-packages\\numpy\\.libs\\libopenblas.XWYDX2IKJW2NMTWSFYNGFUWKQU3LYTCZ.gfortran-win_amd64.dll\n",
      "  stacklevel=1)\n"
     ]
    }
   ],
   "source": [
    "import numpy as np\n",
    "import tensorflow as tf\n",
    "from tensorflow.keras.models import load_model\n",
    "\n",
    "from joblib import load\n",
    "\n",
    "%load_ext autoreload\n",
    "%autoreload 2\n",
    "\n",
    "\n",
    "from utils.svm  import preProcess as preProcess_svm\n",
    "from utils.deep import preProcess as preProcess_deep\n",
    "input_length = 100\n",
    "resource_path = 'resources/'\n",
    "train_sessions = ['session_0','session_1', 'session_2', 'session_3']\n",
    "test_sessions  = ['session_0','session_1', 'session_2', 'session_3', 'session_4']\n"
   ]
  },
  {
   "cell_type": "code",
   "execution_count": 2,
   "metadata": {},
   "outputs": [],
   "source": [
    "svm = load('saved_models/svm_acc_98_1sec.joblib')"
   ]
  },
  {
   "cell_type": "code",
   "execution_count": null,
   "metadata": {},
   "outputs": [],
   "source": [
    "deep = load_model('saved_models/dense_val_acc_94')"
   ]
  },
  {
   "cell_type": "code",
   "execution_count": 3,
   "metadata": {},
   "outputs": [],
   "source": [
    "def evaluate(model, session, preProcess):\n",
    "    rests    = np.load(resource_path+session+'/Rest.npy')\n",
    "    eyebrows = np.load(resource_path+session+'/Eyebrow.npy')\n",
    "    chews    = np.load(resource_path+session+'/Chew.npy')\n",
    "\n",
    "    rests = preProcess(rests, input_length)\n",
    "    eyebrows = preProcess(eyebrows, input_length)\n",
    "    chews = preProcess(chews, input_length)\n",
    "\n",
    "    rests = rests.reshape(-1,6*input_length)\n",
    "    eyebrows = eyebrows.reshape(-1,6*input_length)\n",
    "    chews = chews.reshape(-1,6*input_length)\n",
    "    \n",
    "\n",
    "    correct = 0\n",
    "    incorrect = 0\n",
    "\n",
    "    for r in rests:\n",
    "        if abs(0-model.predict([r]))<0.5:\n",
    "            correct+=1\n",
    "        else:\n",
    "            incorrect+=1\n",
    "    \n",
    "    for r in eyebrows:\n",
    "        if abs(1-model.predict([r]))<0.5:\n",
    "            correct+=1\n",
    "        else:\n",
    "            incorrect+=1\n",
    "    \n",
    "    for r in chews:\n",
    "        if abs(2-model.predict([r]))<0.5:\n",
    "            correct+=1\n",
    "        else:\n",
    "            incorrect+=1\n",
    "\n",
    "            \n",
    "    print('Total:{}, correct:{}, acc:{}%'.format(correct+incorrect,correct,round(correct/(correct+incorrect),2)*100))\n",
    "\n",
    "    "
   ]
  },
  {
   "cell_type": "code",
   "execution_count": 4,
   "metadata": {},
   "outputs": [
    {
     "name": "stdout",
     "output_type": "stream",
     "text": [
      "Evaluating session: session_0\n",
      "Total:60, correct:19, acc:32.0%\n",
      "Evaluating session: session_1\n",
      "Total:60, correct:22, acc:37.0%\n",
      "Evaluating session: session_2\n",
      "Total:60, correct:23, acc:38.0%\n",
      "Evaluating session: session_3\n",
      "Total:60, correct:18, acc:30.0%\n",
      "Evaluating session: session_4\n",
      "Total:60, correct:16, acc:27.0%\n"
     ]
    }
   ],
   "source": [
    "for session in test_sessions:\n",
    "    print(\"Evaluating session: {}\".format(session))\n",
    "    evaluate(svm, session, preProcess_svm)"
   ]
  },
  {
   "cell_type": "code",
   "execution_count": 5,
   "metadata": {},
   "outputs": [
    {
     "ename": "NameError",
     "evalue": "name 'deep' is not defined",
     "output_type": "error",
     "traceback": [
      "\u001b[1;31m---------------------------------------------------------------------------\u001b[0m",
      "\u001b[1;31mNameError\u001b[0m                                 Traceback (most recent call last)",
      "\u001b[1;32m<ipython-input-5-4cd36551c9d1>\u001b[0m in \u001b[0;36m<module>\u001b[1;34m\u001b[0m\n\u001b[0;32m      1\u001b[0m \u001b[0mrests\u001b[0m    \u001b[1;33m=\u001b[0m \u001b[0mnp\u001b[0m\u001b[1;33m.\u001b[0m\u001b[0mload\u001b[0m\u001b[1;33m(\u001b[0m\u001b[0mresource_path\u001b[0m\u001b[1;33m+\u001b[0m\u001b[0mtest_sessions\u001b[0m\u001b[1;33m[\u001b[0m\u001b[1;33m-\u001b[0m\u001b[1;36m1\u001b[0m\u001b[1;33m]\u001b[0m\u001b[1;33m+\u001b[0m\u001b[1;34m'/Rest.npy'\u001b[0m\u001b[1;33m)\u001b[0m\u001b[1;33m\u001b[0m\u001b[0m\n\u001b[0;32m      2\u001b[0m \u001b[0mrests_to_deep\u001b[0m \u001b[1;33m=\u001b[0m \u001b[0mpreProcess_deep\u001b[0m\u001b[1;33m(\u001b[0m\u001b[0mrests\u001b[0m\u001b[1;33m,\u001b[0m \u001b[1;36m200\u001b[0m\u001b[1;33m)\u001b[0m\u001b[1;33m\u001b[0m\u001b[0m\n\u001b[1;32m----> 3\u001b[1;33m \u001b[0mdeep\u001b[0m\u001b[1;33m(\u001b[0m\u001b[0mrests_to_deep\u001b[0m\u001b[1;33m)\u001b[0m\u001b[1;33m\u001b[0m\u001b[0m\n\u001b[0m",
      "\u001b[1;31mNameError\u001b[0m: name 'deep' is not defined"
     ]
    }
   ],
   "source": [
    "rests    = np.load(resource_path+test_sessions[-1]+'/Rest.npy')\n",
    "rests_to_deep = preProcess_deep(rests, 200)\n",
    "deep(rests_to_deep)"
   ]
  },
  {
   "cell_type": "code",
   "execution_count": null,
   "metadata": {},
   "outputs": [],
   "source": []
  }
 ],
 "metadata": {
  "interpreter": {
   "hash": "a81b55685ebb6380129efe90592a7e4f2f571da2ab32c8bbcf8b970d830ead19"
  },
  "kernelspec": {
   "display_name": "Python 3.7.6 64-bit",
   "language": "python",
   "name": "python3"
  },
  "language_info": {
   "codemirror_mode": {
    "name": "ipython",
    "version": 3
   },
   "file_extension": ".py",
   "mimetype": "text/x-python",
   "name": "python",
   "nbconvert_exporter": "python",
   "pygments_lexer": "ipython3",
   "version": "3.7.0"
  },
  "orig_nbformat": 4
 },
 "nbformat": 4,
 "nbformat_minor": 2
}
