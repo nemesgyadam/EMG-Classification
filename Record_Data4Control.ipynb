{
 "cells": [
  {
   "cell_type": "code",
   "execution_count": 1,
   "metadata": {},
   "outputs": [
    {
     "name": "stderr",
     "output_type": "stream",
     "text": [
      "C:\\Users\\Nemes\\anaconda3\\envs\\tf\\lib\\site-packages\\numpy\\_distributor_init.py:32: UserWarning: loaded more than 1 DLL from .libs:\n",
      "C:\\Users\\Nemes\\anaconda3\\envs\\tf\\lib\\site-packages\\numpy\\.libs\\libopenblas.PYQHXLVVQ7VESDPUVUADXEVJOBGHJPAY.gfortran-win_amd64.dll\n",
      "C:\\Users\\Nemes\\anaconda3\\envs\\tf\\lib\\site-packages\\numpy\\.libs\\libopenblas.WCDJNK7YVMPZQ2ME2ZZHJJRJ3JIKNDB7.gfortran-win_amd64.dll\n",
      "C:\\Users\\Nemes\\anaconda3\\envs\\tf\\lib\\site-packages\\numpy\\.libs\\libopenblas.XWYDX2IKJW2NMTWSFYNGFUWKQU3LYTCZ.gfortran-win_amd64.dll\n",
      "  stacklevel=1)\n"
     ]
    }
   ],
   "source": [
    "import os\n",
    "import time\n",
    "import numpy as np\n",
    "from time import perf_counter\n",
    "from IPython.display import clear_output\n",
    "\n",
    "import brainflow\n",
    "from brainflow.data_filter import DataFilter, FilterTypes, AggOperations\n",
    "from brainflow.board_shim import BoardShim, BrainFlowInputParams, BoardIds, BrainFlowError\n",
    "\n",
    "from tqdm.notebook import tqdm\n",
    "import datetime\n",
    "\n",
    "\n",
    "\n",
    "from matplotlib import pyplot as plt\n",
    "from sklearn.model_selection import train_test_split\n",
    "import itertools\n",
    "from sklearn.utils import shuffle\n",
    "from scipy import signal\n",
    "\n",
    "\n",
    "%matplotlib qt\n",
    "\n",
    "%load_ext autoreload\n",
    "%autoreload 2\n",
    "\n",
    "\n",
    "from utils.svm import preProcess_1, DCFilter\n",
    "from utils.visualize import Vis, VisAction, showMe, stat"
   ]
  },
  {
   "cell_type": "code",
   "execution_count": 2,
   "metadata": {},
   "outputs": [],
   "source": [
    "res_dir = 'C:/resources/EMG/'+datetime.datetime.now().strftime(\"%m_%d\")+'/'\n",
    "try:\n",
    "    os.mkdir(res_dir)\n",
    "except:\n",
    "    ..."
   ]
  },
  {
   "cell_type": "code",
   "execution_count": 3,
   "metadata": {},
   "outputs": [
    {
     "name": "stdout",
     "output_type": "stream",
     "text": [
      "Device ready (sampling rate: 500hz)\n"
     ]
    }
   ],
   "source": [
    "####      INIT BOARD        #######\n",
    "BoardShim.enable_dev_board_logger()\n",
    "params = BrainFlowInputParams()\n",
    "board = BoardShim(BoardIds.MINDROVE_WIFI_BOARD, params)\n",
    "\n",
    "\n",
    "try:\n",
    "    board.stop_stream()\n",
    "    board.release_session()\n",
    "except:\n",
    "    ...\n",
    "    \n",
    "    \n",
    "board.prepare_session()\n",
    "sample_rate = board.get_sampling_rate(16)\n",
    "n_channels  = 6\n",
    "\n",
    "print(\"Device ready (sampling rate: {}hz)\".format(sample_rate))"
   ]
  },
  {
   "cell_type": "code",
   "execution_count": 4,
   "metadata": {},
   "outputs": [],
   "source": [
    "length_of_signal = 1 #seconds\n",
    "num_points = int(sample_rate * length_of_signal)\n",
    "\n",
    "\n",
    "record_length = int(sample_rate * length_of_signal*2)"
   ]
  },
  {
   "cell_type": "code",
   "execution_count": 7,
   "metadata": {
    "scrolled": true
   },
   "outputs": [
    {
     "ename": "BrainFlowError",
     "evalue": "STREAM_ALREADY_RUN_ERROR:8 unable to start streaming session",
     "output_type": "error",
     "traceback": [
      "\u001b[1;31m---------------------------------------------------------------------------\u001b[0m",
      "\u001b[1;31mBrainFlowError\u001b[0m                            Traceback (most recent call last)",
      "\u001b[1;32m<ipython-input-7-8d89a2b1de5e>\u001b[0m in \u001b[0;36m<module>\u001b[1;34m\u001b[0m\n\u001b[0;32m     37\u001b[0m     \u001b[1;32mreturn\u001b[0m \u001b[0mresults\u001b[0m\u001b[1;33m,\u001b[0m \u001b[0mclasses\u001b[0m\u001b[1;33m\u001b[0m\u001b[0m\n\u001b[0;32m     38\u001b[0m \u001b[1;33m\u001b[0m\u001b[0m\n\u001b[1;32m---> 39\u001b[1;33m \u001b[0mresults\u001b[0m\u001b[1;33m,\u001b[0m \u001b[0mclasses\u001b[0m \u001b[1;33m=\u001b[0m \u001b[0mCollectData\u001b[0m\u001b[1;33m(\u001b[0m\u001b[0mn_samples_per_class\u001b[0m\u001b[1;33m=\u001b[0m\u001b[1;36m30\u001b[0m\u001b[1;33m)\u001b[0m  \u001b[1;31m#5min\u001b[0m\u001b[1;33m\u001b[0m\u001b[0m\n\u001b[0m",
      "\u001b[1;32m<ipython-input-7-8d89a2b1de5e>\u001b[0m in \u001b[0;36mCollectData\u001b[1;34m(classes, n_samples_per_class)\u001b[0m\n\u001b[0;32m     15\u001b[0m     \u001b[0mtasks\u001b[0m \u001b[1;33m=\u001b[0m \u001b[0mGenerateOrder\u001b[0m\u001b[1;33m(\u001b[0m\u001b[0mlen\u001b[0m\u001b[1;33m(\u001b[0m\u001b[0mclasses\u001b[0m\u001b[1;33m)\u001b[0m\u001b[1;33m,\u001b[0m\u001b[0mn_samples_per_class\u001b[0m\u001b[1;33m)\u001b[0m\u001b[1;33m\u001b[0m\u001b[0m\n\u001b[0;32m     16\u001b[0m \u001b[1;33m\u001b[0m\u001b[0m\n\u001b[1;32m---> 17\u001b[1;33m     \u001b[0mboard\u001b[0m\u001b[1;33m.\u001b[0m\u001b[0mstart_stream\u001b[0m\u001b[1;33m(\u001b[0m\u001b[1;36m500\u001b[0m\u001b[1;33m*\u001b[0m\u001b[1;36m60\u001b[0m\u001b[1;33m)\u001b[0m\u001b[1;33m\u001b[0m\u001b[0m\n\u001b[0m\u001b[0;32m     18\u001b[0m     \u001b[0mprint\u001b[0m\u001b[1;33m(\u001b[0m\u001b[1;34m\"Setting up...\"\u001b[0m\u001b[1;33m)\u001b[0m\u001b[1;33m\u001b[0m\u001b[0m\n\u001b[0;32m     19\u001b[0m     \u001b[0mtime\u001b[0m\u001b[1;33m.\u001b[0m\u001b[0msleep\u001b[0m\u001b[1;33m(\u001b[0m\u001b[1;36m10\u001b[0m\u001b[1;33m)\u001b[0m\u001b[1;33m\u001b[0m\u001b[0m\n",
      "\u001b[1;32m~\\anaconda3\\envs\\tf\\lib\\site-packages\\brainflow\\board_shim.py\u001b[0m in \u001b[0;36mstart_stream\u001b[1;34m(self, num_samples, streamer_params)\u001b[0m\n\u001b[0;32m    918\u001b[0m         \u001b[0mres\u001b[0m \u001b[1;33m=\u001b[0m \u001b[0mBoardControllerDLL\u001b[0m\u001b[1;33m.\u001b[0m\u001b[0mget_instance\u001b[0m\u001b[1;33m(\u001b[0m\u001b[1;33m)\u001b[0m\u001b[1;33m.\u001b[0m\u001b[0mstart_stream\u001b[0m\u001b[1;33m(\u001b[0m\u001b[0mnum_samples\u001b[0m\u001b[1;33m,\u001b[0m \u001b[0mstreamer\u001b[0m\u001b[1;33m,\u001b[0m \u001b[0mself\u001b[0m\u001b[1;33m.\u001b[0m\u001b[0mboard_id\u001b[0m\u001b[1;33m,\u001b[0m \u001b[0mself\u001b[0m\u001b[1;33m.\u001b[0m\u001b[0minput_json\u001b[0m\u001b[1;33m)\u001b[0m\u001b[1;33m\u001b[0m\u001b[0m\n\u001b[0;32m    919\u001b[0m         \u001b[1;32mif\u001b[0m \u001b[0mres\u001b[0m \u001b[1;33m!=\u001b[0m \u001b[0mBrainflowExitCodes\u001b[0m\u001b[1;33m.\u001b[0m\u001b[0mSTATUS_OK\u001b[0m\u001b[1;33m.\u001b[0m\u001b[0mvalue\u001b[0m\u001b[1;33m:\u001b[0m\u001b[1;33m\u001b[0m\u001b[0m\n\u001b[1;32m--> 920\u001b[1;33m             \u001b[1;32mraise\u001b[0m \u001b[0mBrainFlowError\u001b[0m\u001b[1;33m(\u001b[0m\u001b[1;34m'unable to start streaming session'\u001b[0m\u001b[1;33m,\u001b[0m \u001b[0mres\u001b[0m\u001b[1;33m)\u001b[0m\u001b[1;33m\u001b[0m\u001b[0m\n\u001b[0m\u001b[0;32m    921\u001b[0m \u001b[1;33m\u001b[0m\u001b[0m\n\u001b[0;32m    922\u001b[0m     \u001b[1;32mdef\u001b[0m \u001b[0mstop_stream\u001b[0m\u001b[1;33m(\u001b[0m\u001b[0mself\u001b[0m\u001b[1;33m)\u001b[0m \u001b[1;33m->\u001b[0m \u001b[1;32mNone\u001b[0m\u001b[1;33m:\u001b[0m\u001b[1;33m\u001b[0m\u001b[0m\n",
      "\u001b[1;31mBrainFlowError\u001b[0m: STREAM_ALREADY_RUN_ERROR:8 unable to start streaming session"
     ]
    }
   ],
   "source": [
    "def GenerateOrder(n_classes, n_samples_per_class = 1):\n",
    "    lists = []\n",
    "    for i in range(n_classes):\n",
    "        tmp = np.empty([n_samples_per_class])\n",
    "        tmp.fill(i)\n",
    "        lists.append(tmp)\n",
    "    order = np.vstack(lists).ravel().astype(np.int32)\n",
    "    np.random.shuffle(order)\n",
    "    return order\n",
    "\n",
    "\n",
    "def CollectData(classes = ['Eyebrow','Smile', 'Chew'],n_samples_per_class = 1):\n",
    "    classes = ['Rest'] + classes\n",
    "    results = [[] for i in range(len(classes))]\n",
    "    tasks = GenerateOrder(len(classes),n_samples_per_class)\n",
    "  \n",
    "    board.start_stream(500*60) \n",
    "    print(\"Setting up...\")\n",
    "    time.sleep(10)\n",
    "    for i, task in enumerate(tasks):\n",
    "        #clear_output()\n",
    "        print(\"Stand By! ({}/{})\".format(i+1,len(tasks)))\n",
    "\n",
    "        time.sleep(1)\n",
    "        print(\"Perform |{:^10s}|\".format(classes[tasks[i]]))\n",
    "        time.sleep(2)\n",
    "        data = board.get_current_board_data(sample_rate*60) #1min\n",
    "       \n",
    "        data = DCFilter(data)\n",
    "        data = data[:6,-record_length:] #keep the data of the eeg channels only, and remove data over the trial length\n",
    "        _, _, std = stat(data)\n",
    "        if std == 0:\n",
    "            print(\"[ERROR] No data collected!\")\n",
    "            break\n",
    "        results[task].append(data)\n",
    "\n",
    "    return results, classes\n",
    "        \n",
    "results, classes = CollectData(n_samples_per_class=30)  #5min"
   ]
  },
  {
   "cell_type": "code",
   "execution_count": 9,
   "metadata": {},
   "outputs": [
    {
     "name": "stdout",
     "output_type": "stream",
     "text": [
      "[[0]\n",
      " [1]\n",
      " [2]\n",
      " [3]\n",
      " [4]\n",
      " [5]]\n",
      "[[4]\n",
      " [5]]\n"
     ]
    }
   ],
   "source": [
    "a = np.array([0,1,2,3,4,5]).reshape(-1,1)\n",
    "print(a)\n",
    "a = a[-2:]\n",
    "print(a)"
   ]
  },
  {
   "cell_type": "code",
   "execution_count": 6,
   "metadata": {},
   "outputs": [
    {
     "name": "stdout",
     "output_type": "stream",
     "text": [
      "Rest\n",
      "-200\n",
      "(-241.0, 528.0, 140.0)\n",
      "-200\n",
      "(-339.0, 694.0, 204.0)\n",
      "-200\n",
      "(-684.0, 635.0, 243.0)\n",
      "Blink\n",
      "-200\n",
      "(-2071.0, 7810.0, 3461.0)\n",
      "-200\n",
      "(-1796.0, 6505.0, 2377.0)\n",
      "-200\n",
      "(-593.0, 1642.0, 686.0)\n",
      "Smile\n",
      "-200\n",
      "(-3181.0, 1631.0, 1403.0)\n"
     ]
    },
    {
     "ename": "KeyboardInterrupt",
     "evalue": "",
     "output_type": "error",
     "traceback": [
      "\u001b[1;31m---------------------------------------------------------------------------\u001b[0m",
      "\u001b[1;31mKeyboardInterrupt\u001b[0m                         Traceback (most recent call last)",
      "\u001b[1;32m<ipython-input-6-4b939560a645>\u001b[0m in \u001b[0;36m<module>\u001b[1;34m\u001b[0m\n\u001b[0;32m      5\u001b[0m         \u001b[0mVisAction\u001b[0m\u001b[1;33m(\u001b[0m\u001b[0mcommand\u001b[0m\u001b[1;33m,\u001b[0m \u001b[0mstd_threshold\u001b[0m\u001b[1;33m)\u001b[0m\u001b[1;33m\u001b[0m\u001b[0m\n\u001b[0;32m      6\u001b[0m         \u001b[0mprint\u001b[0m\u001b[1;33m(\u001b[0m\u001b[0mstat\u001b[0m\u001b[1;33m(\u001b[0m\u001b[0mcommand\u001b[0m\u001b[1;33m)\u001b[0m\u001b[1;33m)\u001b[0m\u001b[1;33m\u001b[0m\u001b[0m\n\u001b[1;32m----> 7\u001b[1;33m         \u001b[0mtime\u001b[0m\u001b[1;33m.\u001b[0m\u001b[0msleep\u001b[0m\u001b[1;33m(\u001b[0m\u001b[1;36m1\u001b[0m\u001b[1;33m)\u001b[0m\u001b[1;33m\u001b[0m\u001b[0m\n\u001b[0m",
      "\u001b[1;31mKeyboardInterrupt\u001b[0m: "
     ]
    }
   ],
   "source": [
    "for i, category in enumerate(results):\n",
    "    print(classes[i])\n",
    "    for command in category:\n",
    "        command = DCFilter(command)\n",
    "        VisAction(command, std_threshold)\n",
    "        print(stat(command))\n",
    "        time.sleep(1)"
   ]
  },
  {
   "cell_type": "code",
   "execution_count": 16,
   "metadata": {},
   "outputs": [],
   "source": [
    "showMe(results[2][0])"
   ]
  },
  {
   "cell_type": "code",
   "execution_count": 6,
   "metadata": {},
   "outputs": [
    {
     "data": {
      "application/vnd.jupyter.widget-view+json": {
       "model_id": "9d145fb67f984c138ae5a0a11485cc4d",
       "version_major": 2,
       "version_minor": 0
      },
      "text/plain": [
       "  0%|          | 0/4 [00:00<?, ?it/s]"
      ]
     },
     "metadata": {},
     "output_type": "display_data"
    }
   ],
   "source": [
    "#Save results to file\n",
    "i = 0\n",
    "for result in tqdm(results):\n",
    "    result= np.asarray(result)\n",
    "    np.save(res_dir+classes[i],result)\n",
    "    i+=1"
   ]
  },
  {
   "cell_type": "code",
   "execution_count": 11,
   "metadata": {},
   "outputs": [],
   "source": [
    "board.stop_stream()\n",
    "board.release_session()"
   ]
  },
  {
   "cell_type": "code",
   "execution_count": null,
   "metadata": {},
   "outputs": [],
   "source": []
  }
 ],
 "metadata": {
  "interpreter": {
   "hash": "a81b55685ebb6380129efe90592a7e4f2f571da2ab32c8bbcf8b970d830ead19"
  },
  "kernelspec": {
   "display_name": "Python 3.7.6 64-bit",
   "name": "python3"
  },
  "language_info": {
   "codemirror_mode": {
    "name": "ipython",
    "version": 3
   },
   "file_extension": ".py",
   "mimetype": "text/x-python",
   "name": "python",
   "nbconvert_exporter": "python",
   "pygments_lexer": "ipython3",
   "version": "3.7.0"
  }
 },
 "nbformat": 4,
 "nbformat_minor": 4
}
