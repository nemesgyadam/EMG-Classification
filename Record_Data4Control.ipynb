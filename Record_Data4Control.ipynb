{
 "cells": [
  {
   "cell_type": "code",
   "execution_count": 1,
   "metadata": {},
   "outputs": [
    {
     "name": "stderr",
     "output_type": "stream",
     "text": [
      "C:\\Users\\Nemes\\anaconda3\\envs\\tf\\lib\\site-packages\\numpy\\_distributor_init.py:32: UserWarning: loaded more than 1 DLL from .libs:\n",
      "C:\\Users\\Nemes\\anaconda3\\envs\\tf\\lib\\site-packages\\numpy\\.libs\\libopenblas.PYQHXLVVQ7VESDPUVUADXEVJOBGHJPAY.gfortran-win_amd64.dll\n",
      "C:\\Users\\Nemes\\anaconda3\\envs\\tf\\lib\\site-packages\\numpy\\.libs\\libopenblas.WCDJNK7YVMPZQ2ME2ZZHJJRJ3JIKNDB7.gfortran-win_amd64.dll\n",
      "C:\\Users\\Nemes\\anaconda3\\envs\\tf\\lib\\site-packages\\numpy\\.libs\\libopenblas.XWYDX2IKJW2NMTWSFYNGFUWKQU3LYTCZ.gfortran-win_amd64.dll\n",
      "  stacklevel=1)\n"
     ]
    }
   ],
   "source": [
    "import os\n",
    "import time\n",
    "import numpy as np\n",
    "from matplotlib import pyplot as plt\n",
    "from time import perf_counter\n",
    "from IPython.display import clear_output\n",
    "\n",
    "from brainflow.board_shim import BoardShim, BrainFlowInputParams, BoardIds\n",
    "\n",
    "from tqdm.notebook import tqdm\n",
    "import datetime\n",
    "\n",
    "\n",
    "\n",
    "\n",
    "%matplotlib inline\n",
    "\n",
    "%load_ext autoreload\n",
    "%autoreload 2\n",
    "\n",
    "\n",
    "from utils.svm import DCFilter\n",
    "from utils.visualize import VisulaizeCell, showMe\n",
    "from utils.record import getRange, stat, preProcess"
   ]
  },
  {
   "cell_type": "code",
   "execution_count": 2,
   "metadata": {},
   "outputs": [],
   "source": [
    "session = 0\n",
    "res_dir = 'C:/resources/EMG/'+datetime.datetime.now().strftime(\"%m_%d\")+'/session_'+str(session)+'/'\n",
    "try:\n",
    "    os.mkdir(res_dir)\n",
    "except:\n",
    "    ..."
   ]
  },
  {
   "cell_type": "code",
   "execution_count": 3,
   "metadata": {},
   "outputs": [
    {
     "name": "stdout",
     "output_type": "stream",
     "text": [
      "Device ready (sampling rate: 500hz)\n"
     ]
    }
   ],
   "source": [
    "####      INIT BOARD        #######\n",
    "BoardShim.enable_dev_board_logger()\n",
    "params = BrainFlowInputParams()\n",
    "board = BoardShim(BoardIds.MINDROVE_WIFI_BOARD, params)\n",
    "\n",
    "try:\n",
    "    board.stop_stream()\n",
    "    board.release_session()\n",
    "except:\n",
    "    ...\n",
    "    \n",
    "board.prepare_session()\n",
    "sample_rate = board.get_sampling_rate(16)\n",
    "print(\"Device ready (sampling rate: {}hz)\".format(sample_rate))"
   ]
  },
  {
   "cell_type": "code",
   "execution_count": 4,
   "metadata": {},
   "outputs": [],
   "source": [
    "length_of_signal = 1 #seconds\n",
    "num_points = int(sample_rate * length_of_signal)\n",
    "record_length = int(sample_rate * length_of_signal*3)\n",
    "std_threshold = 200"
   ]
  },
  {
   "cell_type": "code",
   "execution_count": null,
   "metadata": {
    "scrolled": true
   },
   "outputs": [],
   "source": [
    "def GenerateOrder(n_classes, n_samples_per_class = 1):\n",
    "    lists = []\n",
    "    for i in range(n_classes):\n",
    "        tmp = np.empty([n_samples_per_class])\n",
    "        tmp.fill(i)\n",
    "        lists.append(tmp)\n",
    "    order = np.vstack(lists).ravel().astype(np.int32)\n",
    "    np.random.shuffle(order)\n",
    "    return order\n",
    "\n",
    "\n",
    "def CollectData(classes = ['Eyebrow','Smile', 'Chew'],n_samples_per_class = 1):\n",
    "    classes = ['Rest'] + classes\n",
    "    results = [[] for i in range(len(classes))]\n",
    "    tasks = GenerateOrder(len(classes),n_samples_per_class)\n",
    "  \n",
    "    board.start_stream(450000) \n",
    "    print(\"Setting up...\")\n",
    "    time.sleep(10)          # wait for the board to settle\n",
    "    for i, task in enumerate(tasks):\n",
    "        #clear_output()\n",
    "        print(\"Stand By! ({}/{})\".format(i+1,len(tasks)))\n",
    "        time.sleep(1)\n",
    "        print(\"Perform |{:^10s}|\".format(classes[tasks[i]]))\n",
    "        time.sleep(record_length-1)\n",
    "        data = board.get_current_board_data(sample_rate*60) #1min\n",
    "       \n",
    "        data = DCFilter(data)\n",
    "        data = data[:6,-record_length:] #keep the data of the eeg channels only, and remove data over the trial length\n",
    "        _, _, std = stat(data)\n",
    "        if std == 0:\n",
    "            print(\"[ERROR] No data collected!\")\n",
    "            break\n",
    "        results[task].append(data)\n",
    "\n",
    "    return results, classes\n",
    "        \n",
    "results, classes = CollectData(n_samples_per_class=30)  #5min"
   ]
  },
  {
   "cell_type": "code",
   "execution_count": 6,
   "metadata": {},
   "outputs": [
    {
     "data": {
      "application/vnd.jupyter.widget-view+json": {
       "model_id": "9d145fb67f984c138ae5a0a11485cc4d",
       "version_major": 2,
       "version_minor": 0
      },
      "text/plain": [
       "  0%|          | 0/4 [00:00<?, ?it/s]"
      ]
     },
     "metadata": {},
     "output_type": "display_data"
    }
   ],
   "source": [
    "#Save results to file\n",
    "i = 0\n",
    "for result in tqdm(results):\n",
    "    result= np.asarray(result)\n",
    "    np.save(res_dir+classes[i]+\"_3s\",result)\n",
    "    i+=1"
   ]
  },
  {
   "cell_type": "code",
   "execution_count": null,
   "metadata": {},
   "outputs": [],
   "source": [
    "## Show the first N samples of each class\n",
    "limit = 3\n",
    "for i, category in enumerate(results):\n",
    "    print(classes[i])\n",
    "    for i, record_3s in enumerate(category):\n",
    "        VisulaizeCell(record_3s, std_threshold)\n",
    "        print(stat(record_3s))\n",
    "        if i >= limit:\n",
    "            break"
   ]
  },
  {
   "cell_type": "code",
   "execution_count": null,
   "metadata": {},
   "outputs": [],
   "source": [
    "# Check the data quality\n",
    "\n",
    "for i, category in enumerate(results):\n",
    "    print(classes[i])\n",
    "    class_min = []\n",
    "    class_max = []\n",
    "    class_std = []\n",
    "    for i, record_3s in enumerate(category):\n",
    "        min, max, std = stat(record_3s)\n",
    "        class_min.append(min)\n",
    "        class_max.append(max)\n",
    "        class_std.append(std)\n",
    "    plt.plot(class_min)\n",
    "    plt.show()\n",
    "    plt.plot(class_max)\n",
    "    plt.show()\n",
    "    plt.plot(class_std)\n",
    "    plt.show()"
   ]
  },
  {
   "cell_type": "code",
   "execution_count": null,
   "metadata": {},
   "outputs": [],
   "source": [
    "## Cut the relevatn 1 sec of the 3 sec trial\n",
    "## Based on the std of the signal\n",
    "augment = True\n",
    "clip_value = 2000\n",
    "\n",
    "\n",
    "for clas in classes:\n",
    "    print(clas)\n",
    "    temp = []\n",
    "    for i, record_3s in enumerate(clas):\n",
    "        start, end= getRange(record_3s,std_threshold)\n",
    "        sample = record_3s[:,start:end]\n",
    "        temp.append(preProcess(sample, clip_value))\n",
    "        if augment:\n",
    "            slice = int(sample_rate/10)\n",
    "\n",
    "            sample = record_3s[:,start-sample_rate:end-sample_rate]\n",
    "            temp.append(preProcess(sample, clip_value))\n",
    "\n",
    "            sample = record_3s[:,start+slice:end+slice]\n",
    "            temp.append(preProcess(sample, clip_value))\n",
    "\n",
    "    np.save(res_dir+clas+'_1s_augmented',temp)\n"
   ]
  }
 ],
 "metadata": {
  "interpreter": {
   "hash": "a81b55685ebb6380129efe90592a7e4f2f571da2ab32c8bbcf8b970d830ead19"
  },
  "kernelspec": {
   "display_name": "Python 3.7.6 64-bit",
   "name": "python3"
  },
  "language_info": {
   "codemirror_mode": {
    "name": "ipython",
    "version": 3
   },
   "file_extension": ".py",
   "mimetype": "text/x-python",
   "name": "python",
   "nbconvert_exporter": "python",
   "pygments_lexer": "ipython3",
   "version": "3.7.0"
  }
 },
 "nbformat": 4,
 "nbformat_minor": 4
}
