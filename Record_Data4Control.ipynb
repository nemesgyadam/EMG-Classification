{
 "cells": [
  {
   "cell_type": "code",
   "execution_count": 13,
   "metadata": {},
   "outputs": [
    {
     "name": "stdout",
     "output_type": "stream",
     "text": [
      "The autoreload extension is already loaded. To reload it, use:\n",
      "  %reload_ext autoreload\n"
     ]
    }
   ],
   "source": [
    "import os\n",
    "import time\n",
    "import numpy as np\n",
    "from pathlib import Path\n",
    "from matplotlib import pyplot as plt\n",
    "from time import perf_counter\n",
    "from IPython.display import clear_output\n",
    "from pathlib import Path\n",
    "\n",
    "from brainflow.board_shim import BoardShim, BrainFlowInputParams, BoardIds\n",
    "\n",
    "from tqdm.notebook import tqdm\n",
    "import datetime\n",
    "\n",
    "\n",
    "%matplotlib inline\n",
    "\n",
    "\n",
    "%load_ext autoreload\n",
    "%autoreload 2\n",
    "\n",
    "from utils.svm import DCFilter\n",
    "from utils.visualize import VisulaizeCell, showMe\n",
    "\n",
    "from utils.record import getRange, stat, preProcess, GenerateOrder"
   ]
  },
  {
   "cell_type": "markdown",
   "metadata": {},
   "source": [
    "PRACTICE"
   ]
  },
  {
   "cell_type": "code",
   "execution_count": null,
   "metadata": {},
   "outputs": [],
   "source": [
    "def Practice(classes = ['Eyebrow','Smile', 'Chew'],n_samples_per_class = 1):\n",
    "    classes = ['Rest'] + classes\n",
    "    tasks = GenerateOrder(len(classes),n_samples_per_class)\n",
    "  \n",
    "\n",
    "    print(\"Setting up...\")\n",
    "    time.sleep(2)    \n",
    "    for i, task in enumerate(tasks):\n",
    "        clear_output()\n",
    "        print(\"Stand By! ({}/{})\".format(i+1,len(tasks)))\n",
    "        time.sleep(0.5)\n",
    "        print(\"Perform |{:^10s}|\".format(classes[tasks[i]]))\n",
    "        time.sleep(2.5)\n",
    "        \n",
    "Practice(n_samples_per_class=5)"
   ]
  },
  {
   "cell_type": "code",
   "execution_count": null,
   "metadata": {},
   "outputs": [],
   "source": [
    "session = 0\n",
    "subject = 'S004'\n",
    "#es_dir = 'C:/resources/EMG/'+datetime.datetime.now().strftime(\"%m_%d\")+'/session_'+str(session)+'/'\n",
    "res_dir = os.path.join('C:/', 'resources','EMG',subject,'session_'+str(session))+'/'\n",
    "print(f'Creating directory {res_dir}...')\n",
    "Path(res_dir).mkdir(parents=True, exist_ok=False )\n"
   ]
  },
  {
   "cell_type": "code",
   "execution_count": 3,
   "metadata": {},
   "outputs": [
    {
     "name": "stdout",
     "output_type": "stream",
     "text": [
      "Device ready (sampling rate: 500hz)\n"
     ]
    }
   ],
   "source": [
    "####      INIT BOARD        #######\n",
    "BoardShim.enable_dev_board_logger()\n",
    "params = BrainFlowInputParams()\n",
    "board = BoardShim(BoardIds.MINDROVE_WIFI_BOARD, params)\n",
    "\n",
    "try:\n",
    "    board.stop_stream()\n",
    "    board.release_session()\n",
    "except:\n",
    "    ...\n",
    "    \n",
    "board.prepare_session()\n",
    "sample_rate = board.get_sampling_rate(16)\n",
    "print(\"Device ready (sampling rate: {}hz)\".format(sample_rate))"
   ]
  },
  {
   "cell_type": "code",
   "execution_count": 4,
   "metadata": {},
   "outputs": [],
   "source": [
    "length_of_signal = 1 #seconds\n",
    "num_points = int(sample_rate * length_of_signal)\n",
    "record_length = int(sample_rate * length_of_signal*3)\n",
    "std_threshold = 200"
   ]
  },
  {
   "cell_type": "markdown",
   "metadata": {},
   "source": [
    "RECORD"
   ]
  },
  {
   "cell_type": "code",
   "execution_count": 5,
   "metadata": {
    "scrolled": true
   },
   "outputs": [
    {
     "name": "stdout",
     "output_type": "stream",
     "text": [
      "Stand By! (4/4)\n",
      "Perform | Eyebrow  |\n"
     ]
    }
   ],
   "source": [
    "def CollectData(classes = ['Eyebrow','Smile', 'Chew'],n_samples_per_class = 1):\n",
    "    classes = ['Rest'] + classes\n",
    "    results = [[] for i in range(len(classes))]\n",
    "    tasks = GenerateOrder(len(classes),n_samples_per_class)\n",
    "  \n",
    "    board.start_stream(450000) \n",
    "    print(\"Setting up...\")\n",
    "    time.sleep(1)\n",
    "    data = DCFilter(board.get_current_board_data(500))[:6,-100:]\n",
    "    _, _, std = stat(data)\n",
    "    if std == 0:\n",
    "        print(\"[ERROR] No data collected!\")\n",
    "        return\n",
    "    time.sleep(9)          # wait for the board to settle\n",
    "    for i, task in enumerate(tasks):\n",
    "        clear_output()\n",
    "        print(\"Stand By! ({}/{})\".format(i+1,len(tasks)))\n",
    "        time.sleep(0.5)\n",
    "        print(\"Perform |{:^10s}|\".format(classes[tasks[i]]))\n",
    "        time.sleep(2.5)\n",
    "        data = board.get_current_board_data(sample_rate*30) # 30 seconds\n",
    "       \n",
    "        data = DCFilter(data)\n",
    "        data = data[:6,-record_length:] #keep the data of the eeg channels only, and remove data over the trial length\n",
    "        _, _, std = stat(data)\n",
    "        if std == 0:\n",
    "            print(\"[ERROR] No data collected!\")\n",
    "            break\n",
    "        results[task].append(data)\n",
    "\n",
    "    return results, classes\n",
    "        \n",
    "results, classes = CollectData(n_samples_per_class=1)  #30 -> 5min   60 -> 12min "
   ]
  },
  {
   "cell_type": "code",
   "execution_count": null,
   "metadata": {},
   "outputs": [],
   "source": [
    "#Save results to file\n",
    "i = 0\n",
    "for result in tqdm(results):\n",
    "    print(res_dir)\n",
    "    #Path(res_dir).mkdir( parents=True, exist_ok=True )\n",
    "\n",
    "    result= np.asarray(result)\n",
    "    print(result.shape)\n",
    "    np.save(res_dir+classes[i]+\"_3s\",result)\n",
    "    i+=1"
   ]
  },
  {
   "cell_type": "code",
   "execution_count": null,
   "metadata": {},
   "outputs": [],
   "source": [
    "## Show the first N samples of each class\n",
    "limit = 3\n",
    "for i, category in enumerate(results):\n",
    "    print(classes[i])\n",
    "    for i, record_3s in enumerate(category):\n",
    "        VisulaizeCell(record_3s, std_threshold)\n",
    "        print(stat(record_3s))\n",
    "        if i >= limit:\n",
    "            break"
   ]
  },
  {
   "cell_type": "code",
   "execution_count": null,
   "metadata": {},
   "outputs": [],
   "source": [
    "# Check the data quality\n",
    "from matplotlib.pyplot import figure\n",
    "\n",
    "fig, axs = plt.subplots(2, 2,figsize=(15,15))\n",
    "\n",
    "\n",
    "\n",
    "for i, category in enumerate(results):\n",
    "    class_min = []\n",
    "    class_max = []\n",
    "    class_std = []\n",
    "    for j, record_3s in enumerate(category):\n",
    "        min, max, std = stat(record_3s)\n",
    "        class_min.append(min)\n",
    "        class_max.append(max)\n",
    "        class_std.append(std)\n",
    "\n",
    "    axs[i%2,i//2].title.set_text(classes[i])\n",
    "    axs[i%2,i//2].plot(class_min, label='min')    \n",
    "    axs[i%2,i//2].plot(class_min,color='green',label='min')\n",
    "    axs[i%2,i//2].plot(class_max, color = 'red',label='max')\n",
    "    axs[i%2,i//2].plot(class_std, color = 'blue',label='std')\n",
    "    axs[i%2,i//2].axhline(y = std_threshold, color = 'b', linestyle = '-')\n",
    "\n",
    "\n",
    "#plt.show()\n"
   ]
  },
  {
   "cell_type": "markdown",
   "metadata": {},
   "source": [
    "Processing data"
   ]
  },
  {
   "cell_type": "code",
   "execution_count": null,
   "metadata": {},
   "outputs": [],
   "source": [
    "## Cut the relevant 1 sec of the 3 sec trial\n",
    "## Based on the std of the signal\n",
    "augment = True\n",
    "clip_value = 2000\n",
    "\n",
    "\n",
    "for i, category in enumerate(results):\n",
    "    print(f'Saving {classes[i]}...')\n",
    "    temp = []\n",
    "    for j, record_3s in enumerate(category):\n",
    "        start, end= getRange(record_3s,std_threshold)\n",
    "        sample = record_3s[:,start:end]\n",
    "        temp.append(preProcess(sample, clip_value))\n",
    "        if augment:\n",
    "            slice = int(sample_rate/10)\n",
    "\n",
    "            sample = record_3s[:,start-slice:end-slice]\n",
    "            temp.append(preProcess(sample, clip_value))\n",
    "\n",
    "            sample = record_3s[:,start+slice:end+slice]\n",
    "            temp.append(preProcess(sample, clip_value))\n",
    "\n",
    "    np.save(res_dir+classes[i]+'_1s_augmented',temp)\n"
   ]
  },
  {
   "cell_type": "code",
   "execution_count": null,
   "metadata": {},
   "outputs": [],
   "source": []
  }
 ],
 "metadata": {
  "interpreter": {
   "hash": "a81b55685ebb6380129efe90592a7e4f2f571da2ab32c8bbcf8b970d830ead19"
  },
  "kernelspec": {
   "display_name": "Python 3.7.6 64-bit",
   "name": "python3"
  },
  "language_info": {
   "codemirror_mode": {
    "name": "ipython",
    "version": 3
   },
   "file_extension": ".py",
   "mimetype": "text/x-python",
   "name": "python",
   "nbconvert_exporter": "python",
   "pygments_lexer": "ipython3",
   "version": "3.7.6"
  }
 },
 "nbformat": 4,
 "nbformat_minor": 4
}
