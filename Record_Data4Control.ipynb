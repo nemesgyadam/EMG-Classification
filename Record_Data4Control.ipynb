{
 "cells": [
  {
   "cell_type": "code",
   "execution_count": 1,
   "metadata": {},
   "outputs": [
    {
     "name": "stderr",
     "output_type": "stream",
     "text": [
      "C:\\Users\\Nemes\\anaconda3\\envs\\tf\\lib\\site-packages\\numpy\\_distributor_init.py:32: UserWarning: loaded more than 1 DLL from .libs:\n",
      "C:\\Users\\Nemes\\anaconda3\\envs\\tf\\lib\\site-packages\\numpy\\.libs\\libopenblas.PYQHXLVVQ7VESDPUVUADXEVJOBGHJPAY.gfortran-win_amd64.dll\n",
      "C:\\Users\\Nemes\\anaconda3\\envs\\tf\\lib\\site-packages\\numpy\\.libs\\libopenblas.WCDJNK7YVMPZQ2ME2ZZHJJRJ3JIKNDB7.gfortran-win_amd64.dll\n",
      "C:\\Users\\Nemes\\anaconda3\\envs\\tf\\lib\\site-packages\\numpy\\.libs\\libopenblas.XWYDX2IKJW2NMTWSFYNGFUWKQU3LYTCZ.gfortran-win_amd64.dll\n",
      "  stacklevel=1)\n"
     ]
    }
   ],
   "source": [
    "import os\n",
    "import time\n",
    "import numpy as np\n",
    "from pathlib import Path\n",
    "from matplotlib import pyplot as plt\n",
    "from time import perf_counter\n",
    "from IPython.display import clear_output\n",
    "from pathlib import Path\n",
    "\n",
    "from brainflow.board_shim import BoardShim, BrainFlowInputParams, BoardIds\n",
    "\n",
    "from tqdm.notebook import tqdm\n",
    "import datetime\n",
    "\n",
    "from config.default import *\n",
    "\n",
    "%matplotlib qt\n",
    "\n",
    "\n",
    "%load_ext autoreload\n",
    "%autoreload 2\n",
    "\n",
    "from utils.svm import DCFilter\n",
    "from utils.visualize import VisulaizeCell, showMe\n",
    "\n",
    "from utils.record import getRange, stat, preProcess, GenerateOrder"
   ]
  },
  {
   "cell_type": "code",
   "execution_count": 2,
   "metadata": {},
   "outputs": [],
   "source": [
    "def visualize(data):\n",
    "    plt.ion()\n",
    "    fig = plt.gcf()\n",
    "    fig.canvas.manager.window.raise_()\n",
    "    mngr = plt.get_current_fig_manager()\n",
    "    mngr.window.setGeometry(settings.window_position) #Check if array is acceptable\n",
    "    \n",
    "  \n",
    "\n",
    "    plt.ylim(-1, 1)\n",
    "    for i, c in enumerate(data):\n",
    "        plt.plot(c)\n",
    "    plt.draw()    \n",
    "    plt.pause(0.000000001)\n",
    "    fig.canvas.flush_events()\n",
    "\n",
    "   \n",
    "    plt.show()\n",
    "    plt.cla()\n",
    "\n",
    "   "
   ]
  },
  {
   "cell_type": "markdown",
   "metadata": {},
   "source": [
    "PRACTICE"
   ]
  },
  {
   "cell_type": "code",
   "execution_count": null,
   "metadata": {},
   "outputs": [],
   "source": [
    "def Practice(n_samples_per_class = 1):\n",
    "    classes = settings['classes']\n",
    "    tasks = GenerateOrder(len(classes),n_samples_per_class)\n",
    "  \n",
    "    print(\"Setting up...\")\n",
    "    time.sleep(2)    \n",
    "    for i, task in enumerate(tasks):\n",
    "        clear_output()\n",
    "        print(\"Stand By! ({}/{})\".format(i+1,len(tasks)))\n",
    "        time.sleep(0.5)\n",
    "        print(\"Perform |{:^10s}|\".format(classes[tasks[i]]))\n",
    "        time.sleep(2.5)\n",
    "        \n",
    "Practice(n_samples_per_class=5)"
   ]
  },
  {
   "cell_type": "code",
   "execution_count": 3,
   "metadata": {},
   "outputs": [
    {
     "name": "stdout",
     "output_type": "stream",
     "text": [
      "Creating directory C:/resources\\EMG\\S102\\session_4/...\n"
     ]
    }
   ],
   "source": [
    "session = 4\n",
    "subject = 'S102'\n",
    "#es_dir = 'C:/resources/EMG/'+datetime.datetime.now().strftime(\"%m_%d\")+'/session_'+str(session)+'/'\n",
    "res_dir = os.path.join('C:/', 'resources','EMG',subject,'session_'+str(session))+'/'\n",
    "print(f'Creating directory {res_dir}...')\n",
    "Path(res_dir).mkdir(parents=True, exist_ok=False )\n"
   ]
  },
  {
   "cell_type": "code",
   "execution_count": 4,
   "metadata": {},
   "outputs": [
    {
     "name": "stdout",
     "output_type": "stream",
     "text": [
      "Device ready (sampling rate: 500hz)\n"
     ]
    }
   ],
   "source": [
    "####      INIT BOARD        #######\n",
    "BoardShim.enable_dev_board_logger()\n",
    "params = BrainFlowInputParams()\n",
    "board = BoardShim(BoardIds.MINDROVE_WIFI_BOARD, params)\n",
    "\n",
    "try:\n",
    "    board.stop_stream()\n",
    "    board.release_session()\n",
    "except:\n",
    "    ...\n",
    "    \n",
    "board.prepare_session()\n",
    "sample_rate = board.get_sampling_rate(16)\n",
    "print(\"Device ready (sampling rate: {}hz)\".format(sample_rate))"
   ]
  },
  {
   "cell_type": "code",
   "execution_count": 5,
   "metadata": {},
   "outputs": [
    {
     "name": "stdout",
     "output_type": "stream",
     "text": [
      "Record length: 1000 time points--> 2.0 seconds\n"
     ]
    }
   ],
   "source": [
    "length_of_signal = 1 #seconds\n",
    "num_points = int(sample_rate * length_of_signal)\n",
    "record_length = int(sample_rate * length_of_signal*2)\n",
    "print(f'Record length: {record_length} time points--> {record_length/sample_rate} seconds')\n",
    "\n"
   ]
  },
  {
   "cell_type": "code",
   "execution_count": 6,
   "metadata": {},
   "outputs": [],
   "source": [
    "def remove2channel(data):\n",
    "    mins = []\n",
    "    for i, channel in enumerate(data):\n",
    "        mins.append(np.min(channel))\n",
    "    data = np.delete(data, np.argmin(mins), 0)\n",
    "\n",
    "    maxs = []\n",
    "    for i, channel in enumerate(data):\n",
    "        maxs.append(np.max(channel))\n",
    "    data = np.delete(data, np.argmax(maxs), 0)\n",
    "    \n",
    "    return data\n",
    "\n",
    "def clip(data, clip_value=2000):\n",
    "    data = np.clip(data, -clip_value, clip_value)\n",
    "    data /= clip_value\n",
    "    return data"
   ]
  },
  {
   "cell_type": "markdown",
   "metadata": {},
   "source": [
    "RECORD"
   ]
  },
  {
   "cell_type": "code",
   "execution_count": 7,
   "metadata": {
    "scrolled": true
   },
   "outputs": [
    {
     "name": "stdout",
     "output_type": "stream",
     "text": [
      "Stand By! (100/100)\n",
      "Perform |   Chew   |\n"
     ]
    }
   ],
   "source": [
    "def CollectData(n_samples_per_class = 1):\n",
    "    classes = settings['classes']\n",
    "    results = [[] for i in range(len(classes))]\n",
    "    tasks = GenerateOrder(len(classes),n_samples_per_class)\n",
    "  \n",
    "    board.start_stream(450000) \n",
    "    print(\"Setting up...\")\n",
    "    time.sleep(1)\n",
    "    data = DCFilter(board.get_current_board_data(500))[:6,-100:]\n",
    "    _, _, std = stat(data)\n",
    "    if std == 0:\n",
    "        print(\"[ERROR] No data collected!\")\n",
    "        return\n",
    "    print(\"Device ok!\")\n",
    "    time.sleep(7)          # wait for the board to settle\n",
    "    for i, task in enumerate(tasks):\n",
    "        clear_output()\n",
    "\n",
    "        #####################################################\n",
    "        time.sleep(1)\n",
    "        print(\"Stand By! ({}/{})\".format(i+1,len(tasks)))\n",
    "        time.sleep(1)\n",
    "        print(\"Perform |{:^10s}|\".format(classes[tasks[i]]))\n",
    "        time.sleep(2)\n",
    "        #####################################################\n",
    "\n",
    "        data = board.get_current_board_data(sample_rate*10) # 10 seconds\n",
    "        data = DCFilter(data)\n",
    "        data = data[:6,-record_length:] #keep the data of the eeg channels only, and remove data over the trial length\n",
    "        results[task].append(data)\n",
    "        \n",
    "        _, _, std = stat(data)\n",
    "        if std == 0:\n",
    "            print(\"[ERROR] No data collected!\")\n",
    "            break\n",
    "        \n",
    "        data = remove2channel(data)\n",
    "        data = clip(data)\n",
    "        visualize(data)\n",
    "\n",
    "\n",
    "      \n",
    "        \n",
    "        \n",
    "    return results, classes\n",
    "        \n",
    "results, classes = CollectData(n_samples_per_class=25)"
   ]
  },
  {
   "cell_type": "code",
   "execution_count": 8,
   "metadata": {},
   "outputs": [
    {
     "data": {
      "application/vnd.jupyter.widget-view+json": {
       "model_id": "f80164114d024dc6a1d3070965a6a91a",
       "version_major": 2,
       "version_minor": 0
      },
      "text/plain": [
       "  0%|          | 0/4 [00:00<?, ?it/s]"
      ]
     },
     "metadata": {},
     "output_type": "display_data"
    },
    {
     "name": "stdout",
     "output_type": "stream",
     "text": [
      "C:/resources\\EMG\\S102\\session_4/\n",
      "(25, 6, 1000)\n",
      "C:/resources\\EMG\\S102\\session_4/\n",
      "(25, 6, 1000)\n",
      "C:/resources\\EMG\\S102\\session_4/\n",
      "(25, 6, 1000)\n",
      "C:/resources\\EMG\\S102\\session_4/\n",
      "(25, 6, 1000)\n"
     ]
    }
   ],
   "source": [
    "#Save results to file\n",
    "i = 0\n",
    "for result in tqdm(results):\n",
    "    print(res_dir)\n",
    "    #Path(res_dir).mkdir( parents=True, exist_ok=True )\n",
    "\n",
    "    result= np.asarray(result)\n",
    "    print(result.shape)\n",
    "    np.save(res_dir+settings['classes'][i]+\"_2s\",result)\n",
    "    i+=1"
   ]
  },
  {
   "cell_type": "code",
   "execution_count": null,
   "metadata": {},
   "outputs": [],
   "source": []
  }
 ],
 "metadata": {
  "interpreter": {
   "hash": "a81b55685ebb6380129efe90592a7e4f2f571da2ab32c8bbcf8b970d830ead19"
  },
  "kernelspec": {
   "display_name": "Python 3.7.6 64-bit",
   "name": "python3"
  },
  "language_info": {
   "codemirror_mode": {
    "name": "ipython",
    "version": 3
   },
   "file_extension": ".py",
   "mimetype": "text/x-python",
   "name": "python",
   "nbconvert_exporter": "python",
   "pygments_lexer": "ipython3",
   "version": "3.7.0"
  }
 },
 "nbformat": 4,
 "nbformat_minor": 4
}
