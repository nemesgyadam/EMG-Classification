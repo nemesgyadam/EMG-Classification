{
 "cells": [
  {
   "cell_type": "code",
   "execution_count": 1,
   "metadata": {},
   "outputs": [],
   "source": [
    "import os\n",
    "import time\n",
    "import numpy as np\n",
    "import tensorflow as tf\n",
    "from tensorflow.keras.models import load_model\n",
    "\n",
    "from joblib import load\n",
    "\n",
    "from IPython.display import clear_output\n",
    "\n",
    "import brainflow\n",
    "\n",
    "from brainflow.board_shim import BoardShim, BrainFlowInputParams, BoardIds, BrainFlowError\n",
    "\n",
    "from tqdm.notebook import tqdm\n",
    "\n",
    "\n",
    "from matplotlib import pyplot as plt\n",
    "from sklearn.model_selection import train_test_split\n",
    "\n",
    "%matplotlib inline\n",
    "\n",
    "from utils.svm import preProcess_1 as preProcess_svm\n",
    "from utils.deep import preProcess_1 as preProcess_deep\n",
    "from utils.visualize import showMe\n",
    "%load_ext autoreload\n",
    "%autoreload 2\n"
   ]
  },
  {
   "cell_type": "code",
   "execution_count": null,
   "metadata": {},
   "outputs": [],
   "source": [
    "svm = load('saved_models/svm_acc_95.joblib')"
   ]
  },
  {
   "cell_type": "code",
   "execution_count": null,
   "metadata": {},
   "outputs": [],
   "source": [
    "deep = load_model('saved_models/dense_val_acc_94')"
   ]
  },
  {
   "cell_type": "code",
   "execution_count": 9,
   "metadata": {},
   "outputs": [
    {
     "name": "stdout",
     "output_type": "stream",
     "text": [
      "Device ready (sample_rate: 500)\n"
     ]
    }
   ],
   "source": [
    "####      INIT BOARD        #######\n",
    "BoardShim.enable_dev_board_logger()\n",
    "params = BrainFlowInputParams()\n",
    "board = BoardShim(BoardIds.MINDROVE_WIFI_BOARD, params)\n",
    "\n",
    "board.prepare_session()\n",
    "sample_rate = board.get_sampling_rate(16)\n",
    "n_channels  = 6\n",
    "\n",
    "sample_rate = board.get_sampling_rate(16)\n",
    "size_of_ring_buffer=45000\n",
    "\n",
    "print(\"Device ready (sampling rate: {}hz)\".format(sample_rate))"
   ]
  },
  {
   "cell_type": "code",
   "execution_count": null,
   "metadata": {
    "scrolled": true
   },
   "outputs": [],
   "source": [
    "def SVM_Predict(classes = ['Eyebrow','Chew']):\n",
    "    classes = ['Rest'] + classes\n",
    "   \n",
    "    length_of_trial  = 5 #seconds\n",
    "    length_of_signal = 2 #seconds\n",
    "    board.start_stream((sample_rate*length_of_trial)+2) # plus 2 sec to be sure\n",
    "    \n",
    "    while True:\n",
    "        clear_output()        \n",
    "        print(\"Perform command!\")\n",
    "        \n",
    "        board.get_board_data() # clear buffer\n",
    "        time.sleep(length_of_signal*1.1) # record longer to make sure there is enough data\n",
    "        data = board.get_board_data()\n",
    "        data = data[:6,:sample_rate*length_of_signal] #keep the data of the eeg channels only, and remove data over the trial length\n",
    "    \n",
    "        preProcessed = preProcess_svm(data, 100)\n",
    "        prediction = svm.predict(preProcessed)[0]\n",
    "        print(f'Prediction: {classes[prediction]}')\n",
    "    \n",
    "        \n",
    "SVM_Predict()\n"
   ]
  },
  {
   "cell_type": "code",
   "execution_count": null,
   "metadata": {},
   "outputs": [],
   "source": [
    "def Deep_Predict(classes = ['Eyebrow','Chew']):\n",
    "    classes = ['Rest'] + classes\n",
    "   \n",
    "    length_of_trial  = 5 #seconds\n",
    "    length_of_signal = 2 #seconds\n",
    "    board.start_stream((sample_rate*length_of_trial)+2) # plus 2 sec to be sure\n",
    "    \n",
    "    while True:\n",
    "        clear_output()        \n",
    "        print(\"Perform command!\")\n",
    "        \n",
    "        board.get_board_data() # clear buffer\n",
    "        time.sleep(length_of_signal*1.1) # record longer to make sure there is enough data\n",
    "        data = board.get_board_data()\n",
    "        data = data[:6,:sample_rate*length_of_signal] #keep the data of the eeg channels only, and remove data over the trial length\n",
    "    \n",
    "        preProcessed = preProcess_deep(data, 200)\n",
    "\n",
    "        prediction = svm.predict([preProcessed])[0]   # Fake 1 batch \n",
    "        print(prediction)  \n",
    "        prediction = classes[max(prediction)]\n",
    "        print(f'Prediction: {classes[prediction]}')\n",
    "    \n",
    "        \n",
    "Deep_Predict()"
   ]
  },
  {
   "cell_type": "code",
   "execution_count": null,
   "metadata": {},
   "outputs": [],
   "source": [
    "board.stop_stream()\n",
    "board.release_session()"
   ]
  }
 ],
 "metadata": {
  "interpreter": {
   "hash": "a81b55685ebb6380129efe90592a7e4f2f571da2ab32c8bbcf8b970d830ead19"
  },
  "kernelspec": {
   "display_name": "Python 3.7.6 64-bit",
   "name": "python3"
  },
  "language_info": {
   "codemirror_mode": {
    "name": "ipython",
    "version": 3
   },
   "file_extension": ".py",
   "mimetype": "text/x-python",
   "name": "python",
   "nbconvert_exporter": "python",
   "pygments_lexer": "ipython3",
   "version": "3.7.6"
  }
 },
 "nbformat": 4,
 "nbformat_minor": 4
}
