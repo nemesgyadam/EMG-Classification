{
 "cells": [
  {
   "cell_type": "code",
   "execution_count": 3,
   "metadata": {},
   "outputs": [
    {
     "name": "stderr",
     "output_type": "stream",
     "text": [
      "C:\\Users\\Nemes\\anaconda3\\envs\\tf\\lib\\site-packages\\numpy\\_distributor_init.py:32: UserWarning: loaded more than 1 DLL from .libs:\n",
      "C:\\Users\\Nemes\\anaconda3\\envs\\tf\\lib\\site-packages\\numpy\\.libs\\libopenblas.PYQHXLVVQ7VESDPUVUADXEVJOBGHJPAY.gfortran-win_amd64.dll\n",
      "C:\\Users\\Nemes\\anaconda3\\envs\\tf\\lib\\site-packages\\numpy\\.libs\\libopenblas.WCDJNK7YVMPZQ2ME2ZZHJJRJ3JIKNDB7.gfortran-win_amd64.dll\n",
      "C:\\Users\\Nemes\\anaconda3\\envs\\tf\\lib\\site-packages\\numpy\\.libs\\libopenblas.XWYDX2IKJW2NMTWSFYNGFUWKQU3LYTCZ.gfortran-win_amd64.dll\n",
      "  stacklevel=1)\n"
     ]
    }
   ],
   "source": [
    "import os\n",
    "import time\n",
    "import numpy as np\n",
    "import tensorflow as tf\n",
    "from tensorflow.keras.models import load_model\n",
    "\n",
    "from joblib import load\n",
    "from utils.visualize import showMe\n",
    "from IPython.display import clear_output\n",
    "\n",
    "import brainflow\n",
    "\n",
    "from brainflow.board_shim import BoardShim, BrainFlowInputParams, BoardIds, BrainFlowError\n",
    "\n",
    "from tqdm.notebook import tqdm\n",
    "\n",
    "\n",
    "from matplotlib import pyplot as plt\n",
    "from sklearn.model_selection import train_test_split\n",
    "\n",
    "\n",
    "%matplotlib inline\n",
    "\n",
    "from utils.svm import preProcess_1 as preProcess_svm\n",
    "from utils.deep import preProcess_1 as preProcess_deep\n",
    "from utils.visualize import showMe\n",
    "%load_ext autoreload\n",
    "%autoreload 2\n"
   ]
  },
  {
   "cell_type": "code",
   "execution_count": 6,
   "metadata": {},
   "outputs": [
    {
     "name": "stdout",
     "output_type": "stream",
     "text": [
      "Device ready (sampling rate: 500hz)\n"
     ]
    }
   ],
   "source": [
    "####      INIT BOARD        #######\n",
    "BoardShim.enable_dev_board_logger()\n",
    "params = BrainFlowInputParams()\n",
    "board = BoardShim(BoardIds.MINDROVE_WIFI_BOARD, params)\n",
    "\n",
    "\n",
    "try:\n",
    "    board.stop_stream()\n",
    "    board.release_session()\n",
    "except:\n",
    "    ...\n",
    "    \n",
    "board.prepare_session()\n",
    "sample_rate = board.get_sampling_rate(16)\n",
    "n_channels  = 6\n",
    "\n",
    "sample_rate = board.get_sampling_rate(16)\n",
    "\n",
    "print(\"Device ready (sampling rate: {}hz)\".format(sample_rate))"
   ]
  },
  {
   "cell_type": "code",
   "execution_count": 7,
   "metadata": {
    "scrolled": true
   },
   "outputs": [
    {
     "name": "stdout",
     "output_type": "stream",
     "text": [
      "(6, 100)\n"
     ]
    },
    {
     "data": {
      "image/png": "[encoded data removed]",
      "text/plain": [
       "<Figure size 1224x144 with 6 Axes>"
      ]
     },
     "metadata": {
      "needs_background": "light"
     },
     "output_type": "display_data"
    },
    {
     "name": "stdout",
     "output_type": "stream",
     "text": [
      "Prediction: Rest\n"
     ]
    },
    {
     "ename": "KeyboardInterrupt",
     "evalue": "",
     "output_type": "error",
     "traceback": [
      "\u001b[1;31m---------------------------------------------------------------------------\u001b[0m",
      "\u001b[1;31mKeyboardInterrupt\u001b[0m                         Traceback (most recent call last)",
      "\u001b[1;32m<ipython-input-7-183616c8519d>\u001b[0m in \u001b[0;36m<module>\u001b[1;34m\u001b[0m\n\u001b[0;32m     24\u001b[0m \u001b[1;33m\u001b[0m\u001b[0m\n\u001b[0;32m     25\u001b[0m \u001b[1;33m\u001b[0m\u001b[0m\n\u001b[1;32m---> 26\u001b[1;33m \u001b[0mSVM_Predict\u001b[0m\u001b[1;33m(\u001b[0m\u001b[1;33m)\u001b[0m\u001b[1;33m\u001b[0m\u001b[0m\n\u001b[0m",
      "\u001b[1;32m<ipython-input-7-183616c8519d>\u001b[0m in \u001b[0;36mSVM_Predict\u001b[1;34m(classes)\u001b[0m\n\u001b[0;32m     11\u001b[0m \u001b[1;33m\u001b[0m\u001b[0m\n\u001b[0;32m     12\u001b[0m         \u001b[0mboard\u001b[0m\u001b[1;33m.\u001b[0m\u001b[0mget_board_data\u001b[0m\u001b[1;33m(\u001b[0m\u001b[1;33m)\u001b[0m \u001b[1;31m# clear buffer\u001b[0m\u001b[1;33m\u001b[0m\u001b[0m\n\u001b[1;32m---> 13\u001b[1;33m         \u001b[0mtime\u001b[0m\u001b[1;33m.\u001b[0m\u001b[0msleep\u001b[0m\u001b[1;33m(\u001b[0m\u001b[0mlength_of_signal\u001b[0m\u001b[1;33m*\u001b[0m\u001b[1;36m1.1\u001b[0m\u001b[1;33m)\u001b[0m \u001b[1;31m# record longer to make sure there is enough data\u001b[0m\u001b[1;33m\u001b[0m\u001b[0m\n\u001b[0m\u001b[0;32m     14\u001b[0m         \u001b[0mdata\u001b[0m \u001b[1;33m=\u001b[0m \u001b[0mboard\u001b[0m\u001b[1;33m.\u001b[0m\u001b[0mget_board_data\u001b[0m\u001b[1;33m(\u001b[0m\u001b[1;33m)\u001b[0m\u001b[1;33m\u001b[0m\u001b[0m\n\u001b[0;32m     15\u001b[0m         \u001b[0mdata\u001b[0m \u001b[1;33m=\u001b[0m \u001b[0mdata\u001b[0m\u001b[1;33m[\u001b[0m\u001b[1;33m:\u001b[0m\u001b[1;36m6\u001b[0m\u001b[1;33m,\u001b[0m\u001b[1;33m:\u001b[0m\u001b[0msample_rate\u001b[0m\u001b[1;33m*\u001b[0m\u001b[0mlength_of_signal\u001b[0m\u001b[1;33m]\u001b[0m \u001b[1;31m#keep the data of the eeg channels only, and remove data over the trial length\u001b[0m\u001b[1;33m\u001b[0m\u001b[0m\n",
      "\u001b[1;31mKeyboardInterrupt\u001b[0m: "
     ]
    }
   ],
   "source": [
    "def SVM_Predict(classes = ['Eyebrow','Chew']):\n",
    "    print(\"Loading model...\")\n",
    "\n",
    "    svm = load('saved_models/svm_acc_95.joblib')\n",
    "    classes = ['Rest'] + classes\n",
    "   \n",
    "    length_of_signal = 2 #seconds\n",
    "    board.start_stream(3) # plus 2 sec to be sure\n",
    "    print(\"Starting...\")\n",
    "    while True:\n",
    "\n",
    "        board.get_board_data() # clear buffer\n",
    "        time.sleep(length_of_signal*1.1) # record longer to make sure there is enough data\n",
    "        data = board.get_board_data()\n",
    "        data = data[:6,:sample_rate*length_of_signal] #keep the data of the eeg channels only, and remove data over the trial length\n",
    "    \n",
    "        preProcessed = preProcess_svm(data, 100)\n",
    "        \n",
    "        prediction = svm.predict(preProcessed.reshape(-1,6*100))[0]\n",
    "        clear_output()\n",
    "        print(preProcessed.shape)\n",
    "        showMe(preProcessed)\n",
    "        print(f'Prediction: {classes[int(prediction)]}')\n",
    "    \n",
    "        \n",
    "SVM_Predict()\n"
   ]
  },
  {
   "cell_type": "code",
   "execution_count": 7,
   "metadata": {},
   "outputs": [
    {
     "data": {
      "image/png": "[encoded data removed]",
      "text/plain": [
       "<Figure size 1224x144 with 6 Axes>"
      ]
     },
     "metadata": {
      "needs_background": "light"
     },
     "output_type": "display_data"
    },
    {
     "name": "stdout",
     "output_type": "stream",
     "text": [
      "Prediction: Eyebrow\n"
     ]
    },
    {
     "ename": "KeyboardInterrupt",
     "evalue": "",
     "output_type": "error",
     "traceback": [
      "\u001b[1;31m---------------------------------------------------------------------------\u001b[0m",
      "\u001b[1;31mKeyboardInterrupt\u001b[0m                         Traceback (most recent call last)",
      "\u001b[1;32m<ipython-input-7-53ac04cdb390>\u001b[0m in \u001b[0;36m<module>\u001b[1;34m\u001b[0m\n\u001b[0;32m     23\u001b[0m \u001b[1;33m\u001b[0m\u001b[0m\n\u001b[0;32m     24\u001b[0m \u001b[1;33m\u001b[0m\u001b[0m\n\u001b[1;32m---> 25\u001b[1;33m \u001b[0mDeep_Predict\u001b[0m\u001b[1;33m(\u001b[0m\u001b[1;33m)\u001b[0m\u001b[1;33m\u001b[0m\u001b[0m\n\u001b[0m",
      "\u001b[1;32m<ipython-input-7-53ac04cdb390>\u001b[0m in \u001b[0;36mDeep_Predict\u001b[1;34m(classes)\u001b[0m\n\u001b[0;32m      9\u001b[0m     \u001b[1;32mwhile\u001b[0m \u001b[1;32mTrue\u001b[0m\u001b[1;33m:\u001b[0m\u001b[1;33m\u001b[0m\u001b[0m\n\u001b[0;32m     10\u001b[0m         \u001b[0mboard\u001b[0m\u001b[1;33m.\u001b[0m\u001b[0mget_board_data\u001b[0m\u001b[1;33m(\u001b[0m\u001b[1;33m)\u001b[0m \u001b[1;31m# clear buffer\u001b[0m\u001b[1;33m\u001b[0m\u001b[0m\n\u001b[1;32m---> 11\u001b[1;33m         \u001b[0mtime\u001b[0m\u001b[1;33m.\u001b[0m\u001b[0msleep\u001b[0m\u001b[1;33m(\u001b[0m\u001b[0mlength_of_signal\u001b[0m\u001b[1;33m*\u001b[0m\u001b[1;36m1.1\u001b[0m\u001b[1;33m)\u001b[0m \u001b[1;31m# record longer to make sure there is enough data\u001b[0m\u001b[1;33m\u001b[0m\u001b[0m\n\u001b[0m\u001b[0;32m     12\u001b[0m         \u001b[0mdata\u001b[0m \u001b[1;33m=\u001b[0m \u001b[0mboard\u001b[0m\u001b[1;33m.\u001b[0m\u001b[0mget_board_data\u001b[0m\u001b[1;33m(\u001b[0m\u001b[1;33m)\u001b[0m\u001b[1;33m\u001b[0m\u001b[0m\n\u001b[0;32m     13\u001b[0m         \u001b[0mdata\u001b[0m \u001b[1;33m=\u001b[0m \u001b[0mdata\u001b[0m\u001b[1;33m[\u001b[0m\u001b[1;33m:\u001b[0m\u001b[1;36m6\u001b[0m\u001b[1;33m,\u001b[0m\u001b[1;33m:\u001b[0m\u001b[0msample_rate\u001b[0m\u001b[1;33m*\u001b[0m\u001b[0mlength_of_signal\u001b[0m\u001b[1;33m]\u001b[0m \u001b[1;31m#keep the data of the eeg channels only, and remove data over the trial length\u001b[0m\u001b[1;33m\u001b[0m\u001b[0m\n",
      "\u001b[1;31mKeyboardInterrupt\u001b[0m: "
     ]
    }
   ],
   "source": [
    "def Deep_Predict(classes = ['Eyebrow','Chew']):\n",
    "    print(\"Loading model...\")\n",
    "    deep = load_model('saved_models/dense_val_acc_94')\n",
    "    classes = ['Rest'] + classes\n",
    "   \n",
    "    length_of_signal = 2 #seconds\n",
    "    board.start_stream(3) # plus 2 sec to be sure\n",
    "    print(\"Starting...\")\n",
    "    while True:\n",
    "        board.get_board_data() # clear buffer\n",
    "        time.sleep(length_of_signal*1.1) # record longer to make sure there is enough data\n",
    "        data = board.get_board_data()\n",
    "        data = data[:6,:sample_rate*length_of_signal] #keep the data of the eeg channels only, and remove data over the trial length\n",
    "    \n",
    "        preProcessed = preProcess_deep(data, 200)\n",
    "        \n",
    "        prediction = deep.predict(np.array([preProcessed]))[0]   # Fake 1 batch \n",
    "\n",
    "        clear_output()\n",
    "        showMe(preProcessed)\n",
    "\n",
    "        print(f'Prediction: {classes[int(max(prediction))]}')\n",
    "    \n",
    "        \n",
    "Deep_Predict()"
   ]
  },
  {
   "cell_type": "code",
   "execution_count": null,
   "metadata": {},
   "outputs": [],
   "source": []
  }
 ],
 "metadata": {
  "interpreter": {
   "hash": "a81b55685ebb6380129efe90592a7e4f2f571da2ab32c8bbcf8b970d830ead19"
  },
  "kernelspec": {
   "display_name": "Python 3.7.6 64-bit",
   "name": "python3"
  },
  "language_info": {
   "codemirror_mode": {
    "name": "ipython",
    "version": 3
   },
   "file_extension": ".py",
   "mimetype": "text/x-python",
   "name": "python",
   "nbconvert_exporter": "python",
   "pygments_lexer": "ipython3",
   "version": "3.7.0"
  }
 },
 "nbformat": 4,
 "nbformat_minor": 4
}
