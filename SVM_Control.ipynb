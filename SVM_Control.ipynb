{
 "cells": [
  {
   "cell_type": "code",
   "execution_count": 1,
   "metadata": {},
   "outputs": [
    {
     "name": "stderr",
     "output_type": "stream",
     "text": [
      "C:\\Users\\Nemes\\anaconda3\\envs\\tf\\lib\\site-packages\\numpy\\_distributor_init.py:32: UserWarning: loaded more than 1 DLL from .libs:\n",
      "C:\\Users\\Nemes\\anaconda3\\envs\\tf\\lib\\site-packages\\numpy\\.libs\\libopenblas.PYQHXLVVQ7VESDPUVUADXEVJOBGHJPAY.gfortran-win_amd64.dll\n",
      "C:\\Users\\Nemes\\anaconda3\\envs\\tf\\lib\\site-packages\\numpy\\.libs\\libopenblas.WCDJNK7YVMPZQ2ME2ZZHJJRJ3JIKNDB7.gfortran-win_amd64.dll\n",
      "C:\\Users\\Nemes\\anaconda3\\envs\\tf\\lib\\site-packages\\numpy\\.libs\\libopenblas.XWYDX2IKJW2NMTWSFYNGFUWKQU3LYTCZ.gfortran-win_amd64.dll\n",
      "  stacklevel=1)\n"
     ]
    }
   ],
   "source": [
    "import os\n",
    "import time\n",
    "import numpy as np\n",
    "import tensorflow as tf\n",
    "from tensorflow.keras.models import load_model\n",
    "\n",
    "from joblib import load\n",
    "from utils.visualize import showMe\n",
    "from IPython.display import clear_output\n",
    "import datetime\n",
    "import brainflow\n",
    "from scipy import signal\n",
    "\n",
    "from brainflow.board_shim import BoardShim, BrainFlowInputParams, BoardIds, BrainFlowError\n",
    "\n",
    "from tqdm.notebook import tqdm\n",
    "\n",
    "\n",
    "\n",
    "from matplotlib import pyplot as plt\n",
    "from sklearn.model_selection import train_test_split\n",
    "\n",
    "\n",
    "%matplotlib inline\n",
    "\n",
    "\n",
    "\n",
    "from utils.visualize import showMe, stat\n",
    "from utils.ros import connect, commands\n",
    "from utils.record import preProcess, DCFilter\n",
    "%load_ext autoreload\n",
    "%autoreload 2\n",
    "\n",
    "classes = ['Rest', 'Eyebrow','Smile', 'Chew']"
   ]
  },
  {
   "cell_type": "code",
   "execution_count": null,
   "metadata": {},
   "outputs": [],
   "source": [
    "ros, talker = connect()"
   ]
  },
  {
   "cell_type": "code",
   "execution_count": 2,
   "metadata": {},
   "outputs": [
    {
     "name": "stdout",
     "output_type": "stream",
     "text": [
      "Device ready (sampling rate: 500hz)\n"
     ]
    }
   ],
   "source": [
    "####      INIT BOARD        #######\n",
    "BoardShim.enable_dev_board_logger()\n",
    "params = BrainFlowInputParams()\n",
    "board = BoardShim(BoardIds.MINDROVE_WIFI_BOARD, params)\n",
    "\n",
    "\n",
    "try:\n",
    "    board.stop_stream()\n",
    "    board.release_session()\n",
    "except:\n",
    "    ...\n",
    "    \n",
    "board.prepare_session()\n",
    "sample_rate = board.get_sampling_rate(16)\n",
    "print(\"Device ready (sampling rate: {}hz)\".format(sample_rate))"
   ]
  },
  {
   "cell_type": "code",
   "execution_count": 3,
   "metadata": {
    "scrolled": true
   },
   "outputs": [],
   "source": [
    "def predict(svm, sample):\n",
    "    sample = preProcess(sample)\n",
    "    prediction = svm.predict(sample.reshape(-1,6*100))[0]\n",
    "\n",
    "    #######################################\n",
    "    if int(prediction) == 1:\n",
    "        talker.publish(commands['forward'])\n",
    "    if int(prediction) == 2:\n",
    "        talker.publish(commands['left'])\n",
    "    if int(prediction) == 3:\n",
    "        talker.publish(commands['right'])\n",
    "    #######################################\n",
    "\n",
    "    prediction_class = classes[int(prediction)]\n",
    "    \n",
    "    showMe(sample)\n",
    "    print(f'Prediction: {prediction_class}')\n",
    "    return prediction_class\n",
    "\n",
    "def JustDoIt(std_threshold=200, cut = 2000):\n",
    "\n",
    "    command_history = []\n",
    "    print(\"Loading model...\")\n",
    "\n",
    "    svm = load('saved_models/svm_02_27.joblib')\n",
    "\n",
    "  \n",
    "    board.start_stream(450000)\n",
    "\n",
    "    time.sleep(2)   #WAIT TO DC AVERAGE STAND IN\n",
    "    print(\"Starting...\")\n",
    "\n",
    "    action_time = None\n",
    "    block_time = None\n",
    "    while True:\n",
    "        time.sleep(0.001)\n",
    "        data = board.get_current_board_data(sample_rate*60) #1min\n",
    "        data = DCFilter(data)\n",
    "        data = data[:6,-500:] #keep the data of the eeg channels only, and remove data over the trial length\n",
    "        _, _, std = stat(data)\n",
    "       \n",
    "        \n",
    "        if std == 0:\n",
    "            print(\"[ERROR] No data collected! Check the MindRove device and try again.\")\n",
    "            break\n",
    "        \n",
    "        is_block = False\n",
    "        if block_time is not None:\n",
    "            is_block = datetime.datetime.now() < block_time\n",
    "        if action_time is None and not is_block:\n",
    "            if std > std_threshold:\n",
    "                action_time  =  datetime.datetime.now()\n",
    "                stop_time = action_time + datetime.timedelta(milliseconds=500)\n",
    "        else:\n",
    "            time_diff = (datetime.datetime.now() - stop_time).total_seconds()\n",
    "            if abs(time_diff) < 0.01:\n",
    "                clear_output()\n",
    "                command_history.append(predict(svm, data))\n",
    "                print(command_history)\n",
    "                \n",
    "                action_time = None\n",
    "                block_time = datetime.datetime.now()+datetime.timedelta(milliseconds=1000)\n"
   ]
  },
  {
   "cell_type": "code",
   "execution_count": 4,
   "metadata": {},
   "outputs": [
    {
     "name": "stdout",
     "output_type": "stream",
     "text": [
      "['Chew', 'Rest', 'Chew', 'Chew', 'Chew', 'Rest', 'Chew', 'Rest', 'Blink', 'Smile', 'Chew', 'Rest', 'Rest', 'Rest', 'Blink', 'Smile', 'Smile', 'Smile', 'Blink', 'Chew', 'Chew', 'Rest', 'Blink', 'Smile', 'Smile', 'Smile', 'Smile', 'Smile', 'Smile', 'Smile', 'Smile', 'Smile', 'Smile']\n"
     ]
    },
    {
     "data": {
      "image/png": "[encoded data removed]",
      "text/plain": [
       "<Figure size 360x360 with 1 Axes>"
      ]
     },
     "metadata": {},
     "output_type": "display_data"
    },
    {
     "name": "stdout",
     "output_type": "stream",
     "text": [
      "Prediction: Smile\n"
     ]
    },
    {
     "ename": "KeyboardInterrupt",
     "evalue": "",
     "output_type": "error",
     "traceback": [
      "\u001b[1;31m---------------------------------------------------------------------------\u001b[0m",
      "\u001b[1;31mKeyboardInterrupt\u001b[0m                         Traceback (most recent call last)",
      "\u001b[1;32m<ipython-input-4-b471f28a6c1e>\u001b[0m in \u001b[0;36m<module>\u001b[1;34m\u001b[0m\n\u001b[1;32m----> 1\u001b[1;33m \u001b[0mSVM_Predict\u001b[0m\u001b[1;33m(\u001b[0m\u001b[1;33m)\u001b[0m\u001b[1;33m\u001b[0m\u001b[0m\n\u001b[0m",
      "\u001b[1;32m<ipython-input-3-797fe5f1dda1>\u001b[0m in \u001b[0;36mSVM_Predict\u001b[1;34m(std_threshold, cut)\u001b[0m\n\u001b[0;32m     18\u001b[0m     \u001b[0mblock_time\u001b[0m \u001b[1;33m=\u001b[0m \u001b[1;32mNone\u001b[0m\u001b[1;33m\u001b[0m\u001b[0m\n\u001b[0;32m     19\u001b[0m     \u001b[1;32mwhile\u001b[0m \u001b[1;32mTrue\u001b[0m\u001b[1;33m:\u001b[0m\u001b[1;33m\u001b[0m\u001b[0m\n\u001b[1;32m---> 20\u001b[1;33m         \u001b[0mtime\u001b[0m\u001b[1;33m.\u001b[0m\u001b[0msleep\u001b[0m\u001b[1;33m(\u001b[0m\u001b[1;36m0.001\u001b[0m\u001b[1;33m)\u001b[0m \u001b[1;31m# record longer to make sure there is enough data\u001b[0m\u001b[1;33m\u001b[0m\u001b[0m\n\u001b[0m\u001b[0;32m     21\u001b[0m         \u001b[0mdata\u001b[0m \u001b[1;33m=\u001b[0m \u001b[0mboard\u001b[0m\u001b[1;33m.\u001b[0m\u001b[0mget_current_board_data\u001b[0m\u001b[1;33m(\u001b[0m\u001b[0msample_rate\u001b[0m\u001b[1;33m*\u001b[0m\u001b[1;36m60\u001b[0m\u001b[1;33m)\u001b[0m \u001b[1;31m#1min\u001b[0m\u001b[1;33m\u001b[0m\u001b[0m\n\u001b[0;32m     22\u001b[0m         \u001b[0mdata\u001b[0m \u001b[1;33m=\u001b[0m \u001b[0mDCFilter\u001b[0m\u001b[1;33m(\u001b[0m\u001b[0mdata\u001b[0m\u001b[1;33m)\u001b[0m\u001b[1;33m\u001b[0m\u001b[0m\n",
      "\u001b[1;31mKeyboardInterrupt\u001b[0m: "
     ]
    }
   ],
   "source": [
    "JustDoIt()"
   ]
  },
  {
   "cell_type": "code",
   "execution_count": null,
   "metadata": {},
   "outputs": [],
   "source": [
    "def done():\n",
    "    talker.unadvertise()\n",
    "    ros.terminate()\n",
    "    board.stop_stream()\n",
    "    board.release_session()\n",
    "done()"
   ]
  }
 ],
 "metadata": {
  "interpreter": {
   "hash": "a81b55685ebb6380129efe90592a7e4f2f571da2ab32c8bbcf8b970d830ead19"
  },
  "kernelspec": {
   "display_name": "Python 3.7.6 64-bit",
   "name": "python3"
  },
  "language_info": {
   "codemirror_mode": {
    "name": "ipython",
    "version": 3
   },
   "file_extension": ".py",
   "mimetype": "text/x-python",
   "name": "python",
   "nbconvert_exporter": "python",
   "pygments_lexer": "ipython3",
   "version": "3.7.6"
  }
 },
 "nbformat": 4,
 "nbformat_minor": 4
}
