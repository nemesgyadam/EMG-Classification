{
 "cells": [
  {
   "cell_type": "code",
   "execution_count": 1,
   "metadata": {},
   "outputs": [],
   "source": [
    "import os\n",
    "import time\n",
    "import numpy as np\n",
    "import tensorflow as tf\n",
    "from tensorflow.keras.models import load_model\n",
    "\n",
    "from joblib import load\n",
    "from utils.visualize import showMe\n",
    "from IPython.display import clear_output\n",
    "import datetime\n",
    "import brainflow\n",
    "from scipy import signal\n",
    "\n",
    "from brainflow.board_shim import BoardShim, BrainFlowInputParams, BoardIds, BrainFlowError\n",
    "\n",
    "from tqdm.notebook import tqdm\n",
    "\n",
    "\n",
    "\n",
    "from matplotlib import pyplot as plt\n",
    "from sklearn.model_selection import train_test_split\n",
    "\n",
    "\n",
    "%matplotlib inline\n",
    "\n",
    "\n",
    "\n",
    "from utils.visualize import showMe\n",
    "from utils.ros import connect, commands\n",
    "from utils.record import preProcess, stat\n",
    "from utils.svm import DCFilter, clip, remove2channel\n",
    "from config.default import *\n",
    "\n",
    "%load_ext autoreload\n",
    "%autoreload 2\n",
    "\n",
    "classes = settings['classes']\n",
    "model_path = 'saved_models/svm_9subj_no_val.joblib'\n"
   ]
  },
  {
   "cell_type": "code",
   "execution_count": 2,
   "metadata": {},
   "outputs": [
    {
     "name": "stdout",
     "output_type": "stream",
     "text": [
      "Connected to ROS\n"
     ]
    }
   ],
   "source": [
    "ros, talker = connect()"
   ]
  },
  {
   "cell_type": "code",
   "execution_count": 3,
   "metadata": {},
   "outputs": [
    {
     "name": "stdout",
     "output_type": "stream",
     "text": [
      "Device ready (sampling rate: 500hz)\n"
     ]
    }
   ],
   "source": [
    "####      INIT BOARD        #######\n",
    "BoardShim.enable_dev_board_logger()\n",
    "params = BrainFlowInputParams()\n",
    "board = BoardShim(BoardIds.MINDROVE_WIFI_BOARD, params)\n",
    "\n",
    "\n",
    "try:\n",
    "    board.stop_stream()\n",
    "    board.release_session()\n",
    "except:\n",
    "    ...\n",
    "    \n",
    "board.prepare_session()\n",
    "sample_rate = board.get_sampling_rate(16)\n",
    "print(\"Device ready (sampling rate: {}hz)\".format(sample_rate))"
   ]
  },
  {
   "cell_type": "code",
   "execution_count": 4,
   "metadata": {
    "scrolled": true
   },
   "outputs": [],
   "source": [
    "def predict(svm, sample):\n",
    "    #sample = preProcess(sample, clip_value)\n",
    "    sample = remove2channel(sample)\n",
    "    sample = clip(sample, settings['clip_value'])\n",
    "\n",
    "    prediction = svm.predict(sample.reshape(-1,4*500))[0]\n",
    "\n",
    "    try:\n",
    "        #######################################\n",
    "        if int(prediction) == 2:\n",
    "            talker.publish(commands['forward'])\n",
    "        if int(prediction) == 1:\n",
    "            talker.publish(commands['left'])\n",
    "        if int(prediction) == 3:\n",
    "            talker.publish(commands['right'])\n",
    "        #######################################\n",
    "    except Exception as e:\n",
    "        print(\"No ROS Connection\")\n",
    "        \n",
    "    prediction_class = classes[int(prediction)]\n",
    "    \n",
    "    showMe(sample)\n",
    "    print(f'Prediction: {prediction_class}')\n",
    "    return prediction_class\n",
    "\n",
    "def JustDoIt():\n",
    "    std_threshold = settings['std_threshold']\n",
    "    cut = settings['clip_value']\n",
    "    command_history = []\n",
    "    print(\"Loading model...\")\n",
    "\n",
    "    svm = load(model_path)\n",
    "\n",
    "  \n",
    "    board.start_stream(450000)\n",
    "\n",
    "    time.sleep(2)   #WAIT TO DC AVERAGE STAND IN\n",
    "    print(\"Starting...\")\n",
    "\n",
    "    action_time = None\n",
    "    block_time = None\n",
    "    while True:\n",
    "        time.sleep(0.001)\n",
    "        data = board.get_current_board_data(sample_rate*settings['DC_length_control']) #10 seconds\n",
    "        data = DCFilter(data)\n",
    "        data = data[:6,-500:] #keep the data of the eeg channels only, and remove data over the trial length\n",
    "        _, _, std = stat(data)\n",
    "       \n",
    "        \n",
    "        if std == 0:\n",
    "            print(\"[ERROR] No data collected! Check the MindRove device and try again.\")\n",
    "            break\n",
    "        \n",
    "        is_block = False\n",
    "        if block_time is not None:\n",
    "            is_block = datetime.datetime.now() < block_time\n",
    "        if action_time is None and not is_block:\n",
    "            if std > std_threshold:\n",
    "                action_time  =  datetime.datetime.now()\n",
    "                stop_time = action_time + datetime.timedelta(milliseconds=500*0.6)\n",
    "        else:\n",
    "            time_diff = (datetime.datetime.now() - stop_time).total_seconds()\n",
    "            if abs(time_diff) < 0.01:\n",
    "                clear_output()\n",
    "                command_history.append(predict(svm, data))\n",
    "                print(command_history)\n",
    "                \n",
    "                action_time = None\n",
    "                block_time = datetime.datetime.now()+datetime.timedelta(milliseconds=1000)\n"
   ]
  },
  {
   "cell_type": "code",
   "execution_count": null,
   "metadata": {},
   "outputs": [],
   "source": [
    "JustDoIt()"
   ]
  },
  {
   "cell_type": "code",
   "execution_count": null,
   "metadata": {},
   "outputs": [],
   "source": [
    "def done():\n",
    "    talker.unadvertise()\n",
    "    ros.terminate()\n",
    "    board.stop_stream()\n",
    "    board.release_session()\n",
    "done()"
   ]
  }
 ],
 "metadata": {
  "interpreter": {
   "hash": "a81b55685ebb6380129efe90592a7e4f2f571da2ab32c8bbcf8b970d830ead19"
  },
  "kernelspec": {
   "display_name": "Python 3.7.6 64-bit",
   "name": "python3"
  },
  "language_info": {
   "codemirror_mode": {
    "name": "ipython",
    "version": 3
   },
   "file_extension": ".py",
   "mimetype": "text/x-python",
   "name": "python",
   "nbconvert_exporter": "python",
   "pygments_lexer": "ipython3",
   "version": "3.7.6"
  }
 },
 "nbformat": 4,
 "nbformat_minor": 4
}
