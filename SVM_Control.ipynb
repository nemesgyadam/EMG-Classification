{
 "cells": [
  {
   "cell_type": "code",
   "execution_count": 9,
   "metadata": {},
   "outputs": [
    {
     "name": "stdout",
     "output_type": "stream",
     "text": [
      "The autoreload extension is already loaded. To reload it, use:\n",
      "  %reload_ext autoreload\n"
     ]
    }
   ],
   "source": [
    "import os\n",
    "import time\n",
    "import numpy as np\n",
    "import tensorflow as tf\n",
    "from tensorflow.keras.models import load_model\n",
    "\n",
    "from joblib import load\n",
    "from utils.visualize import showMe\n",
    "from IPython.display import clear_output\n",
    "import datetime\n",
    "import brainflow\n",
    "from scipy import signal\n",
    "\n",
    "from brainflow.board_shim import BoardShim, BrainFlowInputParams, BoardIds, BrainFlowError\n",
    "\n",
    "from tqdm.notebook import tqdm\n",
    "\n",
    "\n",
    "\n",
    "from matplotlib import pyplot as plt\n",
    "from sklearn.model_selection import train_test_split\n",
    "\n",
    "\n",
    "%matplotlib inline\n",
    "\n",
    "\n",
    "\n",
    "from utils.visualize import showMe\n",
    "from utils.ros import connect, commands\n",
    "from utils.record import preProcess, stat\n",
    "from utils.svm import DCFilter\n",
    "%load_ext autoreload\n",
    "%autoreload 2\n",
    "\n",
    "classes = ['Rest', 'Eyebrow','Smile', 'Chew']\n",
    "model_path = 'saved_models/svm_03_02.joblib'\n",
    "clip_value = 2000"
   ]
  },
  {
   "cell_type": "code",
   "execution_count": 3,
   "metadata": {},
   "outputs": [
    {
     "ename": "Exception",
     "evalue": "Failed to connect to ROS",
     "output_type": "error",
     "traceback": [
      "\u001b[1;31m---------------------------------------------------------------------------\u001b[0m",
      "\u001b[1;31mException\u001b[0m                                 Traceback (most recent call last)",
      "\u001b[1;32m<ipython-input-3-43928c814bc0>\u001b[0m in \u001b[0;36m<module>\u001b[1;34m\u001b[0m\n\u001b[1;32m----> 1\u001b[1;33m \u001b[0mros\u001b[0m\u001b[1;33m,\u001b[0m \u001b[0mtalker\u001b[0m \u001b[1;33m=\u001b[0m \u001b[0mconnect\u001b[0m\u001b[1;33m(\u001b[0m\u001b[1;33m)\u001b[0m\u001b[1;33m\u001b[0m\u001b[0m\n\u001b[0m",
      "\u001b[1;32mc:\\Code\\EMG-Classification\\utils\\ros.py\u001b[0m in \u001b[0;36mconnect\u001b[1;34m(host, port, topic)\u001b[0m\n\u001b[0;32m     13\u001b[0m     \"\"\"\n\u001b[0;32m     14\u001b[0m     \u001b[0mros\u001b[0m \u001b[1;33m=\u001b[0m \u001b[0mroslibpy\u001b[0m\u001b[1;33m.\u001b[0m\u001b[0mRos\u001b[0m\u001b[1;33m(\u001b[0m\u001b[0mhost\u001b[0m\u001b[1;33m=\u001b[0m\u001b[0mhost\u001b[0m\u001b[1;33m,\u001b[0m \u001b[0mport\u001b[0m\u001b[1;33m=\u001b[0m\u001b[0mport\u001b[0m\u001b[1;33m)\u001b[0m\u001b[1;33m\u001b[0m\u001b[0m\n\u001b[1;32m---> 15\u001b[1;33m     \u001b[0mros\u001b[0m\u001b[1;33m.\u001b[0m\u001b[0mrun\u001b[0m\u001b[1;33m(\u001b[0m\u001b[1;33m)\u001b[0m\u001b[1;33m\u001b[0m\u001b[0m\n\u001b[0m\u001b[0;32m     16\u001b[0m \u001b[1;33m\u001b[0m\u001b[0m\n\u001b[0;32m     17\u001b[0m     \u001b[1;32mif\u001b[0m \u001b[0mros\u001b[0m\u001b[1;33m.\u001b[0m\u001b[0mis_connected\u001b[0m\u001b[1;33m:\u001b[0m\u001b[1;33m\u001b[0m\u001b[0m\n",
      "\u001b[1;32m~\\anaconda3\\envs\\tf\\lib\\site-packages\\roslibpy\\ros.py\u001b[0m in \u001b[0;36mrun\u001b[1;34m(self, timeout)\u001b[0m\n\u001b[0;32m    100\u001b[0m \u001b[1;33m\u001b[0m\u001b[0m\n\u001b[0;32m    101\u001b[0m         \u001b[1;32mif\u001b[0m \u001b[1;32mnot\u001b[0m \u001b[0mwait_connect\u001b[0m\u001b[1;33m.\u001b[0m\u001b[0mwait\u001b[0m\u001b[1;33m(\u001b[0m\u001b[0mtimeout\u001b[0m\u001b[1;33m)\u001b[0m\u001b[1;33m:\u001b[0m\u001b[1;33m\u001b[0m\u001b[0m\n\u001b[1;32m--> 102\u001b[1;33m             \u001b[1;32mraise\u001b[0m \u001b[0mException\u001b[0m\u001b[1;33m(\u001b[0m\u001b[1;34m'Failed to connect to ROS'\u001b[0m\u001b[1;33m)\u001b[0m\u001b[1;33m\u001b[0m\u001b[0m\n\u001b[0m\u001b[0;32m    103\u001b[0m \u001b[1;33m\u001b[0m\u001b[0m\n\u001b[0;32m    104\u001b[0m     \u001b[1;32mdef\u001b[0m \u001b[0mrun_forever\u001b[0m\u001b[1;33m(\u001b[0m\u001b[0mself\u001b[0m\u001b[1;33m)\u001b[0m\u001b[1;33m:\u001b[0m\u001b[1;33m\u001b[0m\u001b[0m\n",
      "\u001b[1;31mException\u001b[0m: Failed to connect to ROS"
     ]
    }
   ],
   "source": [
    "ros, talker = connect()"
   ]
  },
  {
   "cell_type": "code",
   "execution_count": 10,
   "metadata": {},
   "outputs": [
    {
     "name": "stdout",
     "output_type": "stream",
     "text": [
      "Device ready (sampling rate: 500hz)\n"
     ]
    }
   ],
   "source": [
    "####      INIT BOARD        #######\n",
    "BoardShim.enable_dev_board_logger()\n",
    "params = BrainFlowInputParams()\n",
    "board = BoardShim(BoardIds.MINDROVE_WIFI_BOARD, params)\n",
    "\n",
    "\n",
    "try:\n",
    "    board.stop_stream()\n",
    "    board.release_session()\n",
    "except:\n",
    "    ...\n",
    "    \n",
    "board.prepare_session()\n",
    "sample_rate = board.get_sampling_rate(16)\n",
    "print(\"Device ready (sampling rate: {}hz)\".format(sample_rate))"
   ]
  },
  {
   "cell_type": "code",
   "execution_count": 11,
   "metadata": {
    "scrolled": true
   },
   "outputs": [],
   "source": [
    "def predict(svm, sample):\n",
    "    sample = preProcess(sample, clip_value)\n",
    "    prediction = svm.predict(sample.reshape(-1,6*100))[0]\n",
    "\n",
    "    try:\n",
    "        #######################################\n",
    "        if int(prediction) == 1:\n",
    "            talker.publish(commands['forward'])\n",
    "        if int(prediction) == 2:\n",
    "            talker.publish(commands['left'])\n",
    "        if int(prediction) == 3:\n",
    "            talker.publish(commands['right'])\n",
    "        #######################################\n",
    "    except Exception as e:\n",
    "        print(\"No ROS Connection\")\n",
    "        \n",
    "    prediction_class = classes[int(prediction)]\n",
    "    \n",
    "    showMe(sample)\n",
    "    print(f'Prediction: {prediction_class}')\n",
    "    return prediction_class\n",
    "\n",
    "def JustDoIt(std_threshold=200, cut = 2000):\n",
    "\n",
    "    command_history = []\n",
    "    print(\"Loading model...\")\n",
    "\n",
    "    svm = load(model_path)\n",
    "\n",
    "  \n",
    "    board.start_stream(450000)\n",
    "\n",
    "    time.sleep(2)   #WAIT TO DC AVERAGE STAND IN\n",
    "    print(\"Starting...\")\n",
    "\n",
    "    action_time = None\n",
    "    block_time = None\n",
    "    while True:\n",
    "        time.sleep(0.001)\n",
    "        data = board.get_current_board_data(sample_rate*60) #1min\n",
    "        data = DCFilter(data)\n",
    "        data = data[:6,-500:] #keep the data of the eeg channels only, and remove data over the trial length\n",
    "        _, _, std = stat(data)\n",
    "       \n",
    "        \n",
    "        if std == 0:\n",
    "            print(\"[ERROR] No data collected! Check the MindRove device and try again.\")\n",
    "            break\n",
    "        \n",
    "        is_block = False\n",
    "        if block_time is not None:\n",
    "            is_block = datetime.datetime.now() < block_time\n",
    "        if action_time is None and not is_block:\n",
    "            if std > std_threshold:\n",
    "                action_time  =  datetime.datetime.now()\n",
    "                stop_time = action_time + datetime.timedelta(milliseconds=500)\n",
    "        else:\n",
    "            time_diff = (datetime.datetime.now() - stop_time).total_seconds()\n",
    "            if abs(time_diff) < 0.01:\n",
    "                clear_output()\n",
    "                command_history.append(predict(svm, data))\n",
    "                print(command_history)\n",
    "                \n",
    "                action_time = None\n",
    "                block_time = datetime.datetime.now()+datetime.timedelta(milliseconds=1000)\n"
   ]
  },
  {
   "cell_type": "code",
   "execution_count": 12,
   "metadata": {},
   "outputs": [
    {
     "name": "stdout",
     "output_type": "stream",
     "text": [
      "No ROS Connection\n"
     ]
    },
    {
     "data": {
      "image/png": "[encoded data removed]",
      "text/plain": [
       "<Figure size 360x360 with 1 Axes>"
      ]
     },
     "metadata": {},
     "output_type": "display_data"
    },
    {
     "name": "stdout",
     "output_type": "stream",
     "text": [
      "Prediction: Eyebrow\n",
      "['Eyebrow', 'Eyebrow', 'Chew', 'Chew', 'Smile', 'Eyebrow', 'Eyebrow', 'Eyebrow', 'Eyebrow', 'Eyebrow', 'Eyebrow', 'Eyebrow', 'Eyebrow', 'Eyebrow', 'Eyebrow']\n"
     ]
    }
   ],
   "source": [
    "JustDoIt()"
   ]
  },
  {
   "cell_type": "code",
   "execution_count": null,
   "metadata": {},
   "outputs": [],
   "source": [
    "def done():\n",
    "    talker.unadvertise()\n",
    "    ros.terminate()\n",
    "    board.stop_stream()\n",
    "    board.release_session()\n",
    "done()"
   ]
  }
 ],
 "metadata": {
  "interpreter": {
   "hash": "a81b55685ebb6380129efe90592a7e4f2f571da2ab32c8bbcf8b970d830ead19"
  },
  "kernelspec": {
   "display_name": "Python 3.7.6 64-bit",
   "name": "python3"
  },
  "language_info": {
   "codemirror_mode": {
    "name": "ipython",
    "version": 3
   },
   "file_extension": ".py",
   "mimetype": "text/x-python",
   "name": "python",
   "nbconvert_exporter": "python",
   "pygments_lexer": "ipython3",
   "version": "3.7.0"
  }
 },
 "nbformat": 4,
 "nbformat_minor": 4
}
