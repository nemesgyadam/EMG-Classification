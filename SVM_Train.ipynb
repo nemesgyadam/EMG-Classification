{
 "cells": [
  {
   "cell_type": "code",
   "execution_count": 83,
   "metadata": {},
   "outputs": [
    {
     "name": "stdout",
     "output_type": "stream",
     "text": [
      "The autoreload extension is already loaded. To reload it, use:\n",
      "  %reload_ext autoreload\n"
     ]
    }
   ],
   "source": [
    "import numpy as np\n",
    "import pandas as pd\n",
    "import random\n",
    "import os\n",
    "from matplotlib import pyplot as plt\n",
    "from sklearn.model_selection import train_test_split\n",
    "from joblib import dump\n",
    "from tqdm.notebook import tqdm\n",
    "\n",
    "import itertools\n",
    "from sklearn.utils import shuffle\n",
    "from scipy import signal\n",
    "%matplotlib inline\n",
    "\n",
    "\n",
    "from sklearn.svm import SVC\n",
    "from sklearn.model_selection import GridSearchCV\n",
    "\n",
    "from sklearn.feature_selection import SelectFdr, chi2\n",
    "\n",
    "from sklearn.model_selection import StratifiedKFold, KFold\n",
    "from sklearn.metrics import classification_report,confusion_matrix\n",
    "from sklearn.metrics import accuracy_score\n",
    "\n",
    "from utils.svm import preProcess, evaluate_set\n",
    "from utils.visualize import showMe\n",
    "from utils.augment import augment\n",
    "%load_ext autoreload\n",
    "%autoreload 2\n"
   ]
  },
  {
   "cell_type": "code",
   "execution_count": 71,
   "metadata": {},
   "outputs": [
    {
     "name": "stdout",
     "output_type": "stream",
     "text": [
      "31 sessions loaded for training\n",
      "### TESTING ###\n",
      "3 session loaded for testing\n"
     ]
    }
   ],
   "source": [
    "input_length = 100\n",
    "root_path = 'C:/resources/EMG/'\n",
    "post_fix = '_1s_augmented'\n",
    "exclude = ['S011']\n",
    "exclude_last = ['S001', 'S006', 'S007']\n",
    "train_sessions = []\n",
    "for subject in os.listdir(root_path):\n",
    "    if subject not in exclude:\n",
    "        for session in os.listdir(os.path.join(root_path,subject)):\n",
    "            if session == 'session_4' and subject in exclude_last:\n",
    "                continue\n",
    "            train_sessions.append(os.path.join(root_path,subject, session))\n",
    "        #print(f\"{len(os.listdir(os.path.join(root_path,subject)))} session loaded from subject: {subject}\")\n",
    "print(f\"{len(train_sessions)} sessions loaded for training\")\n",
    "\n",
    "\n",
    "test_sessions = []\n",
    "for subject in os.listdir(root_path):\n",
    "    if subject not in exclude:\n",
    "        for session in os.listdir(os.path.join(root_path,subject)):\n",
    "            if session == 'session_4' and subject in exclude_last:\n",
    "                test_sessions.append(os.path.join(root_path,subject, session))\n",
    "print(f\"{len(test_sessions)} session loaded for testing\")\n",
    "\n"
   ]
  },
  {
   "cell_type": "code",
   "execution_count": 72,
   "metadata": {},
   "outputs": [],
   "source": [
    "\n",
    "classes = ['Rest', 'Eyebrow','Smile', 'Chew']\n",
    "\n",
    "records = {}\n",
    "for c in classes:\n",
    "    class_data = []\n",
    "    for session in train_sessions:\n",
    "        class_data.append(np.load(os.path.join(session,c+post_fix+'.npy'),allow_pickle=True))\n",
    "    records[c] = np.concatenate(class_data)\n"
   ]
  },
  {
   "cell_type": "code",
   "execution_count": 3,
   "metadata": {},
   "outputs": [],
   "source": [
    "def showFirstN(data, limit = 5):\n",
    "    i = 0\n",
    "    for trial in data:\n",
    "        showMe(trial)\n",
    "        if i == 5:\n",
    "            break\n",
    "        i += 1\n"
   ]
  },
  {
   "cell_type": "code",
   "execution_count": null,
   "metadata": {},
   "outputs": [],
   "source": [
    "showFirstN(records['Eyebrow'])"
   ]
  },
  {
   "cell_type": "code",
   "execution_count": 73,
   "metadata": {},
   "outputs": [
    {
     "name": "stdout",
     "output_type": "stream",
     "text": [
      "(9300, 600)\n",
      "(9300,)\n",
      "(18600, 600)\n",
      "(18600,)\n"
     ]
    }
   ],
   "source": [
    "X = np.concatenate((list(records.values())),axis = 0)\n",
    "\n",
    "s = records['Rest'].shape[0]\n",
    "\n",
    "y = np.concatenate(( np.zeros(s),np.ones(s),np.ones(s)*2,np.ones(s)*3))\n",
    "\n",
    "\n",
    "c = list(zip(X, y))\n",
    "random.seed(42)\n",
    "random.shuffle(c)\n",
    "X,y = zip(*c)\n",
    "\n",
    "\n",
    "X = np.array(X).reshape(-1,6*input_length)\n",
    "y = np.array(y)\n",
    "print(X.shape)\n",
    "print(y.shape)\n",
    "X, y = augment(X, y)\n",
    "print(X.shape)\n",
    "print(y.shape)"
   ]
  },
  {
   "cell_type": "code",
   "execution_count": 103,
   "metadata": {},
   "outputs": [],
   "source": [
    "# SMALLER C -> better fit\n",
    "# HIGHER gamma -> better fit\n",
    "#param_grid = {'C': [1, 10, 100,1000], 'gamma': [1,0.1,0.01,0.001,0.0001]} #acc 88 test acc 45\n",
    "param_grid = {'C': [100,1000], 'gamma': [0.01,0.001,0.0001]} #slow\n",
    "\n",
    "#param_grid = {'C': [0.1, 1], 'gamma': [1, 0.1]} "
   ]
  },
  {
   "cell_type": "code",
   "execution_count": 104,
   "metadata": {},
   "outputs": [
    {
     "name": "stdout",
     "output_type": "stream",
     "text": [
      "Fitting 5 folds for each of 6 candidates, totalling 30 fits\n",
      "[CV] END ..................................C=100, gamma=0.01; total time= 1.9min\n",
      "[CV] END ..................................C=100, gamma=0.01; total time= 1.8min\n",
      "[CV] END ..................................C=100, gamma=0.01; total time= 1.6min\n",
      "[CV] END ..................................C=100, gamma=0.01; total time= 1.3min\n",
      "[CV] END ..................................C=100, gamma=0.01; total time= 1.4min\n",
      "[CV] END .................................C=100, gamma=0.001; total time= 1.5min\n",
      "[CV] END .................................C=100, gamma=0.001; total time= 1.6min\n",
      "[CV] END .................................C=100, gamma=0.001; total time= 1.6min\n",
      "[CV] END .................................C=100, gamma=0.001; total time= 1.4min\n",
      "[CV] END .................................C=100, gamma=0.001; total time= 1.5min\n",
      "[CV] END ................................C=100, gamma=0.0001; total time= 1.5min\n",
      "[CV] END ................................C=100, gamma=0.0001; total time= 1.5min\n",
      "[CV] END ................................C=100, gamma=0.0001; total time= 1.5min\n",
      "[CV] END ................................C=100, gamma=0.0001; total time= 1.5min\n",
      "[CV] END ................................C=100, gamma=0.0001; total time= 1.5min\n",
      "[CV] END .................................C=1000, gamma=0.01; total time= 1.6min\n",
      "[CV] END .................................C=1000, gamma=0.01; total time= 1.8min\n",
      "[CV] END .................................C=1000, gamma=0.01; total time= 1.3min\n",
      "[CV] END .................................C=1000, gamma=0.01; total time= 1.3min\n",
      "[CV] END .................................C=1000, gamma=0.01; total time= 1.3min\n",
      "[CV] END ................................C=1000, gamma=0.001; total time= 1.8min\n",
      "[CV] END ................................C=1000, gamma=0.001; total time= 1.8min\n",
      "[CV] END ................................C=1000, gamma=0.001; total time= 1.8min\n",
      "[CV] END ................................C=1000, gamma=0.001; total time= 1.7min\n",
      "[CV] END ................................C=1000, gamma=0.001; total time= 1.6min\n",
      "[CV] END ...............................C=1000, gamma=0.0001; total time= 1.5min\n",
      "[CV] END ...............................C=1000, gamma=0.0001; total time= 1.5min\n",
      "[CV] END ...............................C=1000, gamma=0.0001; total time= 1.6min\n",
      "[CV] END ...............................C=1000, gamma=0.0001; total time= 1.5min\n",
      "[CV] END ...............................C=1000, gamma=0.0001; total time= 1.5min\n"
     ]
    }
   ],
   "source": [
    "accs = []\n",
    "models = []\n",
    "def grid(X_train,y_train, X_test, y_test):\n",
    "    grid = GridSearchCV(SVC(),param_grid,refit=True,verbose=2)\n",
    "    grid.fit(X_train,y_train)\n",
    "\n",
    "    grid_predictions = grid.predict(X_test)\n",
    "    acc = accuracy_score(y_test,grid_predictions)\n",
    "    accs.append(acc)\n",
    "    models.append(grid.best_estimator_)\n",
    "    if acc > 0.9:\n",
    "        return True\n",
    "    else:\n",
    "        return False\n",
    "\n",
    "\n",
    "skf = StratifiedKFold(n_splits=10,random_state= 42, shuffle = True)\n",
    "for train, test in skf.split(X, y):\n",
    "    \n",
    "    X_train = X[train]\n",
    "    y_train = y[train]\n",
    "    X_test = X[test]\n",
    "    y_test = y[test]\n",
    "\n",
    "    if grid(X_train,y_train, X_test, y_test):\n",
    "        break\n",
    "    break\n",
    "    "
   ]
  },
  {
   "cell_type": "code",
   "execution_count": 96,
   "metadata": {},
   "outputs": [
    {
     "name": "stdout",
     "output_type": "stream",
     "text": [
      "0.739247311827957\n"
     ]
    }
   ],
   "source": [
    "model = models[accs.index(max(accs))]\n",
    "for acc in accs:\n",
    "    print(acc)"
   ]
  },
  {
   "cell_type": "code",
   "execution_count": 97,
   "metadata": {},
   "outputs": [
    {
     "data": {
      "application/vnd.jupyter.widget-view+json": {
       "model_id": "6d821566f6684ebbad49563c21ff9dcc",
       "version_major": 2,
       "version_minor": 0
      },
      "text/plain": [
       "  0%|          | 0/31 [00:00<?, ?it/s]"
      ]
     },
     "metadata": {},
     "output_type": "display_data"
    },
    {
     "name": "stdout",
     "output_type": "stream",
     "text": [
      "Global accuracy: 88.0%\n",
      "          Accuracy\n",
      "Subject           \n",
      "S001     89.666667\n",
      "S002     92.000000\n",
      "S003     99.000000\n",
      "S004     79.750000\n",
      "S005     87.500000\n",
      "S006     92.666667\n",
      "S007     88.666667\n",
      "S008     89.250000\n",
      "S009     79.250000\n",
      "S010     95.250000\n"
     ]
    }
   ],
   "source": [
    "evaluate_set(model, train_sessions, classes, post_fix)"
   ]
  },
  {
   "cell_type": "code",
   "execution_count": 99,
   "metadata": {},
   "outputs": [
    {
     "data": {
      "application/vnd.jupyter.widget-view+json": {
       "model_id": "9e6e35c7404745928ccbd74bf6ed55e1",
       "version_major": 2,
       "version_minor": 0
      },
      "text/plain": [
       "  0%|          | 0/3 [00:00<?, ?it/s]"
      ]
     },
     "metadata": {},
     "output_type": "display_data"
    },
    {
     "name": "stdout",
     "output_type": "stream",
     "text": [
      "Global accuracy: 45.33%\n",
      "         Accuracy\n",
      "Subject          \n",
      "S001           62\n",
      "S006           27\n",
      "S007           47\n"
     ]
    }
   ],
   "source": [
    "evaluate_set(model, test_sessions, classes, post_fix)"
   ]
  },
  {
   "cell_type": "code",
   "execution_count": 10,
   "metadata": {},
   "outputs": [
    {
     "data": {
      "text/plain": [
       "['saved_models/svm_03_14.joblib']"
      ]
     },
     "execution_count": 10,
     "metadata": {},
     "output_type": "execute_result"
    }
   ],
   "source": [
    "dump(model, 'saved_models/svm_03_14.joblib') "
   ]
  }
 ],
 "metadata": {
  "interpreter": {
   "hash": "a81b55685ebb6380129efe90592a7e4f2f571da2ab32c8bbcf8b970d830ead19"
  },
  "kernelspec": {
   "display_name": "Python 3.7.6 64-bit",
   "name": "python3"
  },
  "language_info": {
   "codemirror_mode": {
    "name": "ipython",
    "version": 3
   },
   "file_extension": ".py",
   "mimetype": "text/x-python",
   "name": "python",
   "nbconvert_exporter": "python",
   "pygments_lexer": "ipython3",
   "version": "3.7.0"
  }
 },
 "nbformat": 4,
 "nbformat_minor": 4
}
