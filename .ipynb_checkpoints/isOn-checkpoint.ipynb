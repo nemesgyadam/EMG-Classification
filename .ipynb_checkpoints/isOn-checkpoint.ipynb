{
 "cells": [
  {
   "cell_type": "code",
   "execution_count": 29,
   "metadata": {},
   "outputs": [],
   "source": [
    "import time\n",
    "import numpy as np\n",
    "\n",
    "\n",
    "from matplotlib import pyplot as plt\n",
    "from sklearn.model_selection import train_test_split\n",
    "import tensorflow as tf\n",
    "from tensorflow import keras\n",
    "from tensorflow.keras.utils import to_categorical\n",
    "from tensorflow.keras.models import Sequential\n",
    "from tensorflow.keras import layers as layers\n",
    "from tensorflow.keras.layers import GlobalMaxPooling2D, Activation, Dense, Conv1D, Conv2D, Dropout, Flatten, MaxPooling2D, BatchNormalization, GlobalMaxPooling1D\n",
    "from tensorflow.keras import optimizers\n",
    "import itertools\n",
    "from sklearn.utils import shuffle\n",
    "\n",
    "%matplotlib inline\n",
    "from EEGModels import EEGNet, ShallowConvNet, DeepConvNet"
   ]
  },
  {
   "cell_type": "code",
   "execution_count": 3,
   "metadata": {},
   "outputs": [
    {
     "name": "stdout",
     "output_type": "stream",
     "text": [
      "(100, 6, 1000)\n",
      "(100, 6, 1000)\n"
     ]
    }
   ],
   "source": [
    "rests    = np.load('D:/resources/EMG/100_rest.npy')\n",
    "eyebrows = np.load('D:/resources/EMG/100_eyebrow.npy')\n",
    "print(rests.shape)\n",
    "print(eyebrows.shape)"
   ]
  },
  {
   "cell_type": "code",
   "execution_count": 19,
   "metadata": {},
   "outputs": [
    {
     "name": "stdout",
     "output_type": "stream",
     "text": [
      "(160, 6, 1000)\n",
      "(160,)\n",
      "\n",
      "(20, 6, 1000)\n",
      "(20,)\n",
      "\n",
      "(20, 6, 1000)\n",
      "(20,)\n",
      "\n"
     ]
    }
   ],
   "source": [
    "X = np.concatenate((rests,eyebrows),axis = 0)\n",
    "y = np.concatenate(( np.zeros(rests.shape[0]),np.ones(eyebrows.shape[0])))\n",
    "#print(X.shape)\n",
    "#print(y.shape)\n",
    "X_train, X_temp, y_train, y_temp = train_test_split(X, y, test_size=0.2, random_state=16)\n",
    "X_val, X_test, y_val, y_test=train_test_split(X_temp, y_temp, test_size=0.5)\n",
    "\n",
    "print(X_train.shape)\n",
    "print(y_train.shape)\n",
    "print()\n",
    "print(X_val.shape)\n",
    "print(y_val.shape)\n",
    "print()\n",
    "print(X_test.shape)\n",
    "print(y_test.shape)\n",
    "print()"
   ]
  },
  {
   "cell_type": "code",
   "execution_count": 22,
   "metadata": {},
   "outputs": [],
   "source": [
    "def get_model():\n",
    "    inspected_chanels= X.shape[1]\n",
    "    signal_length=     X.shape[2]\n",
    "    input_layer = keras.Input(shape = (signal_length,inspected_chanels,1), name='input')\n",
    "    x     = layers.Conv2D(64, kernel_size=(5,1), padding='same', activation='relu')(input_layer)\n",
    "    x     = layers.Conv2D(32, kernel_size=(1,5), padding='same', activation='relu')(x)\n",
    "    x     = layers.Conv2D(16, 16, padding='same', activation='relu')(x)\n",
    "    x     = layers.Conv2D(8, 8, padding='same', activation='relu')(x)\n",
    "    x     = layers.Conv2D(4, 4, padding='same', activation='relu')(x)\n",
    "    x     = layers.GlobalAveragePooling2D()(x)\n",
    "    x     = layers.Dense(8)(x)\n",
    "    x     = layers.Dense(64)(x)\n",
    "    output = layers.Dense(2, activation='softmax')(x)\n",
    "    #output = layers.Dense(1, activation='softmax')(x)\n",
    "\n",
    "    model = keras.Model(inputs=input_layer, outputs=output)\n",
    "\n",
    "    model.summary()\n",
    "    return model"
   ]
  },
  {
   "cell_type": "code",
   "execution_count": 38,
   "metadata": {},
   "outputs": [],
   "source": [
    "model=EEGNet(nb_classes=2,\n",
    "            Chans=6,\n",
    "            Samples = 1000,\n",
    "            kernLength = 500,#EEGNet wrote best is half of sampling rate ##NA EZAZ AMIT A HS-CNN BUZERÁL\n",
    "            F1=16,\n",
    "            F2=32,\n",
    "            D=4,\n",
    "            )\n",
    "opt = keras.optimizers.Adam(lr=0.05)\n",
    "model.compile(optimizer=opt,\n",
    "          loss='binary_crossentropy',\n",
    "          metrics=['accuracy']\n",
    "         )"
   ]
  },
  {
   "cell_type": "code",
   "execution_count": 39,
   "metadata": {
    "scrolled": true
   },
   "outputs": [
    {
     "name": "stdout",
     "output_type": "stream",
     "text": [
      "Epoch 1/100\n",
      "1/5 [=====>........................] - ETA: 0s - loss: 0.9698 - accuracy: 0.4375WARNING:tensorflow:Callbacks method `on_train_batch_end` is slow compared to the batch time (batch time: 0.0030s vs `on_train_batch_end` time: 0.0140s). Check your callbacks.\n",
      "5/5 [==============================] - 0s 44ms/step - loss: 0.8153 - accuracy: 0.4875 - val_loss: 2.1012 - val_accuracy: 0.5500\n",
      "Epoch 2/100\n",
      "5/5 [==============================] - 0s 21ms/step - loss: 0.7460 - accuracy: 0.5813 - val_loss: 1.0307 - val_accuracy: 0.4500\n",
      "Epoch 3/100\n",
      "5/5 [==============================] - 0s 22ms/step - loss: 0.7165 - accuracy: 0.4688 - val_loss: 1.3136 - val_accuracy: 0.3500\n",
      "Epoch 4/100\n",
      "5/5 [==============================] - 0s 22ms/step - loss: 0.7131 - accuracy: 0.4812 - val_loss: 0.9166 - val_accuracy: 0.4000\n",
      "Epoch 5/100\n",
      "5/5 [==============================] - 0s 22ms/step - loss: 0.7533 - accuracy: 0.5437 - val_loss: 0.7997 - val_accuracy: 0.4500\n",
      "Epoch 6/100\n",
      "5/5 [==============================] - 0s 22ms/step - loss: 0.7091 - accuracy: 0.5562 - val_loss: 0.7994 - val_accuracy: 0.4500\n",
      "Epoch 7/100\n",
      "5/5 [==============================] - 0s 21ms/step - loss: 0.7095 - accuracy: 0.4812 - val_loss: 0.7349 - val_accuracy: 0.4500\n",
      "Epoch 8/100\n",
      "5/5 [==============================] - 0s 22ms/step - loss: 0.7057 - accuracy: 0.4563 - val_loss: 0.7103 - val_accuracy: 0.5500\n",
      "Epoch 9/100\n",
      "5/5 [==============================] - 0s 22ms/step - loss: 0.7025 - accuracy: 0.5375 - val_loss: 0.7414 - val_accuracy: 0.6000\n",
      "Epoch 10/100\n",
      "5/5 [==============================] - 0s 21ms/step - loss: 0.6989 - accuracy: 0.4437 - val_loss: 0.7554 - val_accuracy: 0.4000\n",
      "Epoch 11/100\n",
      "5/5 [==============================] - 0s 22ms/step - loss: 0.6976 - accuracy: 0.4437 - val_loss: 0.7016 - val_accuracy: 0.4000\n",
      "Epoch 12/100\n",
      "5/5 [==============================] - 0s 21ms/step - loss: 0.6962 - accuracy: 0.4812 - val_loss: 0.7084 - val_accuracy: 0.7000\n",
      "Epoch 13/100\n",
      "5/5 [==============================] - 0s 21ms/step - loss: 0.6970 - accuracy: 0.5375 - val_loss: 0.6947 - val_accuracy: 0.5500\n",
      "Epoch 14/100\n",
      "5/5 [==============================] - 0s 22ms/step - loss: 0.6967 - accuracy: 0.4313 - val_loss: 0.6957 - val_accuracy: 0.5500\n",
      "Epoch 15/100\n",
      "5/5 [==============================] - 0s 22ms/step - loss: 0.6951 - accuracy: 0.5938 - val_loss: 0.6965 - val_accuracy: 0.7000\n",
      "Epoch 16/100\n",
      "5/5 [==============================] - 0s 22ms/step - loss: 0.6962 - accuracy: 0.4750 - val_loss: 0.6950 - val_accuracy: 0.6000\n",
      "Epoch 17/100\n",
      "5/5 [==============================] - 0s 21ms/step - loss: 0.6951 - accuracy: 0.5437 - val_loss: 0.6951 - val_accuracy: 0.5500\n",
      "Epoch 18/100\n",
      "5/5 [==============================] - 0s 22ms/step - loss: 0.6944 - accuracy: 0.4313 - val_loss: 0.6939 - val_accuracy: 0.5000\n",
      "Epoch 19/100\n",
      "5/5 [==============================] - 0s 22ms/step - loss: 0.6939 - accuracy: 0.4688 - val_loss: 0.6934 - val_accuracy: 0.4000\n",
      "Epoch 20/100\n",
      "5/5 [==============================] - 0s 22ms/step - loss: 0.6945 - accuracy: 0.4750 - val_loss: 0.6937 - val_accuracy: 0.3000\n",
      "Epoch 21/100\n",
      "5/5 [==============================] - 0s 22ms/step - loss: 0.6943 - accuracy: 0.4812 - val_loss: 0.6942 - val_accuracy: 0.5000\n",
      "Epoch 22/100\n",
      "5/5 [==============================] - 0s 22ms/step - loss: 0.6947 - accuracy: 0.5125 - val_loss: 0.6953 - val_accuracy: 0.5000\n",
      "Epoch 23/100\n",
      "5/5 [==============================] - 0s 22ms/step - loss: 0.6941 - accuracy: 0.5063 - val_loss: 0.6933 - val_accuracy: 0.6000\n",
      "Epoch 24/100\n",
      "5/5 [==============================] - 0s 21ms/step - loss: 0.6936 - accuracy: 0.5312 - val_loss: 0.6934 - val_accuracy: 0.5500\n",
      "Epoch 25/100\n",
      "5/5 [==============================] - 0s 22ms/step - loss: 0.6939 - accuracy: 0.5250 - val_loss: 0.6936 - val_accuracy: 0.5500\n",
      "Epoch 26/100\n",
      "5/5 [==============================] - 0s 22ms/step - loss: 0.6937 - accuracy: 0.4437 - val_loss: 0.6933 - val_accuracy: 0.5000\n",
      "Epoch 27/100\n",
      "5/5 [==============================] - 0s 21ms/step - loss: 0.6936 - accuracy: 0.5000 - val_loss: 0.6933 - val_accuracy: 0.3500\n",
      "Epoch 28/100\n",
      "5/5 [==============================] - 0s 22ms/step - loss: 0.6935 - accuracy: 0.5500 - val_loss: 0.6933 - val_accuracy: 0.4500\n",
      "Epoch 29/100\n",
      "5/5 [==============================] - 0s 21ms/step - loss: 0.6933 - accuracy: 0.5063 - val_loss: 0.6932 - val_accuracy: 0.5500\n",
      "Epoch 30/100\n",
      "5/5 [==============================] - 0s 22ms/step - loss: 0.6933 - accuracy: 0.5250 - val_loss: 0.6932 - val_accuracy: 0.5500\n",
      "Epoch 31/100\n",
      "5/5 [==============================] - 0s 22ms/step - loss: 0.6933 - accuracy: 0.5750 - val_loss: 0.6932 - val_accuracy: 0.4000\n",
      "Epoch 32/100\n",
      "5/5 [==============================] - 0s 22ms/step - loss: 0.6932 - accuracy: 0.4875 - val_loss: 0.6932 - val_accuracy: 0.4000\n",
      "Epoch 33/100\n",
      "5/5 [==============================] - 0s 21ms/step - loss: 0.6932 - accuracy: 0.5125 - val_loss: 0.6932 - val_accuracy: 0.4500\n",
      "Epoch 34/100\n",
      "5/5 [==============================] - 0s 22ms/step - loss: 0.6932 - accuracy: 0.4875 - val_loss: 0.6932 - val_accuracy: 0.5000\n",
      "Epoch 35/100\n",
      "5/5 [==============================] - 0s 21ms/step - loss: 0.6932 - accuracy: 0.4875 - val_loss: 0.6932 - val_accuracy: 0.3500\n",
      "Epoch 36/100\n",
      "5/5 [==============================] - 0s 21ms/step - loss: 0.6932 - accuracy: 0.5000 - val_loss: 0.6931 - val_accuracy: 0.3500\n",
      "Epoch 37/100\n",
      "5/5 [==============================] - 0s 21ms/step - loss: 0.6932 - accuracy: 0.4812 - val_loss: 0.6931 - val_accuracy: 0.4000\n",
      "Epoch 38/100\n",
      "5/5 [==============================] - 0s 21ms/step - loss: 0.6932 - accuracy: 0.5000 - val_loss: 0.6931 - val_accuracy: 0.4000\n",
      "Epoch 39/100\n",
      "5/5 [==============================] - 0s 21ms/step - loss: 0.6932 - accuracy: 0.4688 - val_loss: 0.6931 - val_accuracy: 0.4500\n",
      "Epoch 40/100\n",
      "5/5 [==============================] - 0s 21ms/step - loss: 0.6932 - accuracy: 0.4313 - val_loss: 0.6931 - val_accuracy: 0.4000\n",
      "Epoch 41/100\n",
      "5/5 [==============================] - 0s 22ms/step - loss: 0.6932 - accuracy: 0.4938 - val_loss: 0.6931 - val_accuracy: 0.3500\n",
      "Epoch 42/100\n",
      "5/5 [==============================] - 0s 21ms/step - loss: 0.6932 - accuracy: 0.5188 - val_loss: 0.6931 - val_accuracy: 0.4000\n",
      "Epoch 43/100\n",
      "5/5 [==============================] - 0s 21ms/step - loss: 0.6931 - accuracy: 0.4938 - val_loss: 0.6931 - val_accuracy: 0.5500\n",
      "Epoch 44/100\n",
      "5/5 [==============================] - 0s 21ms/step - loss: 0.6931 - accuracy: 0.4500 - val_loss: 0.6931 - val_accuracy: 0.4500\n",
      "Epoch 45/100\n",
      "5/5 [==============================] - 0s 21ms/step - loss: 0.6931 - accuracy: 0.4437 - val_loss: 0.6931 - val_accuracy: 0.3500\n",
      "Epoch 46/100\n",
      "5/5 [==============================] - 0s 21ms/step - loss: 0.6931 - accuracy: 0.5437 - val_loss: 0.6931 - val_accuracy: 0.3000\n",
      "Epoch 47/100\n",
      "5/5 [==============================] - 0s 21ms/step - loss: 0.6931 - accuracy: 0.5375 - val_loss: 0.6931 - val_accuracy: 0.3500\n",
      "Epoch 48/100\n",
      "5/5 [==============================] - 0s 22ms/step - loss: 0.6931 - accuracy: 0.4563 - val_loss: 0.6931 - val_accuracy: 0.2000\n",
      "Epoch 49/100\n",
      "5/5 [==============================] - 0s 21ms/step - loss: 0.6931 - accuracy: 0.4500 - val_loss: 0.6931 - val_accuracy: 0.2000\n",
      "Epoch 50/100\n",
      "5/5 [==============================] - 0s 21ms/step - loss: 0.6931 - accuracy: 0.5000 - val_loss: 0.6931 - val_accuracy: 0.4500\n",
      "Epoch 51/100\n",
      "5/5 [==============================] - 0s 21ms/step - loss: 0.6931 - accuracy: 0.5000 - val_loss: 0.6931 - val_accuracy: 0.5000\n",
      "Epoch 52/100\n",
      "5/5 [==============================] - 0s 21ms/step - loss: 0.6931 - accuracy: 0.4938 - val_loss: 0.6931 - val_accuracy: 0.5000\n",
      "Epoch 53/100\n",
      "5/5 [==============================] - 0s 21ms/step - loss: 0.6931 - accuracy: 0.4688 - val_loss: 0.6931 - val_accuracy: 0.5000\n",
      "Epoch 54/100\n",
      "5/5 [==============================] - 0s 22ms/step - loss: 0.6931 - accuracy: 0.5000 - val_loss: 0.6931 - val_accuracy: 0.6500\n",
      "Epoch 55/100\n",
      "5/5 [==============================] - 0s 21ms/step - loss: 0.6931 - accuracy: 0.5375 - val_loss: 0.6931 - val_accuracy: 0.5500\n",
      "Epoch 56/100\n",
      "5/5 [==============================] - 0s 21ms/step - loss: 0.6931 - accuracy: 0.4938 - val_loss: 0.6931 - val_accuracy: 0.5500\n",
      "Epoch 57/100\n"
     ]
    },
    {
     "name": "stdout",
     "output_type": "stream",
     "text": [
      "5/5 [==============================] - 0s 21ms/step - loss: 0.6931 - accuracy: 0.4938 - val_loss: 0.6931 - val_accuracy: 0.6000\n",
      "Epoch 58/100\n",
      "5/5 [==============================] - 0s 23ms/step - loss: 0.6931 - accuracy: 0.5188 - val_loss: 0.6931 - val_accuracy: 0.6000\n",
      "Epoch 59/100\n",
      "5/5 [==============================] - 0s 22ms/step - loss: 0.6931 - accuracy: 0.4875 - val_loss: 0.6931 - val_accuracy: 0.5500\n",
      "Epoch 60/100\n",
      "5/5 [==============================] - 0s 21ms/step - loss: 0.6931 - accuracy: 0.5000 - val_loss: 0.6931 - val_accuracy: 0.6000\n",
      "Epoch 61/100\n",
      "5/5 [==============================] - 0s 22ms/step - loss: 0.6931 - accuracy: 0.4750 - val_loss: 0.6931 - val_accuracy: 0.6000\n",
      "Epoch 62/100\n",
      "5/5 [==============================] - 0s 21ms/step - loss: 0.6931 - accuracy: 0.5437 - val_loss: 0.6931 - val_accuracy: 0.4500\n",
      "Epoch 63/100\n",
      "5/5 [==============================] - 0s 21ms/step - loss: 0.6931 - accuracy: 0.3875 - val_loss: 0.6931 - val_accuracy: 0.5000\n",
      "Epoch 64/100\n",
      "5/5 [==============================] - 0s 21ms/step - loss: 0.6931 - accuracy: 0.4875 - val_loss: 0.6931 - val_accuracy: 0.5500\n",
      "Epoch 65/100\n",
      "5/5 [==============================] - 0s 21ms/step - loss: 0.6931 - accuracy: 0.5312 - val_loss: 0.6931 - val_accuracy: 0.4500\n",
      "Epoch 66/100\n",
      "5/5 [==============================] - 0s 22ms/step - loss: 0.6931 - accuracy: 0.5813 - val_loss: 0.6931 - val_accuracy: 0.4500\n",
      "Epoch 67/100\n",
      "5/5 [==============================] - 0s 22ms/step - loss: 0.6931 - accuracy: 0.5063 - val_loss: 0.6931 - val_accuracy: 0.6000\n",
      "Epoch 68/100\n",
      "5/5 [==============================] - 0s 21ms/step - loss: 0.6931 - accuracy: 0.4812 - val_loss: 0.6931 - val_accuracy: 0.5500\n",
      "Epoch 69/100\n",
      "5/5 [==============================] - 0s 21ms/step - loss: 0.6931 - accuracy: 0.4812 - val_loss: 0.6931 - val_accuracy: 0.4000\n",
      "Epoch 70/100\n",
      "5/5 [==============================] - 0s 21ms/step - loss: 0.6931 - accuracy: 0.4625 - val_loss: 0.6931 - val_accuracy: 0.4500\n",
      "Epoch 71/100\n",
      "5/5 [==============================] - 0s 21ms/step - loss: 0.6931 - accuracy: 0.5063 - val_loss: 0.6931 - val_accuracy: 0.5000\n",
      "Epoch 72/100\n",
      "5/5 [==============================] - 0s 21ms/step - loss: 0.6931 - accuracy: 0.5000 - val_loss: 0.6931 - val_accuracy: 0.6000\n",
      "Epoch 73/100\n",
      "5/5 [==============================] - 0s 22ms/step - loss: 0.6931 - accuracy: 0.4500 - val_loss: 0.6931 - val_accuracy: 0.4500\n",
      "Epoch 74/100\n",
      "5/5 [==============================] - 0s 22ms/step - loss: 0.6931 - accuracy: 0.5500 - val_loss: 0.6931 - val_accuracy: 0.5500\n",
      "Epoch 75/100\n",
      "5/5 [==============================] - 0s 22ms/step - loss: 0.6931 - accuracy: 0.4437 - val_loss: 0.6931 - val_accuracy: 0.5500\n",
      "Epoch 76/100\n",
      "5/5 [==============================] - 0s 22ms/step - loss: 0.6931 - accuracy: 0.5063 - val_loss: 0.6931 - val_accuracy: 0.5000\n",
      "Epoch 77/100\n",
      "5/5 [==============================] - 0s 21ms/step - loss: 0.6931 - accuracy: 0.4625 - val_loss: 0.6931 - val_accuracy: 0.5500\n",
      "Epoch 78/100\n",
      "5/5 [==============================] - 0s 22ms/step - loss: 0.6931 - accuracy: 0.5000 - val_loss: 0.6931 - val_accuracy: 0.7500\n",
      "Epoch 79/100\n",
      "5/5 [==============================] - 0s 22ms/step - loss: 0.6931 - accuracy: 0.4563 - val_loss: 0.6931 - val_accuracy: 0.7000\n",
      "Epoch 80/100\n",
      "5/5 [==============================] - 0s 22ms/step - loss: 0.6931 - accuracy: 0.5938 - val_loss: 0.6931 - val_accuracy: 0.5500\n",
      "Epoch 81/100\n",
      "5/5 [==============================] - 0s 21ms/step - loss: 0.6931 - accuracy: 0.5688 - val_loss: 0.6931 - val_accuracy: 0.6500\n",
      "Epoch 82/100\n",
      "5/5 [==============================] - 0s 20ms/step - loss: 0.6931 - accuracy: 0.4563 - val_loss: 0.6931 - val_accuracy: 0.5500\n",
      "Epoch 83/100\n",
      "5/5 [==============================] - 0s 21ms/step - loss: 0.6931 - accuracy: 0.5063 - val_loss: 0.6931 - val_accuracy: 0.5000\n",
      "Epoch 84/100\n",
      "5/5 [==============================] - 0s 22ms/step - loss: 0.6931 - accuracy: 0.5938 - val_loss: 0.6931 - val_accuracy: 0.4500\n",
      "Epoch 85/100\n",
      "5/5 [==============================] - 0s 23ms/step - loss: 0.6931 - accuracy: 0.5562 - val_loss: 0.6931 - val_accuracy: 0.6000\n",
      "Epoch 86/100\n",
      "5/5 [==============================] - 0s 22ms/step - loss: 0.6931 - accuracy: 0.4938 - val_loss: 0.6931 - val_accuracy: 0.5500\n",
      "Epoch 87/100\n",
      "5/5 [==============================] - 0s 22ms/step - loss: 0.6931 - accuracy: 0.5250 - val_loss: 0.6931 - val_accuracy: 0.5000\n",
      "Epoch 88/100\n",
      "5/5 [==============================] - 0s 22ms/step - loss: 0.6931 - accuracy: 0.4750 - val_loss: 0.6931 - val_accuracy: 0.6000\n",
      "Epoch 89/100\n",
      "5/5 [==============================] - 0s 21ms/step - loss: 0.6931 - accuracy: 0.5562 - val_loss: 0.6931 - val_accuracy: 0.6500\n",
      "Epoch 90/100\n",
      "5/5 [==============================] - 0s 21ms/step - loss: 0.6931 - accuracy: 0.4875 - val_loss: 0.6931 - val_accuracy: 0.5500\n",
      "Epoch 91/100\n",
      "5/5 [==============================] - 0s 21ms/step - loss: 0.6931 - accuracy: 0.4625 - val_loss: 0.6931 - val_accuracy: 0.5500\n",
      "Epoch 92/100\n",
      "5/5 [==============================] - 0s 21ms/step - loss: 0.6931 - accuracy: 0.5125 - val_loss: 0.6931 - val_accuracy: 0.6500\n",
      "Epoch 93/100\n",
      "5/5 [==============================] - 0s 22ms/step - loss: 0.6931 - accuracy: 0.5188 - val_loss: 0.6931 - val_accuracy: 0.4000\n",
      "Epoch 94/100\n",
      "5/5 [==============================] - 0s 21ms/step - loss: 0.6931 - accuracy: 0.5188 - val_loss: 0.6931 - val_accuracy: 0.6500\n",
      "Epoch 95/100\n",
      "5/5 [==============================] - 0s 21ms/step - loss: 0.6931 - accuracy: 0.5250 - val_loss: 0.6931 - val_accuracy: 0.7000\n",
      "Epoch 96/100\n",
      "5/5 [==============================] - 0s 22ms/step - loss: 0.6931 - accuracy: 0.5063 - val_loss: 0.6931 - val_accuracy: 0.5500\n",
      "Epoch 97/100\n",
      "5/5 [==============================] - 0s 22ms/step - loss: 0.6931 - accuracy: 0.5312 - val_loss: 0.6931 - val_accuracy: 0.5500\n",
      "Epoch 98/100\n",
      "5/5 [==============================] - 0s 22ms/step - loss: 0.6931 - accuracy: 0.4750 - val_loss: 0.6931 - val_accuracy: 0.6000\n",
      "Epoch 99/100\n",
      "5/5 [==============================] - 0s 21ms/step - loss: 0.6931 - accuracy: 0.4688 - val_loss: 0.6931 - val_accuracy: 0.4500\n",
      "Epoch 100/100\n",
      "5/5 [==============================] - 0s 21ms/step - loss: 0.6931 - accuracy: 0.5500 - val_loss: 0.6931 - val_accuracy: 0.6500\n"
     ]
    }
   ],
   "source": [
    "history = model.fit(X_train,\n",
    "                    y_train,\n",
    "                    validation_data=(X_val, y_val),\n",
    "                    batch_size=32,\n",
    "                    epochs=100, #200,\n",
    "                    shuffle=True,)"
   ]
  },
  {
   "cell_type": "code",
   "execution_count": 40,
   "metadata": {},
   "outputs": [
    {
     "data": {
      "image/png": "[encoded data removed]",
      "text/plain": [
       "<Figure size 576x360 with 1 Axes>"
      ]
     },
     "metadata": {
      "needs_background": "light"
     },
     "output_type": "display_data"
    }
   ],
   "source": [
    "plt.rcParams[\"figure.figsize\"] = [8, 5]\n",
    "plt.ylim([0, 2])\n",
    "plt.plot(history.history['loss'])\n",
    "plt.plot(history.history['val_loss'])\n",
    "plt.title('model loss')\n",
    "plt.ylabel('loss')\n",
    "plt.xlabel('epoch')\n",
    "plt.legend(['train', 'val'], loc='upper left')\n",
    "plt.show()"
   ]
  },
  {
   "cell_type": "code",
   "execution_count": 41,
   "metadata": {},
   "outputs": [
    {
     "data": {
      "image/png": "[encoded data removed]",
      "text/plain": [
       "<Figure size 576x360 with 1 Axes>"
      ]
     },
     "metadata": {
      "needs_background": "light"
     },
     "output_type": "display_data"
    }
   ],
   "source": [
    "plt.ylim([0, 2])\n",
    "plt.plot(history.history['accuracy'])\n",
    "plt.plot(history.history['val_accuracy'])\n",
    "plt.title('model accuracy')\n",
    "plt.ylabel('accuracy')\n",
    "plt.xlabel('epoch')\n",
    "plt.legend(['train', 'val'], loc='upper left')\n",
    "plt.show()"
   ]
  },
  {
   "cell_type": "code",
   "execution_count": null,
   "metadata": {},
   "outputs": [],
   "source": []
  }
 ],
 "metadata": {
  "kernelspec": {
   "display_name": "Python 3",
   "language": "python",
   "name": "python3"
  },
  "language_info": {
   "codemirror_mode": {
    "name": "ipython",
    "version": 3
   },
   "file_extension": ".py",
   "mimetype": "text/x-python",
   "name": "python",
   "nbconvert_exporter": "python",
   "pygments_lexer": "ipython3",
   "version": "3.7.0"
  }
 },
 "nbformat": 4,
 "nbformat_minor": 4
}
