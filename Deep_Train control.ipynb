{
 "cells": [
  {
   "cell_type": "code",
   "execution_count": 17,
   "metadata": {},
   "outputs": [
    {
     "name": "stdout",
     "output_type": "stream",
     "text": [
      "The autoreload extension is already loaded. To reload it, use:\n",
      "  %reload_ext autoreload\n"
     ]
    }
   ],
   "source": [
    "import numpy as np\n",
    "import random\n",
    "import os\n",
    "import keras_tuner as kt\n",
    "from matplotlib import pyplot as plt\n",
    "from sklearn.model_selection import train_test_split\n",
    "import tensorflow as tf\n",
    "from tensorflow import keras\n",
    "from tensorflow.keras.utils import to_categorical\n",
    "from tensorflow.keras.models import Sequential\n",
    "from tensorflow.keras import layers as layers\n",
    "from tensorflow.keras.layers import GlobalMaxPooling2D, Activation, Dense, Conv1D, Conv2D, Dropout, Flatten, MaxPooling2D, BatchNormalization, GlobalMaxPooling1D\n",
    "from tensorflow.keras import optimizers\n",
    "import pandas as pd\n",
    "from tqdm.notebook import tqdm\n",
    "%matplotlib inline\n",
    "import matplotlib.pyplot as plt\n",
    "from tensorflow.keras import regularizers\n",
    "from tensorflow.keras.callbacks import EarlyStopping, ReduceLROnPlateau\n",
    "from scipy import signal\n",
    "\n",
    "\n",
    "from sklearn.model_selection import StratifiedKFold, KFold\n",
    "from sklearn.metrics import classification_report,confusion_matrix\n",
    "from sklearn.metrics import accuracy_score\n",
    "from tensorflow.keras.utils import to_categorical\n",
    "from sklearn.preprocessing import StandardScaler\n",
    "\n",
    "from utils.augment import noise_augment, shift_augment, apply_augment\n",
    "from utils.deep import preProcess, smoothLabels, oneHot, applyOneHot, evaluate_set\n",
    "from utils.visualize import showMe, showHistory\n",
    "from config.default import *\n",
    "\n",
    "%load_ext autoreload\n",
    "%autoreload 2\n"
   ]
  },
  {
   "cell_type": "code",
   "execution_count": 2,
   "metadata": {},
   "outputs": [
    {
     "name": "stdout",
     "output_type": "stream",
     "text": [
      "No data available for train for class Chew\n",
      "No data available for train for class Chew\n",
      "No data available for train for class Chew\n",
      "No data available for train for class Smile\n",
      "No data available for train for class Smile\n",
      "No data available for train for class Smile\n",
      "No data available for train for class Smile\n",
      "No data available for train for class Smile\n",
      "No data available for train for class Smile\n",
      "No data available for train for class Smile\n",
      "No data available for train for class Smile\n",
      "50 sessions loaded for training\n",
      "8 sessions loaded for validation\n"
     ]
    }
   ],
   "source": [
    "root_path = 'C:/resources/EMG/'\n",
    "post_fix = '_1s_cleaned' #'_1s_new' #\n",
    "classes = settings['classes']\n",
    "\n",
    "\n",
    "sessions_to_val = [] #'session_4'] # ['session_1','session_2','session_3','session_4']    #[] # \n",
    "subject_to_val = ['S001',  'S105']\n",
    "\n",
    "# use session4 for validation\n",
    "train_sessions = []\n",
    "val_sessions = []\n",
    "for subject in os.listdir(root_path):\n",
    "        for session in os.listdir(os.path.join(root_path,subject)):\n",
    "            if session in sessions_to_val or subject in subject_to_val:\n",
    "                val_sessions.append(os.path.join(root_path,subject, session))\n",
    "            else:\n",
    "                train_sessions.append(os.path.join(root_path,subject, session))\n",
    "        #print(f\"{len(os.listdir(os.path.join(root_path,subject)))} session loaded from subject: {subject}\")\n",
    "\n",
    "\n",
    "\n",
    "\n",
    "train_records = {}\n",
    "if len(train_sessions) > 0:\n",
    "    for c in classes:\n",
    "        class_data = []\n",
    "        for session in train_sessions:\n",
    "            data = np.load(os.path.join(session,c+post_fix+'.npy'),allow_pickle=True)\n",
    "            if data.shape[0] != 0:\n",
    "                class_data.append(data)\n",
    "            else:\n",
    "                #val_records[c] = np.random.rand(1, 4, 500)\n",
    "                #print(f'WARNING! CREATING RANDOM DATA FOR {c}')\n",
    "                print(f\"No data available for train for class {c}\")\n",
    "        \n",
    "        train_records[c] = np.concatenate(class_data)\n",
    "    print(f\"{len(train_sessions)} sessions loaded for training\")\n",
    "else:\n",
    "    print(\"No train session available\")\n",
    "\n",
    "val_records = {}\n",
    "for c in classes:\n",
    "    class_data = []\n",
    "    for session in val_sessions:\n",
    "        data = np.load(os.path.join(session,c+post_fix+'.npy'),allow_pickle=True)\n",
    "        if data.shape[0] != 0:\n",
    "            class_data.append(data)\n",
    "    if len(class_data) != 0:\n",
    "        val_records[c] = np.concatenate(class_data)\n",
    "    else:\n",
    "        #val_records[c] = np.random.rand(1, 4, 500)\n",
    "        #print(f'WARNING! CREATING RANDOM DATA FOR {c}')\n",
    "        print(f\"No data available for validation for class {c}\")\n",
    "\n",
    "print(f\"{len(val_sessions)} sessions loaded for validation\")"
   ]
  },
  {
   "cell_type": "code",
   "execution_count": 3,
   "metadata": {},
   "outputs": [],
   "source": [
    "def create_labels(X):\n",
    "    y = []\n",
    "    for i, r in enumerate(X):\n",
    "        l = np.ones(X[r].shape[0])*i\n",
    "        y = y + l.tolist()\n",
    "    y = np.array(y)\n",
    "    return y"
   ]
  },
  {
   "cell_type": "code",
   "execution_count": 4,
   "metadata": {},
   "outputs": [
    {
     "name": "stdout",
     "output_type": "stream",
     "text": [
      "TRAIN SET\n",
      "Rest -> (2088, 4, 500)\n",
      "Eyebrow -> (2880, 4, 500)\n",
      "Chew -> (1866, 4, 500)\n",
      "Smile -> (1215, 4, 500)\n",
      "VAL SET\n",
      "Rest -> (201, 4, 500)\n",
      "Eyebrow -> (519, 4, 500)\n",
      "Chew -> (294, 4, 500)\n",
      "Smile -> (285, 4, 500)\n"
     ]
    }
   ],
   "source": [
    "print(\"TRAIN SET\")\n",
    "for r in train_records:\n",
    "    print(f'{r} -> {train_records[r].shape}')\n",
    "\n",
    "print(\"VAL SET\")\n",
    "for r in val_records:\n",
    "    print(f'{r} -> {val_records[r].shape}')"
   ]
  },
  {
   "cell_type": "code",
   "execution_count": 5,
   "metadata": {},
   "outputs": [
    {
     "name": "stdout",
     "output_type": "stream",
     "text": [
      "Train\n",
      "(8049, 4, 500)\n",
      "(8049,)\n",
      "Validation:\n",
      "(1299, 4, 500)\n",
      "(1299,)\n"
     ]
    }
   ],
   "source": [
    "n_channels = train_records[\"Rest\"].shape[1]\n",
    "input_length = train_records[\"Rest\"].shape[2]\n",
    "\n",
    "\n",
    "print('Train')\n",
    "train_y = create_labels(train_records)\n",
    "train_X = np.concatenate((list(train_records.values())), axis=0)\n",
    "print(train_X.shape)\n",
    "print(train_y.shape)\n",
    "\n",
    "\n",
    "print('Validation:')\n",
    "val_y = create_labels(val_records)\n",
    "val_X = np.concatenate((list(val_records.values())), axis=0)\n",
    "print(val_X.shape)\n",
    "print(val_y.shape)"
   ]
  },
  {
   "cell_type": "code",
   "execution_count": 6,
   "metadata": {},
   "outputs": [
    {
     "name": "stdout",
     "output_type": "stream",
     "text": [
      "(8049, 4, 500)\n",
      "(8049, 4)\n",
      "(1299, 4, 500)\n",
      "(1299, 4)\n"
     ]
    }
   ],
   "source": [
    "train_X = np.array(train_X).reshape(-1,n_channels,input_length)\n",
    "train_y = np.array(train_y)\n",
    "\n",
    "val_X = np.array(val_X).reshape(-1,n_channels,input_length)\n",
    "val_y = np.array(val_y)\n",
    "\n",
    "\n",
    "train_y = applyOneHot(train_y,len(classes))\n",
    "val_y = applyOneHot(val_y,len(classes))\n",
    "\n",
    "\n",
    "print(train_X.shape)\n",
    "print(train_y.shape)\n",
    "\n",
    "print(val_X.shape)\n",
    "print(val_y.shape)\n"
   ]
  },
  {
   "cell_type": "code",
   "execution_count": 7,
   "metadata": {},
   "outputs": [
    {
     "name": "stdout",
     "output_type": "stream",
     "text": [
      "After augmentation\n",
      "(24147, 4, 500)\n",
      "(24147, 4)\n"
     ]
    }
   ],
   "source": [
    "train_X, train_y = apply_augment(train_X, train_y)\n",
    "print(\"After augmentation\")\n",
    "print(train_X.shape)\n",
    "print(train_y.shape)\n"
   ]
  },
  {
   "cell_type": "code",
   "execution_count": 8,
   "metadata": {},
   "outputs": [],
   "source": [
    "c = list(zip(train_X, train_y))\n",
    "random.seed(42)\n",
    "random.shuffle(c)\n",
    "train_X,train_y = zip(*c)\n",
    "train_X = np.array(train_X)\n",
    "train_y = np.array(train_y)"
   ]
  },
  {
   "cell_type": "code",
   "execution_count": 9,
   "metadata": {},
   "outputs": [],
   "source": [
    "def get_model():\n",
    "    inspected_chanels= train_X.shape[1]\n",
    "    input_length=     train_X.shape[2]\n",
    "    l2 = 0.000001\n",
    "\n",
    "    input_layer = keras.Input(shape = (inspected_chanels,input_length,1), name='input')\n",
    "\n",
    "    x     = layers.AveragePooling2D(pool_size=(1,5))(input_layer) # resample\n",
    "\n",
    "\n",
    "   \n",
    "   \n",
    "    x     = layers.Conv2D(256, kernel_size=(1,5), padding='same', activation='relu', kernel_regularizer=regularizers.l2(l2))(x)\n",
    "    x     = layers.BatchNormalization()(x)\n",
    "    x     = layers.AveragePooling2D(pool_size=(1,5))(x)\n",
    "\n",
    "    x     = layers.Conv2D(256, kernel_size=(4,1), padding='same', activation='relu', kernel_regularizer=regularizers.l2(l2))(x)\n",
    "    x     = layers.BatchNormalization()(x)\n",
    "    x     = layers.AveragePooling2D(pool_size=(4,1))(x)\n",
    "\n",
    "    x     = layers.Dense(500,kernel_regularizer=regularizers.l2(l2))(x)\n",
    "    x     = layers.Flatten()(x)\n",
    "\n",
    " \n",
    "   \n",
    "    \n",
    "\n",
    "    x     = layers.Dense(200,kernel_regularizer=regularizers.l2(l2))(x)\n",
    "    x     = layers.BatchNormalization()(x)\n",
    "    x     = layers.Dropout(.1)(x)\n",
    "\n",
    "    \n",
    "    \n",
    "\n",
    "\n",
    "    output = layers.Dense(len(classes), activation='softmax')(x)\n",
    "    model = keras.Model(inputs=input_layer, outputs=output)\n",
    "\n",
    "    #model.summary()\n",
    "    return model"
   ]
  },
  {
   "cell_type": "code",
   "execution_count": 11,
   "metadata": {},
   "outputs": [],
   "source": [
    "model = get_model()\n",
    "\n",
    "\n",
    "reduce_lr = ReduceLROnPlateau(monitor='val_loss', factor=0.2,\n",
    "                               patience=2, min_lr=5e-8,)\n",
    "                              \n",
    "# early_stopping =  tf.keras.callbacks.EarlyStopping(monitor='val_loss', patience=3, min_delta=0.000001)\n",
    "\n",
    "opt = keras.optimizers.SGD(learning_rate=1e-4, momentum=0.9)\n",
    "model.compile(optimizer=opt,\n",
    "          loss='categorical_crossentropy',\n",
    "          metrics=['categorical_accuracy']\n",
    "         )\n"
   ]
  },
  {
   "cell_type": "code",
   "execution_count": 12,
   "metadata": {},
   "outputs": [
    {
     "name": "stdout",
     "output_type": "stream",
     "text": [
      "Epoch 1/30\n",
      "189/189 [==============================] - 5s 27ms/step - loss: 0.7009 - categorical_accuracy: 0.7913 - val_loss: 1.2948 - val_categorical_accuracy: 0.4234\n",
      "Epoch 2/30\n",
      "189/189 [==============================] - 5s 25ms/step - loss: 0.4926 - categorical_accuracy: 0.8961 - val_loss: 0.9442 - val_categorical_accuracy: 0.7775\n",
      "Epoch 3/30\n",
      "189/189 [==============================] - 5s 24ms/step - loss: 0.4525 - categorical_accuracy: 0.9154 - val_loss: 0.6229 - val_categorical_accuracy: 0.8714\n",
      "Epoch 4/30\n",
      "189/189 [==============================] - 5s 24ms/step - loss: 0.4329 - categorical_accuracy: 0.9236 - val_loss: 0.5850 - val_categorical_accuracy: 0.8645\n",
      "Epoch 5/30\n",
      "189/189 [==============================] - 5s 24ms/step - loss: 0.4156 - categorical_accuracy: 0.9322 - val_loss: 0.5141 - val_categorical_accuracy: 0.9276\n",
      "Epoch 6/30\n",
      "189/189 [==============================] - 5s 24ms/step - loss: 0.3975 - categorical_accuracy: 0.9394 - val_loss: 0.4887 - val_categorical_accuracy: 0.9338\n",
      "Epoch 7/30\n",
      "189/189 [==============================] - 5s 24ms/step - loss: 0.3863 - categorical_accuracy: 0.9446 - val_loss: 0.5551 - val_categorical_accuracy: 0.8922\n",
      "Epoch 8/30\n",
      "189/189 [==============================] - 5s 24ms/step - loss: 0.3751 - categorical_accuracy: 0.9489 - val_loss: 0.4939 - val_categorical_accuracy: 0.9284\n",
      "Epoch 9/30\n",
      "189/189 [==============================] - 5s 24ms/step - loss: 0.3617 - categorical_accuracy: 0.9551 - val_loss: 0.4672 - val_categorical_accuracy: 0.9315\n",
      "Epoch 10/30\n",
      "189/189 [==============================] - 5s 24ms/step - loss: 0.3511 - categorical_accuracy: 0.9595 - val_loss: 0.4740 - val_categorical_accuracy: 0.9299\n",
      "Epoch 11/30\n",
      "189/189 [==============================] - 5s 24ms/step - loss: 0.3505 - categorical_accuracy: 0.9604 - val_loss: 0.4585 - val_categorical_accuracy: 0.9338\n",
      "Epoch 12/30\n",
      "189/189 [==============================] - 5s 24ms/step - loss: 0.3473 - categorical_accuracy: 0.9611 - val_loss: 0.4621 - val_categorical_accuracy: 0.9299\n",
      "Epoch 13/30\n",
      "189/189 [==============================] - 5s 24ms/step - loss: 0.3459 - categorical_accuracy: 0.9616 - val_loss: 0.4500 - val_categorical_accuracy: 0.9384\n",
      "Epoch 14/30\n",
      "189/189 [==============================] - 5s 24ms/step - loss: 0.3444 - categorical_accuracy: 0.9628 - val_loss: 0.4536 - val_categorical_accuracy: 0.9400\n",
      "Epoch 15/30\n",
      "189/189 [==============================] - 5s 24ms/step - loss: 0.3412 - categorical_accuracy: 0.9639 - val_loss: 0.4479 - val_categorical_accuracy: 0.9361\n",
      "Epoch 16/30\n",
      "189/189 [==============================] - 5s 24ms/step - loss: 0.3416 - categorical_accuracy: 0.9636 - val_loss: 0.4653 - val_categorical_accuracy: 0.9299\n",
      "Epoch 17/30\n",
      "189/189 [==============================] - 5s 24ms/step - loss: 0.3392 - categorical_accuracy: 0.9648 - val_loss: 0.4496 - val_categorical_accuracy: 0.9346\n",
      "Epoch 18/30\n",
      "189/189 [==============================] - 5s 24ms/step - loss: 0.3353 - categorical_accuracy: 0.9661 - val_loss: 0.4490 - val_categorical_accuracy: 0.9323\n",
      "Epoch 19/30\n",
      "189/189 [==============================] - 5s 24ms/step - loss: 0.3341 - categorical_accuracy: 0.9682 - val_loss: 0.4520 - val_categorical_accuracy: 0.9361\n",
      "Epoch 20/30\n",
      "189/189 [==============================] - 5s 24ms/step - loss: 0.3327 - categorical_accuracy: 0.9680 - val_loss: 0.4481 - val_categorical_accuracy: 0.9376\n",
      "Epoch 21/30\n",
      "189/189 [==============================] - 5s 24ms/step - loss: 0.3324 - categorical_accuracy: 0.9681 - val_loss: 0.4476 - val_categorical_accuracy: 0.9369\n",
      "Epoch 22/30\n",
      "189/189 [==============================] - 5s 24ms/step - loss: 0.3320 - categorical_accuracy: 0.9687 - val_loss: 0.4477 - val_categorical_accuracy: 0.9369\n",
      "Epoch 23/30\n",
      "189/189 [==============================] - 5s 24ms/step - loss: 0.3350 - categorical_accuracy: 0.9669 - val_loss: 0.4472 - val_categorical_accuracy: 0.9353\n",
      "Epoch 24/30\n",
      "189/189 [==============================] - 5s 24ms/step - loss: 0.3336 - categorical_accuracy: 0.9676 - val_loss: 0.4474 - val_categorical_accuracy: 0.9353\n",
      "Epoch 25/30\n",
      "189/189 [==============================] - 5s 24ms/step - loss: 0.3328 - categorical_accuracy: 0.9674 - val_loss: 0.4474 - val_categorical_accuracy: 0.9353\n",
      "Epoch 26/30\n",
      "189/189 [==============================] - 5s 24ms/step - loss: 0.3344 - categorical_accuracy: 0.9665 - val_loss: 0.4480 - val_categorical_accuracy: 0.9361\n",
      "Epoch 27/30\n",
      "189/189 [==============================] - 5s 24ms/step - loss: 0.3318 - categorical_accuracy: 0.9693 - val_loss: 0.4474 - val_categorical_accuracy: 0.9361\n",
      "Epoch 28/30\n",
      "189/189 [==============================] - 5s 24ms/step - loss: 0.3324 - categorical_accuracy: 0.9679 - val_loss: 0.4476 - val_categorical_accuracy: 0.9369\n",
      "Epoch 29/30\n",
      "189/189 [==============================] - 5s 24ms/step - loss: 0.3326 - categorical_accuracy: 0.9674 - val_loss: 0.4474 - val_categorical_accuracy: 0.9353\n",
      "Epoch 30/30\n",
      "189/189 [==============================] - 5s 24ms/step - loss: 0.3337 - categorical_accuracy: 0.9672 - val_loss: 0.4473 - val_categorical_accuracy: 0.9361\n"
     ]
    },
    {
     "data": {
      "image/png": "[encoded data removed]",
      "text/plain": [
       "<Figure size 360x360 with 1 Axes>"
      ]
     },
     "metadata": {
      "needs_background": "light"
     },
     "output_type": "display_data"
    },
    {
     "data": {
      "image/png": "[encoded data removed]",
      "text/plain": [
       "<Figure size 360x360 with 1 Axes>"
      ]
     },
     "metadata": {
      "needs_background": "light"
     },
     "output_type": "display_data"
    },
    {
     "name": "stdout",
     "output_type": "stream",
     "text": [
      "0.9399538040161133\n"
     ]
    }
   ],
   "source": [
    "##############################################\n",
    "############     TRAIN MODEL     #############\n",
    "##############################################\n",
    "\n",
    "batch_size = 128\n",
    "history = model.fit(train_X,\n",
    "                    train_y,\n",
    "                    validation_data=(val_X, val_y),\n",
    "                    batch_size=batch_size,\n",
    "                    epochs=30,\n",
    "                    shuffle=True,\n",
    "                    callbacks = [reduce_lr]\n",
    "                    )\n",
    "\n",
    "showHistory(history)      \n",
    "try:    \n",
    "    acc = max(history.history['val_accuracy'])\n",
    "except:\n",
    "    acc = max(history.history['val_categorical_accuracy'])\n",
    "\n",
    "print(acc)"
   ]
  },
  {
   "cell_type": "code",
   "execution_count": 13,
   "metadata": {},
   "outputs": [
    {
     "data": {
      "application/vnd.jupyter.widget-view+json": {
       "model_id": "f52992a38d924a2d90bb854ee9bb295b",
       "version_major": 2,
       "version_minor": 0
      },
      "text/plain": [
       "  0%|          | 0/50 [00:00<?, ?it/s]"
      ]
     },
     "metadata": {},
     "output_type": "display_data"
    },
    {
     "name": "stdout",
     "output_type": "stream",
     "text": [
      "Global accuracy: 97.68%\n",
      "          Accuracy\n",
      "Subject           \n",
      "S002     95.000000\n",
      "S004     98.500000\n",
      "S005     97.000000\n",
      "S006     95.500000\n",
      "S007     95.000000\n",
      "S008     98.750000\n",
      "S009     97.750000\n",
      "S010     99.000000\n",
      "S011     99.500000\n",
      "S101     99.750000\n",
      "S102     99.250000\n",
      "S103     97.666667\n",
      "S104     96.000000\n",
      "S106     97.750000\n"
     ]
    }
   ],
   "source": [
    "evaluate_set(model, train_sessions, classes, post_fix, input_length=input_length, log = False)"
   ]
  },
  {
   "cell_type": "code",
   "execution_count": 14,
   "metadata": {},
   "outputs": [
    {
     "data": {
      "application/vnd.jupyter.widget-view+json": {
       "model_id": "34f55f7ed0d94da4b0a29d7eb9cc9560",
       "version_major": 2,
       "version_minor": 0
      },
      "text/plain": [
       "  0%|          | 0/8 [00:00<?, ?it/s]"
      ]
     },
     "metadata": {},
     "output_type": "display_data"
    },
    {
     "name": "stdout",
     "output_type": "stream",
     "text": [
      "Global accuracy: 92.25%\n",
      "         Accuracy\n",
      "Subject          \n",
      "S001        97.25\n",
      "S105        87.25\n"
     ]
    }
   ],
   "source": [
    "evaluate_set(model, val_sessions, classes,  post_fix, input_length=input_length, log = False)"
   ]
  },
  {
   "cell_type": "code",
   "execution_count": 16,
   "metadata": {},
   "outputs": [
    {
     "name": "stdout",
     "output_type": "stream",
     "text": [
      "INFO:tensorflow:Assets written to: saved_models/04_02_val_acc_92\\assets\n"
     ]
    }
   ],
   "source": [
    "model.save('saved_models/04_02_val_acc_92')"
   ]
  },
  {
   "cell_type": "code",
   "execution_count": null,
   "metadata": {},
   "outputs": [],
   "source": []
  }
 ],
 "metadata": {
  "interpreter": {
   "hash": "a81b55685ebb6380129efe90592a7e4f2f571da2ab32c8bbcf8b970d830ead19"
  },
  "kernelspec": {
   "display_name": "Python 3.7.6 64-bit",
   "name": "python3"
  },
  "language_info": {
   "codemirror_mode": {
    "name": "ipython",
    "version": 3
   },
   "file_extension": ".py",
   "mimetype": "text/x-python",
   "name": "python",
   "nbconvert_exporter": "python",
   "pygments_lexer": "ipython3",
   "version": "3.7.0"
  }
 },
 "nbformat": 4,
 "nbformat_minor": 4
}
