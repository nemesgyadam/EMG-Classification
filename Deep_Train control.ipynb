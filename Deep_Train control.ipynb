{
 "cells": [
  {
   "cell_type": "code",
   "execution_count": 1,
   "metadata": {},
   "outputs": [
    {
     "name": "stderr",
     "output_type": "stream",
     "text": [
      "C:\\Users\\Nemes\\anaconda3\\envs\\tf\\lib\\site-packages\\numpy\\_distributor_init.py:32: UserWarning: loaded more than 1 DLL from .libs:\n",
      "C:\\Users\\Nemes\\anaconda3\\envs\\tf\\lib\\site-packages\\numpy\\.libs\\libopenblas.PYQHXLVVQ7VESDPUVUADXEVJOBGHJPAY.gfortran-win_amd64.dll\n",
      "C:\\Users\\Nemes\\anaconda3\\envs\\tf\\lib\\site-packages\\numpy\\.libs\\libopenblas.WCDJNK7YVMPZQ2ME2ZZHJJRJ3JIKNDB7.gfortran-win_amd64.dll\n",
      "C:\\Users\\Nemes\\anaconda3\\envs\\tf\\lib\\site-packages\\numpy\\.libs\\libopenblas.XWYDX2IKJW2NMTWSFYNGFUWKQU3LYTCZ.gfortran-win_amd64.dll\n",
      "  stacklevel=1)\n"
     ]
    }
   ],
   "source": [
    "import numpy as np\n",
    "import random\n",
    "import os\n",
    "import keras_tuner as kt\n",
    "from matplotlib import pyplot as plt\n",
    "from sklearn.model_selection import train_test_split\n",
    "import tensorflow as tf\n",
    "from tensorflow import keras\n",
    "from tensorflow.keras.utils import to_categorical\n",
    "from tensorflow.keras.models import Sequential\n",
    "from tensorflow.keras import layers as layers\n",
    "from tensorflow.keras.layers import GlobalMaxPooling2D, Activation, Dense, Conv1D, Conv2D, Dropout, Flatten, MaxPooling2D, BatchNormalization, GlobalMaxPooling1D\n",
    "from tensorflow.keras import optimizers\n",
    "import pandas as pd\n",
    "from tqdm.notebook import tqdm\n",
    "%matplotlib inline\n",
    "import matplotlib.pyplot as plt\n",
    "from tensorflow.keras import regularizers\n",
    "from tensorflow.keras.callbacks import EarlyStopping, ReduceLROnPlateau\n",
    "from scipy import signal\n",
    "\n",
    "\n",
    "from sklearn.model_selection import StratifiedKFold, KFold\n",
    "from sklearn.metrics import classification_report,confusion_matrix\n",
    "from sklearn.metrics import accuracy_score\n",
    "from tensorflow.keras.utils import to_categorical\n",
    "from sklearn.preprocessing import StandardScaler\n",
    "\n",
    "from utils.augment import noise_augment, shift_augment, apply_augment\n",
    "from utils.deep import preProcess, smoothLabels, oneHot, applyOneHot, evaluate_set\n",
    "from utils.visualize import showMe, showHistory\n",
    "from config.default import *\n",
    "\n",
    "%load_ext autoreload\n",
    "%autoreload 2\n"
   ]
  },
  {
   "cell_type": "code",
   "execution_count": 44,
   "metadata": {},
   "outputs": [
    {
     "name": "stdout",
     "output_type": "stream",
     "text": [
      "No data available for train for class Chew\n",
      "No data available for train for class Chew\n",
      "No data available for train for class Chew\n",
      "No data available for train for class Smile\n",
      "No data available for train for class Smile\n",
      "No data available for train for class Smile\n",
      "No data available for train for class Smile\n",
      "No data available for train for class Smile\n",
      "No data available for train for class Smile\n",
      "No data available for train for class Smile\n",
      "No data available for train for class Smile\n",
      "50 sessions loaded for training\n",
      "8 sessions loaded for validation\n"
     ]
    }
   ],
   "source": [
    "root_path = 'C:/resources/EMG/'\n",
    "post_fix = '_1s_cleaned' #'_1s_new' #\n",
    "classes = settings['classes']\n",
    "\n",
    "\n",
    "sessions_to_val = [] #'session_4'] # ['session_1','session_2','session_3','session_4']    #[] # \n",
    "subject_to_val = ['S001',  'S105']\n",
    "\n",
    "# use session4 for validation\n",
    "train_sessions = []\n",
    "val_sessions = []\n",
    "for subject in os.listdir(root_path):\n",
    "        for session in os.listdir(os.path.join(root_path,subject)):\n",
    "            if session in sessions_to_val or subject in subject_to_val:\n",
    "                val_sessions.append(os.path.join(root_path,subject, session))\n",
    "            else:\n",
    "                train_sessions.append(os.path.join(root_path,subject, session))\n",
    "        #print(f\"{len(os.listdir(os.path.join(root_path,subject)))} session loaded from subject: {subject}\")\n",
    "\n",
    "\n",
    "\n",
    "\n",
    "train_records = {}\n",
    "if len(train_sessions) > 0:\n",
    "    for c in classes:\n",
    "        class_data = []\n",
    "        for session in train_sessions:\n",
    "            data = np.load(os.path.join(session,c+post_fix+'.npy'),allow_pickle=True)\n",
    "            if data.shape[0] != 0:\n",
    "                class_data.append(data)\n",
    "            else:\n",
    "                #val_records[c] = np.random.rand(1, 4, 500)\n",
    "                #print(f'WARNING! CREATING RANDOM DATA FOR {c}')\n",
    "                print(f\"No data available for train for class {c}\")\n",
    "        \n",
    "        train_records[c] = np.concatenate(class_data)\n",
    "    print(f\"{len(train_sessions)} sessions loaded for training\")\n",
    "else:\n",
    "    print(\"No train session available\")\n",
    "\n",
    "val_records = {}\n",
    "for c in classes:\n",
    "    class_data = []\n",
    "    for session in val_sessions:\n",
    "        data = np.load(os.path.join(session,c+post_fix+'.npy'),allow_pickle=True)\n",
    "        if data.shape[0] != 0:\n",
    "            class_data.append(data)\n",
    "    if len(class_data) != 0:\n",
    "        val_records[c] = np.concatenate(class_data)\n",
    "    else:\n",
    "        #val_records[c] = np.random.rand(1, 4, 500)\n",
    "        #print(f'WARNING! CREATING RANDOM DATA FOR {c}')\n",
    "        print(f\"No data available for validation for class {c}\")\n",
    "\n",
    "print(f\"{len(val_sessions)} sessions loaded for validation\")"
   ]
  },
  {
   "cell_type": "code",
   "execution_count": 45,
   "metadata": {},
   "outputs": [],
   "source": [
    "def create_labels(X):\n",
    "    y = []\n",
    "    for i, r in enumerate(X):\n",
    "        l = np.ones(X[r].shape[0])*i\n",
    "        y = y + l.tolist()\n",
    "    y = np.array(y)\n",
    "    return y"
   ]
  },
  {
   "cell_type": "code",
   "execution_count": 46,
   "metadata": {},
   "outputs": [
    {
     "name": "stdout",
     "output_type": "stream",
     "text": [
      "TRAIN SET\n",
      "Rest -> (2088, 4, 500)\n",
      "Eyebrow -> (2880, 4, 500)\n",
      "Chew -> (1866, 4, 500)\n",
      "Smile -> (1215, 4, 500)\n",
      "VAL SET\n",
      "Rest -> (201, 4, 500)\n",
      "Eyebrow -> (519, 4, 500)\n",
      "Chew -> (294, 4, 500)\n",
      "Smile -> (285, 4, 500)\n"
     ]
    }
   ],
   "source": [
    "print(\"TRAIN SET\")\n",
    "for r in train_records:\n",
    "    print(f'{r} -> {train_records[r].shape}')\n",
    "\n",
    "print(\"VAL SET\")\n",
    "for r in val_records:\n",
    "    print(f'{r} -> {val_records[r].shape}')"
   ]
  },
  {
   "cell_type": "code",
   "execution_count": 47,
   "metadata": {},
   "outputs": [
    {
     "name": "stdout",
     "output_type": "stream",
     "text": [
      "Train\n",
      "(8049, 4, 500)\n",
      "(8049,)\n",
      "Validation:\n",
      "(1299, 4, 500)\n",
      "(1299,)\n"
     ]
    }
   ],
   "source": [
    "n_channels = train_records[\"Rest\"].shape[1]\n",
    "input_length = train_records[\"Rest\"].shape[2]\n",
    "\n",
    "\n",
    "print('Train')\n",
    "train_y = create_labels(train_records)\n",
    "train_X = np.concatenate((list(train_records.values())), axis=0)\n",
    "print(train_X.shape)\n",
    "print(train_y.shape)\n",
    "\n",
    "\n",
    "print('Validation:')\n",
    "val_y = create_labels(val_records)\n",
    "val_X = np.concatenate((list(val_records.values())), axis=0)\n",
    "print(val_X.shape)\n",
    "print(val_y.shape)"
   ]
  },
  {
   "cell_type": "code",
   "execution_count": 48,
   "metadata": {},
   "outputs": [
    {
     "name": "stdout",
     "output_type": "stream",
     "text": [
      "(8049, 4, 500)\n",
      "(8049, 4)\n",
      "(1299, 4, 500)\n",
      "(1299, 4)\n"
     ]
    }
   ],
   "source": [
    "train_X = np.array(train_X).reshape(-1,n_channels,input_length)\n",
    "train_y = np.array(train_y)\n",
    "\n",
    "val_X = np.array(val_X).reshape(-1,n_channels,input_length)\n",
    "val_y = np.array(val_y)\n",
    "\n",
    "\n",
    "train_y = applyOneHot(train_y,len(classes))\n",
    "val_y = applyOneHot(val_y,len(classes))\n",
    "\n",
    "\n",
    "print(train_X.shape)\n",
    "print(train_y.shape)\n",
    "\n",
    "print(val_X.shape)\n",
    "print(val_y.shape)\n"
   ]
  },
  {
   "cell_type": "code",
   "execution_count": 49,
   "metadata": {},
   "outputs": [
    {
     "name": "stdout",
     "output_type": "stream",
     "text": [
      "After augmentation\n",
      "(24147, 4, 500)\n",
      "(24147, 4)\n"
     ]
    }
   ],
   "source": [
    "train_X, train_y = apply_augment(train_X, train_y)\n",
    "print(\"After augmentation\")\n",
    "print(train_X.shape)\n",
    "print(train_y.shape)\n"
   ]
  },
  {
   "cell_type": "code",
   "execution_count": 50,
   "metadata": {},
   "outputs": [],
   "source": [
    "c = list(zip(train_X, train_y))\n",
    "random.seed(42)\n",
    "random.shuffle(c)\n",
    "train_X,train_y = zip(*c)\n",
    "train_X = np.array(train_X)\n",
    "train_y = np.array(train_y)"
   ]
  },
  {
   "cell_type": "code",
   "execution_count": 82,
   "metadata": {},
   "outputs": [],
   "source": [
    "def get_model():\n",
    "    inspected_chanels= train_X.shape[1]\n",
    "    input_length=     train_X.shape[2]\n",
    "    l2 = 0.000001\n",
    "\n",
    "    input_layer = keras.Input(shape = (inspected_chanels,input_length,1), name='input')\n",
    "\n",
    "    x     = layers.AveragePooling2D(pool_size=(1,5))(input_layer) # resample\n",
    "\n",
    "\n",
    "   \n",
    "   \n",
    "    x     = layers.Conv2D(256, kernel_size=(1,5), padding='same', activation='relu', kernel_regularizer=regularizers.l2(l2))(x)\n",
    "    x     = layers.BatchNormalization()(x)\n",
    "    x     = layers.AveragePooling2D(pool_size=(1,5))(x)\n",
    "\n",
    "    x     = layers.Conv2D(256, kernel_size=(4,1), padding='same', activation='relu', kernel_regularizer=regularizers.l2(l2))(x)\n",
    "    x     = layers.BatchNormalization()(x)\n",
    "    x     = layers.AveragePooling2D(pool_size=(4,1))(x)\n",
    "\n",
    "    x     = layers.Dense(500,kernel_regularizer=regularizers.l2(l2))(x)\n",
    "    x     = layers.Flatten()(x)\n",
    "\n",
    " \n",
    "   \n",
    "    \n",
    "\n",
    "    x     = layers.Dense(200,kernel_regularizer=regularizers.l2(l2))(x)\n",
    "    x     = layers.BatchNormalization()(x)\n",
    "    x     = layers.Dropout(.1)(x)\n",
    "\n",
    "    \n",
    "    \n",
    "\n",
    "\n",
    "    output = layers.Dense(len(classes), activation='softmax')(x)\n",
    "    model = keras.Model(inputs=input_layer, outputs=output)\n",
    "\n",
    "    #model.summary()\n",
    "    return model"
   ]
  },
  {
   "cell_type": "code",
   "execution_count": 95,
   "metadata": {},
   "outputs": [
    {
     "name": "stdout",
     "output_type": "stream",
     "text": [
      "Model: \"functional_33\"\n",
      "_________________________________________________________________\n",
      "Layer (type)                 Output Shape              Param #   \n",
      "=================================================================\n",
      "input (InputLayer)           [(None, 4, 500, 1)]       0         \n",
      "_________________________________________________________________\n",
      "average_pooling2d_48 (Averag (None, 4, 100, 1)         0         \n",
      "_________________________________________________________________\n",
      "conv2d_32 (Conv2D)           (None, 4, 100, 256)       1536      \n",
      "_________________________________________________________________\n",
      "batch_normalization_48 (Batc (None, 4, 100, 256)       1024      \n",
      "_________________________________________________________________\n",
      "average_pooling2d_49 (Averag (None, 4, 20, 256)        0         \n",
      "_________________________________________________________________\n",
      "conv2d_33 (Conv2D)           (None, 4, 20, 256)        262400    \n",
      "_________________________________________________________________\n",
      "batch_normalization_49 (Batc (None, 4, 20, 256)        1024      \n",
      "_________________________________________________________________\n",
      "average_pooling2d_50 (Averag (None, 1, 20, 256)        0         \n",
      "_________________________________________________________________\n",
      "dense_48 (Dense)             (None, 1, 20, 500)        128500    \n",
      "_________________________________________________________________\n",
      "flatten_16 (Flatten)         (None, 10000)             0         \n",
      "_________________________________________________________________\n",
      "dense_49 (Dense)             (None, 200)               2000200   \n",
      "_________________________________________________________________\n",
      "batch_normalization_50 (Batc (None, 200)               800       \n",
      "_________________________________________________________________\n",
      "dropout_16 (Dropout)         (None, 200)               0         \n",
      "_________________________________________________________________\n",
      "dense_50 (Dense)             (None, 4)                 804       \n",
      "=================================================================\n",
      "Total params: 2,396,288\n",
      "Trainable params: 2,394,864\n",
      "Non-trainable params: 1,424\n",
      "_________________________________________________________________\n"
     ]
    }
   ],
   "source": [
    "model = get_model()\n",
    "\n",
    "\n",
    "reduce_lr = ReduceLROnPlateau(monitor='val_loss', factor=0.2,\n",
    "                               patience=2, min_lr=1e-7,)\n",
    "                              \n",
    "# early_stopping =  tf.keras.callbacks.EarlyStopping(monitor='val_loss', patience=3, min_delta=0.000001)\n",
    "\n",
    "opt = keras.optimizers.SGD(learning_rate=1e-4, momentum=0.9)\n",
    "model.compile(optimizer=opt,\n",
    "          loss='categorical_crossentropy',\n",
    "          metrics=['categorical_accuracy']\n",
    "         )\n"
   ]
  },
  {
   "cell_type": "code",
   "execution_count": 96,
   "metadata": {},
   "outputs": [
    {
     "name": "stdout",
     "output_type": "stream",
     "text": [
      "Epoch 1/30\n",
      "189/189 [==============================] - 5s 27ms/step - loss: 0.7823 - categorical_accuracy: 0.7593 - val_loss: 1.4077 - val_categorical_accuracy: 0.2263\n",
      "Epoch 2/30\n",
      "189/189 [==============================] - 5s 25ms/step - loss: 0.5343 - categorical_accuracy: 0.8765 - val_loss: 1.0246 - val_categorical_accuracy: 0.6490\n",
      "Epoch 3/30\n",
      "189/189 [==============================] - 5s 24ms/step - loss: 0.4808 - categorical_accuracy: 0.9014 - val_loss: 0.6686 - val_categorical_accuracy: 0.8299\n",
      "Epoch 4/30\n",
      "189/189 [==============================] - 5s 25ms/step - loss: 0.4473 - categorical_accuracy: 0.9164 - val_loss: 0.5193 - val_categorical_accuracy: 0.9092\n",
      "Epoch 5/30\n",
      "189/189 [==============================] - 5s 24ms/step - loss: 0.4262 - categorical_accuracy: 0.9250 - val_loss: 0.5778 - val_categorical_accuracy: 0.8830\n",
      "Epoch 6/30\n",
      "189/189 [==============================] - 5s 25ms/step - loss: 0.4127 - categorical_accuracy: 0.9312 - val_loss: 0.4887 - val_categorical_accuracy: 0.9199\n",
      "Epoch 7/30\n",
      "189/189 [==============================] - 5s 25ms/step - loss: 0.4000 - categorical_accuracy: 0.9384 - val_loss: 0.5025 - val_categorical_accuracy: 0.9076\n",
      "Epoch 8/30\n",
      "189/189 [==============================] - 5s 25ms/step - loss: 0.3885 - categorical_accuracy: 0.9429 - val_loss: 0.4934 - val_categorical_accuracy: 0.9230\n",
      "Epoch 9/30\n",
      "189/189 [==============================] - 5s 25ms/step - loss: 0.3685 - categorical_accuracy: 0.9520 - val_loss: 0.4570 - val_categorical_accuracy: 0.9323\n",
      "Epoch 10/30\n",
      "189/189 [==============================] - 5s 25ms/step - loss: 0.3606 - categorical_accuracy: 0.9549 - val_loss: 0.4572 - val_categorical_accuracy: 0.9307\n",
      "Epoch 11/30\n",
      "189/189 [==============================] - 5s 25ms/step - loss: 0.3594 - categorical_accuracy: 0.9548 - val_loss: 0.4613 - val_categorical_accuracy: 0.9315\n",
      "Epoch 12/30\n",
      "189/189 [==============================] - 5s 25ms/step - loss: 0.3529 - categorical_accuracy: 0.9593 - val_loss: 0.4514 - val_categorical_accuracy: 0.9330\n",
      "Epoch 13/30\n",
      "189/189 [==============================] - 5s 25ms/step - loss: 0.3536 - categorical_accuracy: 0.9581 - val_loss: 0.4523 - val_categorical_accuracy: 0.9330\n",
      "Epoch 14/30\n",
      "189/189 [==============================] - 5s 25ms/step - loss: 0.3517 - categorical_accuracy: 0.9591 - val_loss: 0.4514 - val_categorical_accuracy: 0.9330\n",
      "Epoch 15/30\n",
      "189/189 [==============================] - 5s 25ms/step - loss: 0.3534 - categorical_accuracy: 0.9591 - val_loss: 0.4498 - val_categorical_accuracy: 0.9330\n",
      "Epoch 16/30\n",
      "189/189 [==============================] - 5s 25ms/step - loss: 0.3495 - categorical_accuracy: 0.9599 - val_loss: 0.4503 - val_categorical_accuracy: 0.9346\n",
      "Epoch 17/30\n",
      "189/189 [==============================] - 5s 25ms/step - loss: 0.3507 - categorical_accuracy: 0.9586 - val_loss: 0.4516 - val_categorical_accuracy: 0.9323\n",
      "Epoch 18/30\n",
      "189/189 [==============================] - 5s 25ms/step - loss: 0.3508 - categorical_accuracy: 0.9594 - val_loss: 0.4511 - val_categorical_accuracy: 0.9323\n",
      "Epoch 19/30\n",
      "189/189 [==============================] - 5s 25ms/step - loss: 0.3502 - categorical_accuracy: 0.9593 - val_loss: 0.4509 - val_categorical_accuracy: 0.9323\n",
      "Epoch 20/30\n",
      "189/189 [==============================] - 5s 25ms/step - loss: 0.3518 - categorical_accuracy: 0.9591 - val_loss: 0.4507 - val_categorical_accuracy: 0.9330 categorical_accuracy: 0.95\n",
      "Epoch 21/30\n",
      "189/189 [==============================] - 5s 25ms/step - loss: 0.3497 - categorical_accuracy: 0.9610 - val_loss: 0.4511 - val_categorical_accuracy: 0.9323\n",
      "Epoch 22/30\n",
      "189/189 [==============================] - 5s 25ms/step - loss: 0.3493 - categorical_accuracy: 0.9598 - val_loss: 0.4513 - val_categorical_accuracy: 0.9330\n",
      "Epoch 23/30\n",
      "189/189 [==============================] - 5s 25ms/step - loss: 0.3508 - categorical_accuracy: 0.9587 - val_loss: 0.4504 - val_categorical_accuracy: 0.9323\n",
      "Epoch 24/30\n",
      "189/189 [==============================] - 5s 25ms/step - loss: 0.3501 - categorical_accuracy: 0.9602 - val_loss: 0.4509 - val_categorical_accuracy: 0.9323\n",
      "Epoch 25/30\n",
      "189/189 [==============================] - 5s 25ms/step - loss: 0.3510 - categorical_accuracy: 0.9583 - val_loss: 0.4509 - val_categorical_accuracy: 0.9330\n",
      "Epoch 26/30\n",
      "189/189 [==============================] - 5s 25ms/step - loss: 0.3499 - categorical_accuracy: 0.9607 - val_loss: 0.4507 - val_categorical_accuracy: 0.9330\n",
      "Epoch 27/30\n",
      "189/189 [==============================] - 5s 25ms/step - loss: 0.3496 - categorical_accuracy: 0.9591 - val_loss: 0.4506 - val_categorical_accuracy: 0.9330\n",
      "Epoch 28/30\n",
      "189/189 [==============================] - 5s 24ms/step - loss: 0.3493 - categorical_accuracy: 0.9592 - val_loss: 0.4508 - val_categorical_accuracy: 0.9323\n",
      "Epoch 29/30\n",
      "189/189 [==============================] - 5s 24ms/step - loss: 0.3496 - categorical_accuracy: 0.9593 - val_loss: 0.4503 - val_categorical_accuracy: 0.9323\n",
      "Epoch 30/30\n",
      "189/189 [==============================] - 5s 24ms/step - loss: 0.3493 - categorical_accuracy: 0.9596 - val_loss: 0.4507 - val_categorical_accuracy: 0.9323\n"
     ]
    },
    {
     "data": {
      "image/png": "[encoded data removed]",
      "text/plain": [
       "<Figure size 360x360 with 1 Axes>"
      ]
     },
     "metadata": {
      "needs_background": "light"
     },
     "output_type": "display_data"
    },
    {
     "data": {
      "image/png": "[encoded data removed]",
      "text/plain": [
       "<Figure size 360x360 with 1 Axes>"
      ]
     },
     "metadata": {
      "needs_background": "light"
     },
     "output_type": "display_data"
    },
    {
     "name": "stdout",
     "output_type": "stream",
     "text": [
      "0.9345650672912598\n"
     ]
    }
   ],
   "source": [
    "##############################################\n",
    "############     TRAIN MODEL     #############\n",
    "##############################################\n",
    "\n",
    "batch_size = 128\n",
    "history = model.fit(train_X,\n",
    "                    train_y,\n",
    "                    validation_data=(val_X, val_y),\n",
    "                    batch_size=batch_size,\n",
    "                    epochs=30,\n",
    "                    shuffle=True,\n",
    "                    callbacks = [reduce_lr]\n",
    "                    )\n",
    "\n",
    "showHistory(history)      \n",
    "try:    \n",
    "    acc = max(history.history['val_accuracy'])\n",
    "except:\n",
    "    acc = max(history.history['val_categorical_accuracy'])\n",
    "\n",
    "print(acc)"
   ]
  },
  {
   "cell_type": "code",
   "execution_count": null,
   "metadata": {},
   "outputs": [],
   "source": [
    "evaluate_set(model, train_sessions, classes, post_fix, input_length=input_length, log = False)"
   ]
  },
  {
   "cell_type": "code",
   "execution_count": 97,
   "metadata": {},
   "outputs": [
    {
     "data": {
      "application/vnd.jupyter.widget-view+json": {
       "model_id": "7b57f4a27cbe4c1dae9b6df5f6e42b4e",
       "version_major": 2,
       "version_minor": 0
      },
      "text/plain": [
       "  0%|          | 0/8 [00:00<?, ?it/s]"
      ]
     },
     "metadata": {},
     "output_type": "display_data"
    },
    {
     "name": "stdout",
     "output_type": "stream",
     "text": [
      "Global accuracy: 92.0%\n",
      "         Accuracy\n",
      "Subject          \n",
      "S001        96.75\n",
      "S105        87.25\n"
     ]
    }
   ],
   "source": [
    "evaluate_set(model, val_sessions, classes,  post_fix, input_length=input_length, log = False)"
   ]
  },
  {
   "cell_type": "code",
   "execution_count": null,
   "metadata": {},
   "outputs": [],
   "source": []
  }
 ],
 "metadata": {
  "interpreter": {
   "hash": "a81b55685ebb6380129efe90592a7e4f2f571da2ab32c8bbcf8b970d830ead19"
  },
  "kernelspec": {
   "display_name": "Python 3.7.6 64-bit",
   "name": "python3"
  },
  "language_info": {
   "codemirror_mode": {
    "name": "ipython",
    "version": 3
   },
   "file_extension": ".py",
   "mimetype": "text/x-python",
   "name": "python",
   "nbconvert_exporter": "python",
   "pygments_lexer": "ipython3",
   "version": "3.7.0"
  }
 },
 "nbformat": 4,
 "nbformat_minor": 4
}
