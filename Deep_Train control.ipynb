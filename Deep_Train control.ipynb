{
 "cells": [
  {
   "cell_type": "code",
   "execution_count": 2,
   "metadata": {},
   "outputs": [
    {
     "name": "stderr",
     "output_type": "stream",
     "text": [
      "C:\\Users\\Nemes\\anaconda3\\envs\\tf\\lib\\site-packages\\numpy\\_distributor_init.py:32: UserWarning: loaded more than 1 DLL from .libs:\n",
      "C:\\Users\\Nemes\\anaconda3\\envs\\tf\\lib\\site-packages\\numpy\\.libs\\libopenblas.PYQHXLVVQ7VESDPUVUADXEVJOBGHJPAY.gfortran-win_amd64.dll\n",
      "C:\\Users\\Nemes\\anaconda3\\envs\\tf\\lib\\site-packages\\numpy\\.libs\\libopenblas.WCDJNK7YVMPZQ2ME2ZZHJJRJ3JIKNDB7.gfortran-win_amd64.dll\n",
      "C:\\Users\\Nemes\\anaconda3\\envs\\tf\\lib\\site-packages\\numpy\\.libs\\libopenblas.XWYDX2IKJW2NMTWSFYNGFUWKQU3LYTCZ.gfortran-win_amd64.dll\n",
      "  stacklevel=1)\n"
     ]
    }
   ],
   "source": [
    "import numpy as np\n",
    "import random\n",
    "import os\n",
    "import keras_tuner as kt\n",
    "from matplotlib import pyplot as plt\n",
    "from sklearn.model_selection import train_test_split\n",
    "import tensorflow as tf\n",
    "from tensorflow import keras\n",
    "from tensorflow.keras.utils import to_categorical\n",
    "from tensorflow.keras.models import Sequential\n",
    "from tensorflow.keras import layers as layers\n",
    "from tensorflow.keras.layers import GlobalMaxPooling2D, Activation, Dense, Conv1D, Conv2D, Dropout, Flatten, MaxPooling2D, BatchNormalization, GlobalMaxPooling1D\n",
    "from tensorflow.keras import optimizers\n",
    "import pandas as pd\n",
    "from tqdm.notebook import tqdm\n",
    "%matplotlib inline\n",
    "import matplotlib.pyplot as plt\n",
    "from tensorflow.keras import regularizers\n",
    "from tensorflow.keras.callbacks import EarlyStopping, ReduceLROnPlateau\n",
    "from scipy import signal\n",
    "\n",
    "\n",
    "from sklearn.model_selection import StratifiedKFold, KFold\n",
    "from sklearn.metrics import classification_report,confusion_matrix\n",
    "from sklearn.metrics import accuracy_score\n",
    "from tensorflow.keras.utils import to_categorical\n",
    "from sklearn.preprocessing import StandardScaler\n",
    "\n",
    "from utils.augment import noise_augment, shift_augment, apply_augment\n",
    "from utils.deep import preProcess, smoothLabels, oneHot, applyOneHot, evaluate_set, m2tex, get_model\n",
    "from utils.visualize import showMe, showHistory\n",
    "from config.default import *\n",
    "\n",
    "%load_ext autoreload\n",
    "%autoreload 2\n"
   ]
  },
  {
   "cell_type": "code",
   "execution_count": 3,
   "metadata": {},
   "outputs": [
    {
     "name": "stdout",
     "output_type": "stream",
     "text": [
      "No data available for train for class Chew\n",
      "No data available for train for class Chew\n",
      "No data available for train for class Chew\n",
      "No data available for train for class Smile\n",
      "No data available for train for class Smile\n",
      "No data available for train for class Smile\n",
      "No data available for train for class Smile\n",
      "No data available for train for class Smile\n",
      "No data available for train for class Smile\n",
      "No data available for train for class Smile\n",
      "No data available for train for class Smile\n",
      "50 sessions loaded for training\n",
      "8 sessions loaded for validation\n"
     ]
    }
   ],
   "source": [
    "root_path = 'resources/'\n",
    "post_fix = '_1s_cleaned' #'_1s_new' #\n",
    "classes = settings['classes']\n",
    "\n",
    "\n",
    "sessions_to_val = [] #'session_4'] # ['session_1','session_2','session_3','session_4']    #[] # \n",
    "subject_to_val = ['S001',  'S105']\n",
    "\n",
    "# use session4 for validation\n",
    "train_sessions = []\n",
    "val_sessions = []\n",
    "for subject in os.listdir(root_path):\n",
    "        for session in os.listdir(os.path.join(root_path,subject)):\n",
    "            if session in sessions_to_val or subject in subject_to_val:\n",
    "                val_sessions.append(os.path.join(root_path,subject, session))\n",
    "            else:\n",
    "                train_sessions.append(os.path.join(root_path,subject, session))\n",
    "        #print(f\"{len(os.listdir(os.path.join(root_path,subject)))} session loaded from subject: {subject}\")\n",
    "\n",
    "\n",
    "\n",
    "\n",
    "train_records = {}\n",
    "if len(train_sessions) > 0:\n",
    "    for c in classes:\n",
    "        class_data = []\n",
    "        for session in train_sessions:\n",
    "            data = np.load(os.path.join(session,c+post_fix+'.npy'),allow_pickle=True)\n",
    "            if data.shape[0] != 0:\n",
    "                class_data.append(data)\n",
    "            else:\n",
    "                #val_records[c] = np.random.rand(1, 4, 500)\n",
    "                #print(f'WARNING! CREATING RANDOM DATA FOR {c}')\n",
    "                print(f\"No data available for train for class {c}\")\n",
    "        \n",
    "        train_records[c] = np.concatenate(class_data)\n",
    "    print(f\"{len(train_sessions)} sessions loaded for training\")\n",
    "else:\n",
    "    print(\"No train session available\")\n",
    "\n",
    "val_records = {}\n",
    "for c in classes:\n",
    "    class_data = []\n",
    "    for session in val_sessions:\n",
    "        data = np.load(os.path.join(session,c+post_fix+'.npy'),allow_pickle=True)\n",
    "        if data.shape[0] != 0:\n",
    "            class_data.append(data)\n",
    "    if len(class_data) != 0:\n",
    "        val_records[c] = np.concatenate(class_data)\n",
    "    else:\n",
    "        #val_records[c] = np.random.rand(1, 4, 500)\n",
    "        #print(f'WARNING! CREATING RANDOM DATA FOR {c}')\n",
    "        print(f\"No data available for validation for class {c}\")\n",
    "\n",
    "print(f\"{len(val_sessions)} sessions loaded for validation\")"
   ]
  },
  {
   "cell_type": "code",
   "execution_count": 4,
   "metadata": {},
   "outputs": [],
   "source": [
    "def create_labels(X):\n",
    "    y = []\n",
    "    for i, r in enumerate(X):\n",
    "        l = np.ones(X[r].shape[0])*i\n",
    "        y = y + l.tolist()\n",
    "    y = np.array(y)\n",
    "    return y"
   ]
  },
  {
   "cell_type": "code",
   "execution_count": 5,
   "metadata": {},
   "outputs": [
    {
     "name": "stdout",
     "output_type": "stream",
     "text": [
      "TRAIN SET\n",
      "Rest -> (2088, 4, 500)\n",
      "Eyebrow -> (2880, 4, 500)\n",
      "Chew -> (1866, 4, 500)\n",
      "Smile -> (1215, 4, 500)\n",
      "VAL SET\n",
      "Rest -> (201, 4, 500)\n",
      "Eyebrow -> (519, 4, 500)\n",
      "Chew -> (294, 4, 500)\n",
      "Smile -> (285, 4, 500)\n"
     ]
    }
   ],
   "source": [
    "print(\"TRAIN SET\")\n",
    "for r in train_records:\n",
    "    print(f'{r} -> {train_records[r].shape}')\n",
    "\n",
    "print(\"VAL SET\")\n",
    "for r in val_records:\n",
    "    print(f'{r} -> {val_records[r].shape}')"
   ]
  },
  {
   "cell_type": "code",
   "execution_count": 6,
   "metadata": {},
   "outputs": [
    {
     "name": "stdout",
     "output_type": "stream",
     "text": [
      "Train\n",
      "(8049, 4, 500)\n",
      "(8049,)\n",
      "Validation:\n",
      "(1299, 4, 500)\n",
      "(1299,)\n"
     ]
    }
   ],
   "source": [
    "n_channels = train_records[\"Rest\"].shape[1]\n",
    "input_length = train_records[\"Rest\"].shape[2]\n",
    "\n",
    "\n",
    "print('Train')\n",
    "train_y = create_labels(train_records)\n",
    "train_X = np.concatenate((list(train_records.values())), axis=0)\n",
    "print(train_X.shape)\n",
    "print(train_y.shape)\n",
    "\n",
    "\n",
    "print('Validation:')\n",
    "val_y = create_labels(val_records)\n",
    "val_X = np.concatenate((list(val_records.values())), axis=0)\n",
    "print(val_X.shape)\n",
    "print(val_y.shape)"
   ]
  },
  {
   "cell_type": "code",
   "execution_count": 7,
   "metadata": {},
   "outputs": [
    {
     "name": "stdout",
     "output_type": "stream",
     "text": [
      "(8049, 4, 500)\n",
      "(8049, 4)\n",
      "(1299, 4, 500)\n",
      "(1299, 4)\n"
     ]
    }
   ],
   "source": [
    "train_X = np.array(train_X).reshape(-1,n_channels,input_length)\n",
    "train_y = np.array(train_y)\n",
    "\n",
    "val_X = np.array(val_X).reshape(-1,n_channels,input_length)\n",
    "val_y = np.array(val_y)\n",
    "\n",
    "\n",
    "train_y = applyOneHot(train_y,len(classes))\n",
    "val_y = applyOneHot(val_y,len(classes))\n",
    "\n",
    "\n",
    "print(train_X.shape)\n",
    "print(train_y.shape)\n",
    "\n",
    "print(val_X.shape)\n",
    "print(val_y.shape)\n"
   ]
  },
  {
   "cell_type": "code",
   "execution_count": 8,
   "metadata": {},
   "outputs": [
    {
     "name": "stdout",
     "output_type": "stream",
     "text": [
      "After augmentation\n",
      "(24147, 4, 500)\n",
      "(24147, 4)\n"
     ]
    }
   ],
   "source": [
    "train_X, train_y = apply_augment(train_X, train_y)\n",
    "print(\"After augmentation\")\n",
    "print(train_X.shape)\n",
    "print(train_y.shape)\n"
   ]
  },
  {
   "cell_type": "code",
   "execution_count": 8,
   "metadata": {},
   "outputs": [],
   "source": [
    "c = list(zip(train_X, train_y))\n",
    "random.seed(42)\n",
    "random.shuffle(c)\n",
    "train_X,train_y = zip(*c)\n",
    "train_X = np.array(train_X)\n",
    "train_y = np.array(train_y)"
   ]
  },
  {
   "cell_type": "code",
   "execution_count": 65,
   "metadata": {},
   "outputs": [],
   "source": []
  },
  {
   "cell_type": "code",
   "execution_count": 76,
   "metadata": {},
   "outputs": [],
   "source": [
    "model = get_model(train_X.shape[1:],len(classes))\n",
    "\n",
    "\n",
    "reduce_lr = ReduceLROnPlateau(monitor='val_loss',\n",
    "                             factor=0.5,\n",
    "                             min_delta=0.001,\n",
    "                             patience=2,\n",
    "                             min_lr=5e-8,\n",
    "                             verbose = 1)\n",
    "                              \n",
    "# early_stopping =  tf.keras.callbacks.EarlyStopping(monitor='val_loss', patience=3, min_delta=0.000001)\n",
    "\n",
    "opt = keras.optimizers.SGD(learning_rate=1e-4, momentum=0.9)\n",
    "model.compile(optimizer=opt,\n",
    "          loss='categorical_crossentropy',\n",
    "          metrics=['categorical_accuracy']\n",
    "         )\n"
   ]
  },
  {
   "cell_type": "code",
   "execution_count": 81,
   "metadata": {},
   "outputs": [
    {
     "name": "stdout",
     "output_type": "stream",
     "text": [
      "Model: \"functional_27\"\n",
      "_________________________________________________________________\n",
      "Layer (type)                 Output Shape              Param #   \n",
      "=================================================================\n",
      "input (InputLayer)           [(None, 4, 500, 1)]       0         \n",
      "_________________________________________________________________\n",
      "average_pooling2d_39 (Averag (None, 4, 100, 1)         0         \n",
      "_________________________________________________________________\n",
      "conv2d_26 (Conv2D)           (None, 4, 100, 256)       1536      \n",
      "_________________________________________________________________\n",
      "batch_normalization_38 (Batc (None, 4, 100, 256)       1024      \n",
      "_________________________________________________________________\n",
      "average_pooling2d_40 (Averag (None, 4, 20, 256)        0         \n",
      "_________________________________________________________________\n",
      "conv2d_27 (Conv2D)           (None, 4, 20, 64)         65600     \n",
      "_________________________________________________________________\n",
      "batch_normalization_39 (Batc (None, 4, 20, 64)         256       \n",
      "_________________________________________________________________\n",
      "average_pooling2d_41 (Averag (None, 1, 20, 64)         0         \n",
      "_________________________________________________________________\n",
      "dense_38 (Dense)             (None, 1, 20, 100)        6500      \n",
      "_________________________________________________________________\n",
      "flatten_13 (Flatten)         (None, 2000)              0         \n",
      "_________________________________________________________________\n",
      "dense_39 (Dense)             (None, 20)                40020     \n",
      "_________________________________________________________________\n",
      "batch_normalization_40 (Batc (None, 20)                80        \n",
      "_________________________________________________________________\n",
      "dropout_12 (Dropout)         (None, 20)                0         \n",
      "_________________________________________________________________\n",
      "dense_40 (Dense)             (None, 4)                 84        \n",
      "=================================================================\n",
      "Total params: 115,100\n",
      "Trainable params: 114,420\n",
      "Non-trainable params: 680\n",
      "_________________________________________________________________\n"
     ]
    }
   ],
   "source": [
    "model.summary()"
   ]
  },
  {
   "cell_type": "code",
   "execution_count": 19,
   "metadata": {},
   "outputs": [
    {
     "name": "stdout",
     "output_type": "stream",
     "text": [
      "Epoch 1/30\n",
      "189/189 [==============================] - 8s 44ms/step - loss: 0.3336 - categorical_accuracy: 0.9690 - val_loss: 0.4475 - val_categorical_accuracy: 0.9353\n",
      "Epoch 2/30\n",
      "189/189 [==============================] - 5s 27ms/step - loss: 0.3312 - categorical_accuracy: 0.9698 - val_loss: 0.4473 - val_categorical_accuracy: 0.9353 0s - loss: 0.3319 - catego\n",
      "Epoch 3/30\n",
      "189/189 [==============================] - 5s 26ms/step - loss: 0.3322 - categorical_accuracy: 0.9689 - val_loss: 0.4474 - val_categorical_accuracy: 0.9361\n",
      "Epoch 4/30\n",
      "189/189 [==============================] - 5s 28ms/step - loss: 0.3330 - categorical_accuracy: 0.9674 - val_loss: 0.4474 - val_categorical_accuracy: 0.9361\n",
      "Epoch 5/30\n",
      "189/189 [==============================] - 5s 25ms/step - loss: 0.3328 - categorical_accuracy: 0.9674 - val_loss: 0.4476 - val_categorical_accuracy: 0.9361\n",
      "Epoch 6/30\n",
      "189/189 [==============================] - 5s 25ms/step - loss: 0.3324 - categorical_accuracy: 0.9687 - val_loss: 0.4476 - val_categorical_accuracy: 0.9361\n",
      "Epoch 7/30\n",
      "189/189 [==============================] - 5s 26ms/step - loss: 0.3316 - categorical_accuracy: 0.9686 - val_loss: 0.4472 - val_categorical_accuracy: 0.9361\n",
      "Epoch 8/30\n",
      "189/189 [==============================] - 5s 25ms/step - loss: 0.3315 - categorical_accuracy: 0.9691 - val_loss: 0.4479 - val_categorical_accuracy: 0.9361\n",
      "Epoch 9/30\n",
      "189/189 [==============================] - 5s 25ms/step - loss: 0.3319 - categorical_accuracy: 0.9686 - val_loss: 0.4474 - val_categorical_accuracy: 0.9369\n",
      "Epoch 10/30\n",
      "189/189 [==============================] - 4s 23ms/step - loss: 0.3312 - categorical_accuracy: 0.9693 - val_loss: 0.4472 - val_categorical_accuracy: 0.9353\n",
      "Epoch 11/30\n",
      "189/189 [==============================] - 4s 23ms/step - loss: 0.3330 - categorical_accuracy: 0.9677 - val_loss: 0.4473 - val_categorical_accuracy: 0.9361\n",
      "Epoch 12/30\n",
      "189/189 [==============================] - 4s 24ms/step - loss: 0.3325 - categorical_accuracy: 0.9689 - val_loss: 0.4471 - val_categorical_accuracy: 0.9353\n",
      "Epoch 13/30\n",
      "189/189 [==============================] - 5s 24ms/step - loss: 0.3313 - categorical_accuracy: 0.9698 - val_loss: 0.4473 - val_categorical_accuracy: 0.9353\n",
      "Epoch 14/30\n",
      "189/189 [==============================] - 5s 24ms/step - loss: 0.3331 - categorical_accuracy: 0.9674 - val_loss: 0.4472 - val_categorical_accuracy: 0.9353\n",
      "Epoch 15/30\n",
      "189/189 [==============================] - 4s 24ms/step - loss: 0.3323 - categorical_accuracy: 0.9685 - val_loss: 0.4471 - val_categorical_accuracy: 0.9346\n",
      "Epoch 16/30\n",
      "189/189 [==============================] - 5s 24ms/step - loss: 0.3326 - categorical_accuracy: 0.9682 - val_loss: 0.4473 - val_categorical_accuracy: 0.9353\n",
      "Epoch 17/30\n",
      "189/189 [==============================] - 4s 24ms/step - loss: 0.3333 - categorical_accuracy: 0.9689 - val_loss: 0.4468 - val_categorical_accuracy: 0.9353\n",
      "Epoch 18/30\n",
      "189/189 [==============================] - 5s 24ms/step - loss: 0.3329 - categorical_accuracy: 0.9673 - val_loss: 0.4473 - val_categorical_accuracy: 0.9361\n",
      "Epoch 19/30\n",
      "189/189 [==============================] - 5s 24ms/step - loss: 0.3314 - categorical_accuracy: 0.9695 - val_loss: 0.4472 - val_categorical_accuracy: 0.9346\n",
      "Epoch 20/30\n",
      "189/189 [==============================] - 4s 24ms/step - loss: 0.3316 - categorical_accuracy: 0.9677 - val_loss: 0.4473 - val_categorical_accuracy: 0.9353\n",
      "Epoch 21/30\n",
      "189/189 [==============================] - 4s 23ms/step - loss: 0.3328 - categorical_accuracy: 0.9678 - val_loss: 0.4475 - val_categorical_accuracy: 0.9353\n",
      "Epoch 22/30\n",
      "189/189 [==============================] - 4s 24ms/step - loss: 0.3325 - categorical_accuracy: 0.9686 - val_loss: 0.4477 - val_categorical_accuracy: 0.9361\n",
      "Epoch 23/30\n",
      "189/189 [==============================] - 4s 24ms/step - loss: 0.3327 - categorical_accuracy: 0.9678 - val_loss: 0.4472 - val_categorical_accuracy: 0.9353\n",
      "Epoch 24/30\n",
      "189/189 [==============================] - 4s 24ms/step - loss: 0.3319 - categorical_accuracy: 0.9682 - val_loss: 0.4473 - val_categorical_accuracy: 0.9361\n",
      "Epoch 25/30\n",
      "189/189 [==============================] - 4s 24ms/step - loss: 0.3321 - categorical_accuracy: 0.9682 - val_loss: 0.4474 - val_categorical_accuracy: 0.9361\n",
      "Epoch 26/30\n",
      "189/189 [==============================] - 4s 24ms/step - loss: 0.3344 - categorical_accuracy: 0.9676 - val_loss: 0.4476 - val_categorical_accuracy: 0.9361\n",
      "Epoch 27/30\n",
      "189/189 [==============================] - 4s 23ms/step - loss: 0.3329 - categorical_accuracy: 0.9670 - val_loss: 0.4470 - val_categorical_accuracy: 0.9369\n",
      "Epoch 28/30\n",
      "189/189 [==============================] - 4s 23ms/step - loss: 0.3327 - categorical_accuracy: 0.9683 - val_loss: 0.4470 - val_categorical_accuracy: 0.9361ategorical_accuracy\n",
      "Epoch 29/30\n",
      "189/189 [==============================] - 4s 23ms/step - loss: 0.3326 - categorical_accuracy: 0.9683 - val_loss: 0.4474 - val_categorical_accuracy: 0.9361\n",
      "Epoch 30/30\n",
      "189/189 [==============================] - 4s 23ms/step - loss: 0.3315 - categorical_accuracy: 0.9690 - val_loss: 0.4474 - val_categorical_accuracy: 0.9369\n"
     ]
    },
    {
     "data": {
      "image/png": "[encoded data removed]",
      "text/plain": [
       "<Figure size 360x360 with 1 Axes>"
      ]
     },
     "metadata": {
      "needs_background": "light"
     },
     "output_type": "display_data"
    },
    {
     "data": {
      "image/png": "[encoded data removed]",
      "text/plain": [
       "<Figure size 360x360 with 1 Axes>"
      ]
     },
     "metadata": {
      "needs_background": "light"
     },
     "output_type": "display_data"
    },
    {
     "name": "stdout",
     "output_type": "stream",
     "text": [
      "0.936874508857727\n"
     ]
    }
   ],
   "source": [
    "##############################################\n",
    "############     TRAIN MODEL     #############\n",
    "##############################################\n",
    "\n",
    "batch_size = 128\n",
    "history = model.fit(train_X,\n",
    "                    train_y,\n",
    "                    validation_data=(val_X, val_y),\n",
    "                    batch_size=batch_size,\n",
    "                    epochs=30,\n",
    "                    shuffle=True,\n",
    "                    callbacks = [reduce_lr]\n",
    "                    )\n",
    "\n",
    "showHistory(history)      \n",
    "try:    \n",
    "    acc = max(history.history['val_accuracy'])\n",
    "except:\n",
    "    acc = max(history.history['val_categorical_accuracy'])\n",
    "\n",
    "print(acc)"
   ]
  },
  {
   "cell_type": "code",
   "execution_count": 79,
   "metadata": {},
   "outputs": [
    {
     "data": {
      "application/vnd.jupyter.widget-view+json": {
       "model_id": "bf50a6fc8f7048ee9159f139bcbf23b2",
       "version_major": 2,
       "version_minor": 0
      },
      "text/plain": [
       "  0%|          | 0/50 [00:00<?, ?it/s]"
      ]
     },
     "metadata": {},
     "output_type": "display_data"
    },
    {
     "name": "stdout",
     "output_type": "stream",
     "text": [
      "Global accuracy: 96.46%\n",
      "          Accuracy\n",
      "Subject           \n",
      "S002     92.000000\n",
      "S004     97.500000\n",
      "S005     94.250000\n",
      "S006     95.000000\n",
      "S007     92.250000\n",
      "S008     98.250000\n",
      "S009     96.250000\n",
      "S010     98.500000\n",
      "S011     99.000000\n",
      "S101     99.500000\n",
      "S102     98.500000\n",
      "S103     97.666667\n",
      "S104     95.000000\n",
      "S106     95.000000\n"
     ]
    }
   ],
   "source": [
    "evaluate_set(model, train_sessions, classes, post_fix, input_length=input_length, log = False)"
   ]
  },
  {
   "cell_type": "code",
   "execution_count": 80,
   "metadata": {},
   "outputs": [
    {
     "data": {
      "application/vnd.jupyter.widget-view+json": {
       "model_id": "0b80a46c8999410e8ae094d1209037cb",
       "version_major": 2,
       "version_minor": 0
      },
      "text/plain": [
       "  0%|          | 0/8 [00:00<?, ?it/s]"
      ]
     },
     "metadata": {},
     "output_type": "display_data"
    },
    {
     "name": "stdout",
     "output_type": "stream",
     "text": [
      "Global accuracy: 92.0%\n",
      "         Accuracy\n",
      "Subject          \n",
      "S001           97\n",
      "S105           87\n"
     ]
    }
   ],
   "source": [
    "evaluate_set(model, val_sessions, classes,  post_fix, input_length=input_length, log = False)"
   ]
  },
  {
   "cell_type": "code",
   "execution_count": 82,
   "metadata": {},
   "outputs": [
    {
     "name": "stdout",
     "output_type": "stream",
     "text": [
      "WARNING:tensorflow:From C:\\Users\\Nemes\\anaconda3\\envs\\tf\\lib\\site-packages\\tensorflow\\python\\training\\tracking\\tracking.py:111: Model.state_updates (from tensorflow.python.keras.engine.training) is deprecated and will be removed in a future version.\n",
      "Instructions for updating:\n",
      "This property should not be used in TensorFlow 2.0, as updates are applied automatically.\n",
      "WARNING:tensorflow:From C:\\Users\\Nemes\\anaconda3\\envs\\tf\\lib\\site-packages\\tensorflow\\python\\training\\tracking\\tracking.py:111: Layer.updates (from tensorflow.python.keras.engine.base_layer) is deprecated and will be removed in a future version.\n",
      "Instructions for updating:\n",
      "This property should not be used in TensorFlow 2.0, as updates are applied automatically.\n",
      "INFO:tensorflow:Assets written to: saved_models/04_03_val_acc_92_100k_param\\assets\n"
     ]
    }
   ],
   "source": [
    "model.save('saved_models/04_03_val_acc_92_100k_param')"
   ]
  },
  {
   "cell_type": "code",
   "execution_count": 83,
   "metadata": {},
   "outputs": [
    {
     "name": "stdout",
     "output_type": "stream",
     "text": [
      "\\begin{table}[] \n",
      "\\begin{tabular}{lll} \n",
      "Model: test \\\\ \\hline \n",
      "Layer (type)                   & Output Shape                & Param \\#    \\\\ \\hline \\hline \n",
      "input (InputLayer)             & [(None, 4, 500, 1)]         & 0          \\\\ \\hline \n",
      "average\\_pooling2d\\_39 (AverageP & (None, 4, 100, 1)           & 0          \\\\ \\hline \n",
      "conv2d\\_26 (Conv2D)             & (None, 4, 100, 256)         & 1536       \\\\ \\hline \n",
      "batch\\_normalization\\_38 (BatchN & (None, 4, 100, 256)         & 1024       \\\\ \\hline \n",
      "average\\_pooling2d\\_40 (AverageP & (None, 4, 20, 256)          & 0          \\\\ \\hline \n",
      "conv2d\\_27 (Conv2D)             & (None, 4, 20, 64)           & 65600      \\\\ \\hline \n",
      "batch\\_normalization\\_39 (BatchN & (None, 4, 20, 64)           & 256        \\\\ \\hline \n",
      "average\\_pooling2d\\_41 (AverageP & (None, 1, 20, 64)           & 0          \\\\ \\hline \n",
      "dense\\_38 (Dense)               & (None, 1, 20, 100)          & 6500       \\\\ \\hline \n",
      "flatten\\_13 (Flatten)           & (None, 2000)                & 0          \\\\ \\hline \n",
      "dense\\_39 (Dense)               & (None, 20)                  & 40020      \\\\ \\hline \n",
      "batch\\_normalization\\_40 (BatchN & (None, 20)                  & 80         \\\\ \\hline \n",
      "dropout\\_12 (Dropout)           & (None, 20)                  & 0          \\\\ \\hline \n",
      "dense\\_40 (Dense)               & (None, 4)                   & 84         \\\\ \\hline \\hline \n",
      "Total params: 115,100 \\\\ \n",
      "Trainable params: 114,420 \\\\ \n",
      "Non-trainable params: 680 \\\\ \\hline \n",
      "\\end{tabular} \n",
      "\\caption{Model summary for test.} \n",
      "\\label{tab:model-summary} \n",
      "\\end{table}\n"
     ]
    }
   ],
   "source": [
    "\n",
    "\n",
    "m2tex(model)"
   ]
  },
  {
   "cell_type": "code",
   "execution_count": null,
   "metadata": {},
   "outputs": [],
   "source": []
  }
 ],
 "metadata": {
  "interpreter": {
   "hash": "a81b55685ebb6380129efe90592a7e4f2f571da2ab32c8bbcf8b970d830ead19"
  },
  "kernelspec": {
   "display_name": "Python 3.7.6 64-bit",
   "name": "python3"
  },
  "language_info": {
   "codemirror_mode": {
    "name": "ipython",
    "version": 3
   },
   "file_extension": ".py",
   "mimetype": "text/x-python",
   "name": "python",
   "nbconvert_exporter": "python",
   "pygments_lexer": "ipython3",
   "version": "3.7.0"
  }
 },
 "nbformat": 4,
 "nbformat_minor": 4
}
