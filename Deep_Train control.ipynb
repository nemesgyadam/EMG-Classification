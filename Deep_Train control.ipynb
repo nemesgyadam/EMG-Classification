{
 "cells": [
  {
   "cell_type": "code",
   "execution_count": 1,
   "metadata": {},
   "outputs": [
    {
     "name": "stderr",
     "output_type": "stream",
     "text": [
      "C:\\Users\\Nemes\\anaconda3\\envs\\tf\\lib\\site-packages\\numpy\\_distributor_init.py:32: UserWarning: loaded more than 1 DLL from .libs:\n",
      "C:\\Users\\Nemes\\anaconda3\\envs\\tf\\lib\\site-packages\\numpy\\.libs\\libopenblas.PYQHXLVVQ7VESDPUVUADXEVJOBGHJPAY.gfortran-win_amd64.dll\n",
      "C:\\Users\\Nemes\\anaconda3\\envs\\tf\\lib\\site-packages\\numpy\\.libs\\libopenblas.WCDJNK7YVMPZQ2ME2ZZHJJRJ3JIKNDB7.gfortran-win_amd64.dll\n",
      "C:\\Users\\Nemes\\anaconda3\\envs\\tf\\lib\\site-packages\\numpy\\.libs\\libopenblas.XWYDX2IKJW2NMTWSFYNGFUWKQU3LYTCZ.gfortran-win_amd64.dll\n",
      "  stacklevel=1)\n"
     ]
    }
   ],
   "source": [
    "import numpy as np\n",
    "import random\n",
    "import os\n",
    "import keras_tuner as kt\n",
    "from matplotlib import pyplot as plt\n",
    "from sklearn.model_selection import train_test_split\n",
    "import tensorflow as tf\n",
    "from tensorflow import keras\n",
    "from tensorflow.keras.utils import to_categorical\n",
    "from tensorflow.keras.models import Sequential\n",
    "from tensorflow.keras import layers as layers\n",
    "from tensorflow.keras.layers import GlobalMaxPooling2D, Activation, Dense, Conv1D, Conv2D, Dropout, Flatten, MaxPooling2D, BatchNormalization, GlobalMaxPooling1D\n",
    "from tensorflow.keras import optimizers\n",
    "import pandas as pd\n",
    "from tqdm.notebook import tqdm\n",
    "%matplotlib inline\n",
    "import matplotlib.pyplot as plt\n",
    "from tensorflow.keras import regularizers\n",
    "from tensorflow.keras.callbacks import EarlyStopping, ReduceLROnPlateau\n",
    "from scipy import signal\n",
    "\n",
    "from utils.augment import augment\n",
    "from sklearn.model_selection import StratifiedKFold, KFold\n",
    "from sklearn.metrics import classification_report,confusion_matrix\n",
    "from sklearn.metrics import accuracy_score\n",
    "from tensorflow.keras.utils import to_categorical\n",
    "from sklearn.preprocessing import StandardScaler\n",
    "\n",
    "from utils.deep import preProcess, smoothLabels, oneHot, applyOneHot, evaluate_set\n",
    "from utils.visualize import showMe, showHistory\n",
    "\n",
    "\n",
    "%load_ext autoreload\n",
    "%autoreload 2\n"
   ]
  },
  {
   "cell_type": "code",
   "execution_count": 15,
   "metadata": {},
   "outputs": [
    {
     "name": "stdout",
     "output_type": "stream",
     "text": [
      "3 sessions loaded for training\n",
      "1 sessions loaded for validation\n",
      "['Chew', 'Eyebrow', 'Rest', 'Smile']\n"
     ]
    }
   ],
   "source": [
    "\n",
    "root_path = 'C:/resources/EMG/'\n",
    "batch_size = 20\n",
    "\n",
    "post_fix = '_1s_new'\n",
    "\n",
    "include = ['S101']\n",
    "# use session2 for validation\n",
    "train_sessions = []\n",
    "val_sessions = []\n",
    "for subject in os.listdir(root_path):\n",
    "    #if subject not in exclude:\n",
    "    if subject in include:\n",
    "        for session in os.listdir(os.path.join(root_path,subject)):\n",
    "            classes = os.listdir(os.path.join(root_path, subject, session))\n",
    "            if session == 'session_4':\n",
    "                val_sessions.append(os.path.join(root_path,subject, session))\n",
    "            else:\n",
    "                train_sessions.append(os.path.join(root_path,subject, session))\n",
    "        #print(f\"{len(os.listdir(os.path.join(root_path,subject)))} session loaded from subject: {subject}\")\n",
    "print(f\"{len(train_sessions)} sessions loaded for training\")\n",
    "print(f\"{len(val_sessions)} sessions loaded for validation\")\n",
    "\n",
    "classes = [i.split('_')[0] for i in classes]\n",
    "classes = list(dict.fromkeys(classes)).sort()          # Remove duplicates\n",
    "print(classes)\n",
    "\n",
    "records = {}\n",
    "for c in classes:\n",
    "    class_data = []\n",
    "    for session in train_sessions:\n",
    "        class_data.append(np.load(os.path.join(session,c+post_fix+'.npy'),allow_pickle=True))\n",
    "    records[c] = np.concatenate(class_data)\n",
    "\n",
    "val_records = {}\n",
    "for c in classes:\n",
    "    class_data = []\n",
    "    for session in val_sessions:\n",
    "        class_data.append(np.load(os.path.join(session,c+post_fix+'.npy'),allow_pickle=True))\n",
    "    val_records[c] = np.concatenate(class_data)\n"
   ]
  },
  {
   "cell_type": "code",
   "execution_count": 24,
   "metadata": {},
   "outputs": [
    {
     "name": "stdout",
     "output_type": "stream",
     "text": [
      "(900, 4, 500)\n",
      "(900, 4)\n",
      "(300, 4, 500)\n",
      "(300, 4)\n"
     ]
    }
   ],
   "source": [
    "n_channels = records['Rest'].shape[1]\n",
    "input_length = records['Rest'].shape[2]\n",
    "\n",
    "\n",
    "X = np.concatenate((list(records.values())),axis = 0)\n",
    "val_X= np.concatenate((list(val_records.values())),axis = 0)\n",
    "\n",
    "s = records['Rest'].shape[0]\n",
    "y = np.arange(len(classes)).repeat(X.shape[0] / len(classes))\n",
    "\n",
    "\n",
    "\n",
    "val_s = val_records['Rest'].shape[0]\n",
    "val_y = np.arange(len(classes)).repeat(val_X.shape[0] / len(classes))\n",
    "\n",
    "\n",
    "\n",
    "c = list(zip(X, y))\n",
    "random.seed(42)\n",
    "random.shuffle(c)\n",
    "X,y = zip(*c)\n",
    "\n",
    "\n",
    "X = np.array(X).reshape(-1,n_channels,input_length)\n",
    "y = np.array(y)\n",
    "\n",
    "val_X = np.array(val_X).reshape(-1,n_channels,input_length)\n",
    "val_y = np.array(val_y)\n",
    "\n",
    "\n",
    "y = applyOneHot(y,len(classes))\n",
    "val_y = applyOneHot(val_y,len(classes))\n",
    "\n",
    "\n",
    "print(X.shape)\n",
    "print(y.shape)\n",
    "\n",
    "print(val_X.shape)\n",
    "print(val_y.shape)\n"
   ]
  },
  {
   "cell_type": "code",
   "execution_count": 49,
   "metadata": {},
   "outputs": [
    {
     "name": "stdout",
     "output_type": "stream",
     "text": [
      "After augmentation\n",
      "(1800, 4, 500)\n",
      "(1800, 4)\n"
     ]
    }
   ],
   "source": [
    "X, y = augment(X, y)\n",
    "print(\"After augmentation\")\n",
    "print(X.shape)\n",
    "print(y.shape)"
   ]
  },
  {
   "cell_type": "code",
   "execution_count": 56,
   "metadata": {},
   "outputs": [],
   "source": [
    "def get_dense_model():\n",
    "    inspected_chanels= X.shape[1]\n",
    "    input_length=     X.shape[2]\n",
    "    input_layer = keras.Input(shape = (inspected_chanels,input_length,1), name='input')\n",
    "    \n",
    "    l2 = 0.0001\n",
    "   \n",
    "\n",
    "    x     = layers.Dense(1000,kernel_regularizer=regularizers.l2(l2))(input_layer)\n",
    "    x     = layers.BatchNormalization()(x)\n",
    "    \n",
    "\n",
    "    x     = layers.Dense(200,kernel_regularizer=regularizers.l2(l2))(x)\n",
    "    x     = layers.BatchNormalization()(x)\n",
    "\n",
    "\n",
    "    # x     = layers.Dense(100,kernel_regularizer=regularizers.l2(l2))(x)\n",
    "    # x     = layers.BatchNormalization()(x)\n",
    "\n",
    "\n",
    "\n",
    "    x     = layers.Dense(500,kernel_regularizer=regularizers.l2(l2))(x)\n",
    "    x     = layers.BatchNormalization()(x)\n",
    "    x     = layers.Dropout(.1)(x)\n",
    "\n",
    "\n",
    "    # x     = layers.Dense(30,kernel_regularizer=regularizers.l2(l2))(x)\n",
    "    # x     = layers.BatchNormalization()(x)\n",
    "\n",
    "\n",
    "   \n",
    "    \n",
    "    x     = layers.Dense(100,kernel_regularizer=regularizers.l2(l2))(x)\n",
    "    x     = layers.BatchNormalization()(x)\n",
    "    x     = layers.Dropout(.2)(x)\n",
    "\n",
    "    x     = layers.Flatten()(x)\n",
    "    output = layers.Dense(len(classes), activation='softmax')(x)\n",
    "    model = keras.Model(inputs=input_layer, outputs=output)\n",
    "\n",
    "    model.summary()\n",
    "    return model"
   ]
  },
  {
   "cell_type": "code",
   "execution_count": 51,
   "metadata": {},
   "outputs": [],
   "source": [
    "def get_model():\n",
    "    inspected_chanels= X.shape[1]\n",
    "    input_length=     X.shape[2]\n",
    "    input_layer = keras.Input(shape = (inspected_chanels,input_length,1), name='input')\n",
    "    #x = layers.Flatten()(input_layer)\n",
    "\n",
    "    l2 = 0.0001\n",
    "   \n",
    "    x     = layers.Conv2D(128, kernel_size=(1,20), padding='same', activation='relu', kernel_regularizer=regularizers.l2(l2))(input_layer)\n",
    "    #x     = layers.BatchNormalization()(x)\n",
    "    x     = layers.AveragePooling2D(pool_size=(1,10))(x)\n",
    "\n",
    "\n",
    "    x     = layers.Dense(1000,kernel_regularizer=regularizers.l2(l2))(x)\n",
    "\n",
    "    x    = layers.AveragePooling2D(pool_size=(1,100))(x)\n",
    "    #x     = layers.BatchNormalization()(x)\n",
    "    #x     = layers.Flatten()(x)\n",
    "\n",
    "   \n",
    "\n",
    "    # x     = layers.Dense(500,kernel_regularizer=regularizers.l2(l2))(x)\n",
    "    # x     = layers.BatchNormalization()(x)\n",
    "\n",
    "    # x     = layers.Dense(200,kernel_regularizer=regularizers.l2(l2))(x)\n",
    "    # x     = layers.BatchNormalization()(x)\n",
    "\n",
    "    \n",
    "\n",
    "    # x     = layers.Dense(100,kernel_regularizer=regularizers.l2(l2))(x)\n",
    "    # x     = layers.BatchNormalization()(x)\n",
    "    # x     = layers.Dropout(.2)(x)\n",
    "\n",
    "    \n",
    "    \n",
    "    \n",
    "\n",
    "    #x     = layers.Flatten()(x)\n",
    "\n",
    "    x     = layers.Dense(100,kernel_regularizer=regularizers.l2(l2))(x)\n",
    "    #x     = layers.BatchNormalization()(x)\n",
    "    x     = layers.Dropout(.2)(x)\n",
    "\n",
    "    x     = layers.Flatten()(x)\n",
    "    output = layers.Dense(len(classes), activation='softmax')(x)\n",
    "    model = keras.Model(inputs=input_layer, outputs=output)\n",
    "\n",
    "    model.summary()\n",
    "    return model"
   ]
  },
  {
   "cell_type": "code",
   "execution_count": 57,
   "metadata": {},
   "outputs": [
    {
     "name": "stdout",
     "output_type": "stream",
     "text": [
      "Model: \"functional_21\"\n",
      "_________________________________________________________________\n",
      "Layer (type)                 Output Shape              Param #   \n",
      "=================================================================\n",
      "input (InputLayer)           [(None, 4, 500, 1)]       0         \n",
      "_________________________________________________________________\n",
      "dense_36 (Dense)             (None, 4, 500, 1000)      2000      \n",
      "_________________________________________________________________\n",
      "batch_normalization_26 (Batc (None, 4, 500, 1000)      4000      \n",
      "_________________________________________________________________\n",
      "dense_37 (Dense)             (None, 4, 500, 200)       200200    \n",
      "_________________________________________________________________\n",
      "batch_normalization_27 (Batc (None, 4, 500, 200)       800       \n",
      "_________________________________________________________________\n",
      "dense_38 (Dense)             (None, 4, 500, 500)       100500    \n",
      "_________________________________________________________________\n",
      "batch_normalization_28 (Batc (None, 4, 500, 500)       2000      \n",
      "_________________________________________________________________\n",
      "dropout_16 (Dropout)         (None, 4, 500, 500)       0         \n",
      "_________________________________________________________________\n",
      "dense_39 (Dense)             (None, 4, 500, 100)       50100     \n",
      "_________________________________________________________________\n",
      "batch_normalization_29 (Batc (None, 4, 500, 100)       400       \n",
      "_________________________________________________________________\n",
      "dropout_17 (Dropout)         (None, 4, 500, 100)       0         \n",
      "_________________________________________________________________\n",
      "flatten_10 (Flatten)         (None, 200000)            0         \n",
      "_________________________________________________________________\n",
      "dense_40 (Dense)             (None, 4)                 800004    \n",
      "=================================================================\n",
      "Total params: 1,160,004\n",
      "Trainable params: 1,156,404\n",
      "Non-trainable params: 3,600\n",
      "_________________________________________________________________\n"
     ]
    }
   ],
   "source": [
    "model = get_dense_model()\n",
    "#model = get_model()\n",
    "\n",
    "\n",
    "reduce_lr = ReduceLROnPlateau(monitor='val_loss', factor=0.2,\n",
    "                               patience=3, min_lr=1e-7, min_delta = 0.0001)\n",
    "                              \n",
    "\n",
    "# early_stopping =  tf.keras.callbacks.EarlyStopping(monitor='val_loss', patience=3, min_delta=0.000001)\n",
    "\n",
    "opt = keras.optimizers.SGD(learning_rate=1e-5) #, momentum=0.9)\n",
    "model.compile(optimizer=opt,\n",
    "          loss='categorical_crossentropy',\n",
    "          metrics=['categorical_accuracy']\n",
    "         )\n"
   ]
  },
  {
   "cell_type": "code",
   "execution_count": 58,
   "metadata": {},
   "outputs": [
    {
     "name": "stdout",
     "output_type": "stream",
     "text": [
      "Epoch 1/50\n",
      " 2/90 [..............................] - ETA: 4s - loss: 2.2023 - categorical_accuracy: 0.3250WARNING:tensorflow:Callbacks method `on_train_batch_end` is slow compared to the batch time (batch time: 0.0030s vs `on_train_batch_end` time: 0.0910s). Check your callbacks.\n",
      "90/90 [==============================] - ETA: 0s - loss: 1.3286 - categorical_accuracy: 0.5139WARNING:tensorflow:Callbacks method `on_test_batch_end` is slow compared to the batch time (batch time: 0.0020s vs `on_test_batch_end` time: 0.0280s). Check your callbacks.\n",
      "90/90 [==============================] - 8s 94ms/step - loss: 1.3286 - categorical_accuracy: 0.5139 - val_loss: 1.4536 - val_categorical_accuracy: 0.3467\n",
      "Epoch 2/50\n",
      "90/90 [==============================] - 8s 92ms/step - loss: 1.1388 - categorical_accuracy: 0.5844 - val_loss: 1.4337 - val_categorical_accuracy: 0.3867\n",
      "Epoch 3/50\n",
      "90/90 [==============================] - 8s 91ms/step - loss: 1.1174 - categorical_accuracy: 0.5983 - val_loss: 1.3942 - val_categorical_accuracy: 0.3967\n",
      "Epoch 4/50\n",
      "90/90 [==============================] - 8s 91ms/step - loss: 1.1057 - categorical_accuracy: 0.6128 - val_loss: 1.3288 - val_categorical_accuracy: 0.4000\n",
      "Epoch 5/50\n",
      "90/90 [==============================] - 8s 91ms/step - loss: 1.0604 - categorical_accuracy: 0.6228 - val_loss: 1.2589 - val_categorical_accuracy: 0.4167\n",
      "Epoch 6/50\n",
      "90/90 [==============================] - 8s 91ms/step - loss: 1.0428 - categorical_accuracy: 0.6456 - val_loss: 1.2200 - val_categorical_accuracy: 0.4133\n",
      "Epoch 7/50\n",
      "90/90 [==============================] - 8s 91ms/step - loss: 1.0180 - categorical_accuracy: 0.6572 - val_loss: 1.1304 - val_categorical_accuracy: 0.5067\n",
      "Epoch 8/50\n",
      "90/90 [==============================] - 8s 91ms/step - loss: 1.0429 - categorical_accuracy: 0.6594 - val_loss: 1.0389 - val_categorical_accuracy: 0.5867\n",
      "Epoch 9/50\n",
      "90/90 [==============================] - 8s 91ms/step - loss: 0.9924 - categorical_accuracy: 0.6828 - val_loss: 0.9290 - val_categorical_accuracy: 0.6400\n",
      "Epoch 10/50\n",
      "90/90 [==============================] - 8s 91ms/step - loss: 0.9934 - categorical_accuracy: 0.6717 - val_loss: 0.9024 - val_categorical_accuracy: 0.6433\n",
      "Epoch 11/50\n",
      "90/90 [==============================] - 8s 92ms/step - loss: 0.9960 - categorical_accuracy: 0.6700 - val_loss: 0.9154 - val_categorical_accuracy: 0.6667\n",
      "Epoch 12/50\n",
      "90/90 [==============================] - 8s 91ms/step - loss: 0.9865 - categorical_accuracy: 0.6889 - val_loss: 0.8744 - val_categorical_accuracy: 0.6867\n",
      "Epoch 13/50\n",
      "90/90 [==============================] - 8s 91ms/step - loss: 0.9606 - categorical_accuracy: 0.6878 - val_loss: 0.9575 - val_categorical_accuracy: 0.6467\n",
      "Epoch 14/50\n",
      "90/90 [==============================] - 8s 92ms/step - loss: 0.9490 - categorical_accuracy: 0.6994 - val_loss: 0.8902 - val_categorical_accuracy: 0.6667\n",
      "Epoch 15/50\n",
      "90/90 [==============================] - 8s 91ms/step - loss: 0.9446 - categorical_accuracy: 0.7139 - val_loss: 0.8505 - val_categorical_accuracy: 0.7367\n",
      "Epoch 16/50\n",
      "90/90 [==============================] - 8s 91ms/step - loss: 0.9649 - categorical_accuracy: 0.6961 - val_loss: 0.8441 - val_categorical_accuracy: 0.7133\n",
      "Epoch 17/50\n",
      "90/90 [==============================] - 8s 91ms/step - loss: 0.9194 - categorical_accuracy: 0.7172 - val_loss: 0.8432 - val_categorical_accuracy: 0.7200\n",
      "Epoch 18/50\n",
      "90/90 [==============================] - 8s 91ms/step - loss: 0.9217 - categorical_accuracy: 0.7117 - val_loss: 0.8702 - val_categorical_accuracy: 0.7033\n",
      "Epoch 19/50\n",
      "90/90 [==============================] - 8s 91ms/step - loss: 0.9162 - categorical_accuracy: 0.7189 - val_loss: 0.8634 - val_categorical_accuracy: 0.7000\n",
      "Epoch 20/50\n",
      "90/90 [==============================] - 8s 92ms/step - loss: 0.9083 - categorical_accuracy: 0.7244 - val_loss: 0.8578 - val_categorical_accuracy: 0.6967\n",
      "Epoch 21/50\n",
      "90/90 [==============================] - 8s 91ms/step - loss: 0.8996 - categorical_accuracy: 0.7378 - val_loss: 0.8520 - val_categorical_accuracy: 0.7100\n",
      "Epoch 22/50\n",
      "90/90 [==============================] - 8s 91ms/step - loss: 0.9004 - categorical_accuracy: 0.7300 - val_loss: 0.8515 - val_categorical_accuracy: 0.7067\n",
      "Epoch 23/50\n",
      "90/90 [==============================] - 8s 92ms/step - loss: 0.8999 - categorical_accuracy: 0.7278 - val_loss: 0.8509 - val_categorical_accuracy: 0.7133\n",
      "Epoch 24/50\n",
      "90/90 [==============================] - 8s 91ms/step - loss: 0.9068 - categorical_accuracy: 0.7378 - val_loss: 0.8505 - val_categorical_accuracy: 0.7167\n",
      "Epoch 25/50\n",
      "90/90 [==============================] - 8s 91ms/step - loss: 0.8993 - categorical_accuracy: 0.7300 - val_loss: 0.8518 - val_categorical_accuracy: 0.7067- loss: 0.8\n",
      "Epoch 26/50\n",
      "90/90 [==============================] - 8s 91ms/step - loss: 0.8948 - categorical_accuracy: 0.7283 - val_loss: 0.8538 - val_categorical_accuracy: 0.7100\n",
      "Epoch 27/50\n",
      "90/90 [==============================] - 8s 91ms/step - loss: 0.8951 - categorical_accuracy: 0.7322 - val_loss: 0.8533 - val_categorical_accuracy: 0.7100\n",
      "Epoch 28/50\n",
      "90/90 [==============================] - 8s 91ms/step - loss: 0.8978 - categorical_accuracy: 0.7372 - val_loss: 0.8534 - val_categorical_accuracy: 0.7067\n",
      "Epoch 29/50\n",
      "90/90 [==============================] - 8s 92ms/step - loss: 0.8947 - categorical_accuracy: 0.7272 - val_loss: 0.8539 - val_categorical_accuracy: 0.7067\n",
      "Epoch 30/50\n",
      "90/90 [==============================] - 8s 92ms/step - loss: 0.9037 - categorical_accuracy: 0.7289 - val_loss: 0.8532 - val_categorical_accuracy: 0.7067\n",
      "Epoch 31/50\n",
      "90/90 [==============================] - 8s 91ms/step - loss: 0.8941 - categorical_accuracy: 0.7411 - val_loss: 0.8529 - val_categorical_accuracy: 0.7100\n",
      "Epoch 32/50\n",
      "90/90 [==============================] - 8s 91ms/step - loss: 0.9007 - categorical_accuracy: 0.7278 - val_loss: 0.8523 - val_categorical_accuracy: 0.7100\n",
      "Epoch 33/50\n",
      "90/90 [==============================] - 8s 91ms/step - loss: 0.9008 - categorical_accuracy: 0.7183 - val_loss: 0.8526 - val_categorical_accuracy: 0.7100\n",
      "Epoch 34/50\n",
      "90/90 [==============================] - 8s 93ms/step - loss: 0.9024 - categorical_accuracy: 0.7206 - val_loss: 0.8527 - val_categorical_accuracy: 0.7100\n",
      "Epoch 35/50\n",
      "90/90 [==============================] - 8s 91ms/step - loss: 0.9139 - categorical_accuracy: 0.7256 - val_loss: 0.8520 - val_categorical_accuracy: 0.7100\n",
      "Epoch 36/50\n",
      "90/90 [==============================] - 8s 91ms/step - loss: 0.8849 - categorical_accuracy: 0.7189 - val_loss: 0.8517 - val_categorical_accuracy: 0.7100\n",
      "Epoch 37/50\n",
      "90/90 [==============================] - 8s 91ms/step - loss: 0.8730 - categorical_accuracy: 0.7294 - val_loss: 0.8518 - val_categorical_accuracy: 0.7100\n",
      "Epoch 38/50\n",
      "90/90 [==============================] - 8s 92ms/step - loss: 0.9089 - categorical_accuracy: 0.7272 - val_loss: 0.8521 - val_categorical_accuracy: 0.7067\n",
      "Epoch 39/50\n",
      "90/90 [==============================] - 8s 91ms/step - loss: 0.8869 - categorical_accuracy: 0.7394 - val_loss: 0.8519 - val_categorical_accuracy: 0.7100\n",
      "Epoch 40/50\n",
      "90/90 [==============================] - 8s 91ms/step - loss: 0.9087 - categorical_accuracy: 0.7233 - val_loss: 0.8520 - val_categorical_accuracy: 0.7100\n",
      "Epoch 41/50\n",
      "90/90 [==============================] - 8s 92ms/step - loss: 0.8780 - categorical_accuracy: 0.7350 - val_loss: 0.8521 - val_categorical_accuracy: 0.7100\n",
      "Epoch 42/50\n",
      "90/90 [==============================] - 8s 91ms/step - loss: 0.8876 - categorical_accuracy: 0.7267 - val_loss: 0.8525 - val_categorical_accuracy: 0.7100\n",
      "Epoch 43/50\n",
      "90/90 [==============================] - 8s 91ms/step - loss: 0.8955 - categorical_accuracy: 0.7256 - val_loss: 0.8524 - val_categorical_accuracy: 0.7100\n",
      "Epoch 44/50\n",
      "90/90 [==============================] - 8s 91ms/step - loss: 0.8765 - categorical_accuracy: 0.7339 - val_loss: 0.8523 - val_categorical_accuracy: 0.7100\n",
      "Epoch 45/50\n",
      "90/90 [==============================] - 8s 91ms/step - loss: 0.8794 - categorical_accuracy: 0.7333 - val_loss: 0.8524 - val_categorical_accuracy: 0.7100\n",
      "Epoch 46/50\n",
      "90/90 [==============================] - 8s 91ms/step - loss: 0.8820 - categorical_accuracy: 0.7383 - val_loss: 0.8522 - val_categorical_accuracy: 0.7100\n",
      "Epoch 47/50\n",
      "90/90 [==============================] - 8s 91ms/step - loss: 0.8909 - categorical_accuracy: 0.7472 - val_loss: 0.8520 - val_categorical_accuracy: 0.7100\n",
      "Epoch 48/50\n",
      "90/90 [==============================] - 8s 91ms/step - loss: 0.8789 - categorical_accuracy: 0.7411 - val_loss: 0.8516 - val_categorical_accuracy: 0.7100\n",
      "Epoch 49/50\n",
      "90/90 [==============================] - 8s 92ms/step - loss: 0.8825 - categorical_accuracy: 0.7322 - val_loss: 0.8516 - val_categorical_accuracy: 0.7100\n",
      "Epoch 50/50\n",
      "90/90 [==============================] - 8s 91ms/step - loss: 0.8812 - categorical_accuracy: 0.7322 - val_loss: 0.8516 - val_categorical_accuracy: 0.7133\n"
     ]
    },
    {
     "data": {
      "image/png": "[encoded data removed]",
      "text/plain": [
       "<Figure size 360x360 with 1 Axes>"
      ]
     },
     "metadata": {
      "needs_background": "light"
     },
     "output_type": "display_data"
    },
    {
     "data": {
      "image/png": "[encoded data removed]",
      "text/plain": [
       "<Figure size 360x360 with 1 Axes>"
      ]
     },
     "metadata": {
      "needs_background": "light"
     },
     "output_type": "display_data"
    },
    {
     "name": "stdout",
     "output_type": "stream",
     "text": [
      "0.7366666793823242\n"
     ]
    }
   ],
   "source": [
    "##############################################\n",
    "############     TRAIN MODEL     #############\n",
    "##############################################\n",
    "\n",
    "\n",
    "history = model.fit(X,\n",
    "                    y,\n",
    "                    validation_data=(val_X, val_y),\n",
    "                    batch_size=batch_size,\n",
    "                    epochs=50,\n",
    "                    shuffle=True,\n",
    "                    callbacks = [reduce_lr]\n",
    "                    )\n",
    "\n",
    "showHistory(history)      \n",
    "try:    \n",
    "    acc = max(history.history['val_accuracy'])\n",
    "except:\n",
    "    acc = max(history.history['val_categorical_accuracy'])\n",
    "\n",
    "print(acc)"
   ]
  },
  {
   "cell_type": "code",
   "execution_count": 45,
   "metadata": {},
   "outputs": [
    {
     "name": "stdout",
     "output_type": "stream",
     "text": [
      "Batch size: 20\n"
     ]
    },
    {
     "ename": "NameError",
     "evalue": "name 'get_hyper_model' is not defined",
     "output_type": "error",
     "traceback": [
      "\u001b[1;31m---------------------------------------------------------------------------\u001b[0m",
      "\u001b[1;31mNameError\u001b[0m                                 Traceback (most recent call last)",
      "\u001b[1;32m<ipython-input-45-a267d70a7d3b>\u001b[0m in \u001b[0;36m<module>\u001b[1;34m\u001b[0m\n\u001b[0;32m     14\u001b[0m \u001b[1;33m\u001b[0m\u001b[0m\n\u001b[0;32m     15\u001b[0m     tuner = kt.tuners.RandomSearch(\n\u001b[1;32m---> 16\u001b[1;33m         \u001b[0mget_hyper_model\u001b[0m\u001b[1;33m,\u001b[0m\u001b[1;33m\u001b[0m\u001b[0m\n\u001b[0m\u001b[0;32m     17\u001b[0m         \u001b[0mobjective\u001b[0m\u001b[1;33m=\u001b[0m\u001b[1;34m'val_accuracy'\u001b[0m\u001b[1;33m,\u001b[0m\u001b[1;33m\u001b[0m\u001b[0m\n\u001b[0;32m     18\u001b[0m         max_trials=100)\n",
      "\u001b[1;31mNameError\u001b[0m: name 'get_hyper_model' is not defined"
     ]
    }
   ],
   "source": [
    "skf = StratifiedKFold(n_splits=10)\n",
    "#tf.config.run_functions_eagerly(True)\n",
    "\n",
    "for train, test in skf.split(X, y.argmax(1)):\n",
    "  \n",
    "    X_train = X[train]\n",
    "    X_test  = X[test]\n",
    "    y_train = y[train]\n",
    "    y_test  = y[test]\n",
    "\n",
    "    #batch_size = 30 #len(X_train)\n",
    "    print(\"Batch size: {}\".format(batch_size))\n",
    "\n",
    "\n",
    "    tuner = kt.tuners.RandomSearch(\n",
    "        get_hyper_model,\n",
    "        objective='val_accuracy',\n",
    "        max_trials=100)\n",
    "\n",
    "    tuner.search(X_train,\n",
    "                y_train,\n",
    "                validation_data=(X_test, y_test),\n",
    "                batch_size=batch_size,\n",
    "                epochs=20,\n",
    "                shuffle=True)\n",
    "\n",
    "    best_model = tuner.get_best_models()[0]\n",
    "                             \n",
    "    break\n",
    "   "
   ]
  },
  {
   "cell_type": "code",
   "execution_count": null,
   "metadata": {},
   "outputs": [],
   "source": [
    "tuner.results_summary()"
   ]
  },
  {
   "cell_type": "code",
   "execution_count": 59,
   "metadata": {},
   "outputs": [
    {
     "data": {
      "application/vnd.jupyter.widget-view+json": {
       "model_id": "11bee91c94ac49b181f17eba8bcec27e",
       "version_major": 2,
       "version_minor": 0
      },
      "text/plain": [
       "  0%|          | 0/3 [00:00<?, ?it/s]"
      ]
     },
     "metadata": {},
     "output_type": "display_data"
    },
    {
     "name": "stdout",
     "output_type": "stream",
     "text": [
      "####################\n",
      "Accuracy : 70.0%\n",
      "[[54  0  1 20]\n",
      " [ 0 75  0  0]\n",
      " [14 18 25 18]\n",
      " [11  5  2 57]]\n",
      "\n",
      "####################\n",
      "Accuracy : 77.0%\n",
      "[[66  3  0  6]\n",
      " [ 0 75  0  0]\n",
      " [20 31 15  9]\n",
      " [ 0  0  0 75]]\n",
      "\n",
      "####################\n",
      "Accuracy : 82.0%\n",
      "[[66  0  2  7]\n",
      " [ 0 75  0  0]\n",
      " [11 25 32  7]\n",
      " [ 1  0  0 74]]\n",
      "\n",
      "Global accuracy: 76.33%\n",
      "          Accuracy\n",
      "Subject           \n",
      "S101     76.333333\n"
     ]
    }
   ],
   "source": [
    "evaluate_set(model, train_sessions, classes, post_fix, input_length=input_length, log = True)"
   ]
  },
  {
   "cell_type": "code",
   "execution_count": 60,
   "metadata": {},
   "outputs": [
    {
     "data": {
      "application/vnd.jupyter.widget-view+json": {
       "model_id": "47620a8170be4116895f09c62ddf742a",
       "version_major": 2,
       "version_minor": 0
      },
      "text/plain": [
       "  0%|          | 0/1 [00:00<?, ?it/s]"
      ]
     },
     "metadata": {},
     "output_type": "display_data"
    },
    {
     "name": "stdout",
     "output_type": "stream",
     "text": [
      "####################\n",
      "Accuracy : 71.0%\n",
      "[[48  9  1 17]\n",
      " [ 0 75  0  0]\n",
      " [13 35 18  9]\n",
      " [ 2  0  0 73]]\n",
      "\n",
      "Global accuracy: 71.0%\n",
      "         Accuracy\n",
      "Subject          \n",
      "S101           71\n"
     ]
    }
   ],
   "source": [
    "evaluate_set(model, val_sessions, classes,  post_fix, input_length=input_length, log = True)"
   ]
  },
  {
   "cell_type": "code",
   "execution_count": null,
   "metadata": {},
   "outputs": [],
   "source": []
  }
 ],
 "metadata": {
  "interpreter": {
   "hash": "a81b55685ebb6380129efe90592a7e4f2f571da2ab32c8bbcf8b970d830ead19"
  },
  "kernelspec": {
   "display_name": "Python 3.7.6 64-bit",
   "name": "python3"
  },
  "language_info": {
   "codemirror_mode": {
    "name": "ipython",
    "version": 3
   },
   "file_extension": ".py",
   "mimetype": "text/x-python",
   "name": "python",
   "nbconvert_exporter": "python",
   "pygments_lexer": "ipython3",
   "version": "3.7.0"
  }
 },
 "nbformat": 4,
 "nbformat_minor": 4
}
