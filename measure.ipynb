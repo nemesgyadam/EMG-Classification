{
 "cells": [
  {
   "cell_type": "code",
   "execution_count": 13,
   "metadata": {},
   "outputs": [],
   "source": [
    "import os\n",
    "import time\n",
    "import numpy as np\n",
    "import tensorflow as tf\n",
    "from tensorflow import keras\n",
    "from joblib import load\n",
    "from time import perf_counter_ns\n",
    "\n",
    "exps = 100\n",
    "dumb_data_cnn = np.empty((1, 4,500))\n",
    "dumb_data_svm = np.empty((1, 4*500))\n"
   ]
  },
  {
   "cell_type": "code",
   "execution_count": 11,
   "metadata": {},
   "outputs": [],
   "source": [
    "svm_path = 'saved_models/svm_9subj_no_val.joblib'\n",
    "svm = load(svm_path)"
   ]
  },
  {
   "cell_type": "code",
   "execution_count": 15,
   "metadata": {},
   "outputs": [
    {
     "name": "stdout",
     "output_type": "stream",
     "text": [
      "Prediction took 3.84 ms per sample\n"
     ]
    }
   ],
   "source": [
    "#DRY RUN\n",
    "svm.predict(dumb_data_svm)\n",
    "\n",
    "start = perf_counter_ns()\n",
    "for i in range(exps):\n",
    "    svm.predict(dumb_data_svm)\n",
    "end = perf_counter_ns()\n",
    "total_sec = int((end - start) / 1e9)  # nanosec to sec\n",
    "total_ms = int((end - start) / 1e6)  # nanosec to ms\n",
    "\n",
    "ms_per_sample = total_ms/exps\n",
    "sec_per_sample = total_sec/exps\n",
    "\n",
    "print(f'Prediction took {ms_per_sample} ms per sample')"
   ]
  },
  {
   "cell_type": "code",
   "execution_count": 5,
   "metadata": {},
   "outputs": [],
   "source": [
    "model = keras.models.load_model('saved_models/04_02_val_acc_92')\n"
   ]
  },
  {
   "cell_type": "code",
   "execution_count": 9,
   "metadata": {},
   "outputs": [
    {
     "name": "stdout",
     "output_type": "stream",
     "text": [
      "Prediction took 31.24 ms per sample\n"
     ]
    }
   ],
   "source": [
    "#DRY RUN\n",
    "model.predict(dumb_data_cnn)\n",
    "\n",
    "start = perf_counter_ns()\n",
    "for i in range(exps):\n",
    "    model.predict(dumb_data_cnn)\n",
    "end = perf_counter_ns()\n",
    "total_sec = int((end - start) / 1e9)  # nanosec to sec\n",
    "total_ms = int((end - start) / 1e6)  # nanosec to ms\n",
    "\n",
    "ms_per_sample = total_ms/exps\n",
    "sec_per_sample = total_sec/exps\n",
    "\n",
    "print(f'Prediction took {ms_per_sample} ms per sample')"
   ]
  }
 ],
 "metadata": {
  "interpreter": {
   "hash": "128934f646949eb4cf464f35c20c7e7ac7bc290bed06c64aee2699698b1492ef"
  },
  "kernelspec": {
   "display_name": "Python 3.7.0 ('tf')",
   "language": "python",
   "name": "python3"
  },
  "language_info": {
   "codemirror_mode": {
    "name": "ipython",
    "version": 3
   },
   "file_extension": ".py",
   "mimetype": "text/x-python",
   "name": "python",
   "nbconvert_exporter": "python",
   "pygments_lexer": "ipython3",
   "version": "3.7.0"
  },
  "orig_nbformat": 4
 },
 "nbformat": 4,
 "nbformat_minor": 2
}
