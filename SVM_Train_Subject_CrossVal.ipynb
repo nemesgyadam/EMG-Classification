{
 "cells": [
  {
   "cell_type": "code",
   "execution_count": 1,
   "metadata": {},
   "outputs": [
    {
     "name": "stderr",
     "output_type": "stream",
     "text": [
      "C:\\Users\\Nemes\\anaconda3\\envs\\tf\\lib\\site-packages\\numpy\\_distributor_init.py:32: UserWarning: loaded more than 1 DLL from .libs:\n",
      "C:\\Users\\Nemes\\anaconda3\\envs\\tf\\lib\\site-packages\\numpy\\.libs\\libopenblas.PYQHXLVVQ7VESDPUVUADXEVJOBGHJPAY.gfortran-win_amd64.dll\n",
      "C:\\Users\\Nemes\\anaconda3\\envs\\tf\\lib\\site-packages\\numpy\\.libs\\libopenblas.WCDJNK7YVMPZQ2ME2ZZHJJRJ3JIKNDB7.gfortran-win_amd64.dll\n",
      "C:\\Users\\Nemes\\anaconda3\\envs\\tf\\lib\\site-packages\\numpy\\.libs\\libopenblas.XWYDX2IKJW2NMTWSFYNGFUWKQU3LYTCZ.gfortran-win_amd64.dll\n",
      "  stacklevel=1)\n"
     ]
    }
   ],
   "source": [
    "import numpy as np\n",
    "import pandas as pd\n",
    "import random\n",
    "import os\n",
    "from matplotlib import pyplot as plt\n",
    "from sklearn.model_selection import train_test_split\n",
    "from joblib import dump\n",
    "from tqdm.notebook import tqdm\n",
    "from sklearn.model_selection import train_test_split\n",
    "import itertools\n",
    "from sklearn.utils import shuffle\n",
    "from scipy import signal\n",
    "%matplotlib inline\n",
    "\n",
    "\n",
    "from sklearn.svm import SVC\n",
    "from sklearn.model_selection import GridSearchCV\n",
    "\n",
    "from sklearn.feature_selection import SelectFdr, chi2\n",
    "\n",
    "from sklearn.model_selection import StratifiedKFold, KFold\n",
    "from sklearn.metrics import classification_report,confusion_matrix\n",
    "from sklearn.metrics import accuracy_score\n",
    "\n",
    "from utils.svm import preProcess, evaluate_set\n",
    "from utils.visualize import showMe\n",
    "from utils.augment import apply_augment\n",
    "from config.default import *\n",
    "\n",
    "\n",
    "%load_ext autoreload\n",
    "%autoreload 2\n"
   ]
  },
  {
   "cell_type": "code",
   "execution_count": 2,
   "metadata": {},
   "outputs": [],
   "source": [
    "def create_labels(X):\n",
    "    y = []\n",
    "    for i, r in enumerate(X):\n",
    "        l = np.ones(X[r].shape[0])*i\n",
    "        y = y + l.tolist()\n",
    "    y = np.array(y)\n",
    "    return y\n"
   ]
  },
  {
   "cell_type": "code",
   "execution_count": 17,
   "metadata": {},
   "outputs": [
    {
     "name": "stdout",
     "output_type": "stream",
     "text": [
      "Cross validating, leaving out subject S001\n",
      "54 sessions loaded for training\n",
      "58 sessions loaded for validation\n"
     ]
    },
    {
     "data": {
      "application/vnd.jupyter.widget-view+json": {
       "model_id": "a30c175259df4e07bafcdcadc5357cc4",
       "version_major": 2,
       "version_minor": 0
      },
      "text/plain": [
       "  0%|          | 0/58 [00:00<?, ?it/s]"
      ]
     },
     "metadata": {},
     "output_type": "display_data"
    },
    {
     "name": "stdout",
     "output_type": "stream",
     "text": [
      "Global accuracy: 98.34%\n",
      "         Accuracy\n",
      "Subject          \n",
      "S001        83.25\n",
      "S002        99.00\n",
      "S004        99.00\n",
      "S005        99.50\n",
      "S006        99.75\n",
      "S007        98.50\n",
      "S008       100.00\n",
      "S009        99.00\n",
      "S010       100.00\n",
      "S011       100.00\n",
      "S101       100.00\n",
      "S102       100.00\n",
      "S103       100.00\n",
      "S104        98.00\n",
      "S105        99.75\n",
      "S106        99.50\n",
      "Cross validating, leaving out subject S002\n",
      "57 sessions loaded for training\n",
      "58 sessions loaded for validation\n"
     ]
    },
    {
     "data": {
      "application/vnd.jupyter.widget-view+json": {
       "model_id": "4343b4c9d7534a44bd9c6746a224ccca",
       "version_major": 2,
       "version_minor": 0
      },
      "text/plain": [
       "  0%|          | 0/58 [00:00<?, ?it/s]"
      ]
     },
     "metadata": {},
     "output_type": "display_data"
    },
    {
     "name": "stdout",
     "output_type": "stream",
     "text": [
      "Global accuracy: 99.28%\n",
      "         Accuracy\n",
      "Subject          \n",
      "S001       100.00\n",
      "S002        87.00\n",
      "S004        99.25\n",
      "S005        99.50\n",
      "S006        99.75\n",
      "S007        98.25\n",
      "S008       100.00\n",
      "S009        99.00\n",
      "S010       100.00\n",
      "S011       100.00\n",
      "S101       100.00\n",
      "S102       100.00\n",
      "S103       100.00\n",
      "S104        98.00\n",
      "S105        99.50\n",
      "S106        99.50\n",
      "Cross validating, leaving out subject S004\n",
      "54 sessions loaded for training\n",
      "58 sessions loaded for validation\n"
     ]
    },
    {
     "data": {
      "application/vnd.jupyter.widget-view+json": {
       "model_id": "741420beed67472b824ef683e933c684",
       "version_major": 2,
       "version_minor": 0
      },
      "text/plain": [
       "  0%|          | 0/58 [00:00<?, ?it/s]"
      ]
     },
     "metadata": {},
     "output_type": "display_data"
    },
    {
     "name": "stdout",
     "output_type": "stream",
     "text": [
      "Global accuracy: 97.62%\n",
      "         Accuracy\n",
      "Subject          \n",
      "S001       100.00\n",
      "S002        99.00\n",
      "S004        72.00\n",
      "S005        99.25\n",
      "S006       100.00\n",
      "S007        98.25\n",
      "S008       100.00\n",
      "S009        99.00\n",
      "S010       100.00\n",
      "S011       100.00\n",
      "S101       100.00\n",
      "S102       100.00\n",
      "S103       100.00\n",
      "S104        98.00\n",
      "S105        99.75\n",
      "S106        99.50\n",
      "Cross validating, leaving out subject S005\n",
      "54 sessions loaded for training\n",
      "58 sessions loaded for validation\n"
     ]
    },
    {
     "data": {
      "application/vnd.jupyter.widget-view+json": {
       "model_id": "3ebecc464cd84eaa86db010815e85065",
       "version_major": 2,
       "version_minor": 0
      },
      "text/plain": [
       "  0%|          | 0/58 [00:00<?, ?it/s]"
      ]
     },
     "metadata": {},
     "output_type": "display_data"
    },
    {
     "name": "stdout",
     "output_type": "stream",
     "text": [
      "Global accuracy: 98.53%\n",
      "         Accuracy\n",
      "Subject          \n",
      "S001       100.00\n",
      "S002        99.00\n",
      "S004        99.25\n",
      "S005        85.25\n",
      "S006        99.75\n",
      "S007        98.50\n",
      "S008       100.00\n",
      "S009        99.00\n",
      "S010       100.00\n",
      "S011       100.00\n",
      "S101       100.00\n",
      "S102       100.00\n",
      "S103       100.00\n",
      "S104        98.00\n",
      "S105        99.75\n",
      "S106        99.50\n",
      "Cross validating, leaving out subject S006\n",
      "54 sessions loaded for training\n",
      "58 sessions loaded for validation\n"
     ]
    },
    {
     "data": {
      "application/vnd.jupyter.widget-view+json": {
       "model_id": "b7292f897cc74df3ac4d269d95f835a7",
       "version_major": 2,
       "version_minor": 0
      },
      "text/plain": [
       "  0%|          | 0/58 [00:00<?, ?it/s]"
      ]
     },
     "metadata": {},
     "output_type": "display_data"
    },
    {
     "name": "stdout",
     "output_type": "stream",
     "text": [
      "Global accuracy: 97.48%\n",
      "         Accuracy\n",
      "Subject          \n",
      "S001       100.00\n",
      "S002        99.00\n",
      "S004        99.25\n",
      "S005        99.50\n",
      "S006        71.75\n",
      "S007        98.00\n",
      "S008       100.00\n",
      "S009        99.00\n",
      "S010       100.00\n",
      "S011       100.00\n",
      "S101       100.00\n",
      "S102       100.00\n",
      "S103       100.00\n",
      "S104        97.25\n",
      "S105        99.75\n",
      "S106        99.25\n",
      "Cross validating, leaving out subject S007\n",
      "54 sessions loaded for training\n",
      "58 sessions loaded for validation\n"
     ]
    },
    {
     "data": {
      "application/vnd.jupyter.widget-view+json": {
       "model_id": "4799eca15de84ea5b118d3ccdb18be68",
       "version_major": 2,
       "version_minor": 0
      },
      "text/plain": [
       "  0%|          | 0/58 [00:00<?, ?it/s]"
      ]
     },
     "metadata": {},
     "output_type": "display_data"
    },
    {
     "name": "stdout",
     "output_type": "stream",
     "text": [
      "Global accuracy: 98.22%\n",
      "         Accuracy\n",
      "Subject          \n",
      "S001       100.00\n",
      "S002        99.00\n",
      "S004        99.00\n",
      "S005        99.25\n",
      "S006       100.00\n",
      "S007        80.00\n",
      "S008       100.00\n",
      "S009        99.00\n",
      "S010       100.00\n",
      "S011       100.00\n",
      "S101       100.00\n",
      "S102       100.00\n",
      "S103       100.00\n",
      "S104        98.00\n",
      "S105        99.75\n",
      "S106        99.50\n",
      "Cross validating, leaving out subject S008\n",
      "54 sessions loaded for training\n",
      "58 sessions loaded for validation\n"
     ]
    },
    {
     "data": {
      "application/vnd.jupyter.widget-view+json": {
       "model_id": "487dc8d7a5184dd484d366ecb5b37eb6",
       "version_major": 2,
       "version_minor": 0
      },
      "text/plain": [
       "  0%|          | 0/58 [00:00<?, ?it/s]"
      ]
     },
     "metadata": {},
     "output_type": "display_data"
    },
    {
     "name": "stdout",
     "output_type": "stream",
     "text": [
      "Global accuracy: 97.74%\n",
      "         Accuracy\n",
      "Subject          \n",
      "S001       100.00\n",
      "S002        98.00\n",
      "S004        99.00\n",
      "S005        99.25\n",
      "S006       100.00\n",
      "S007        98.50\n",
      "S008        75.25\n",
      "S009        99.00\n",
      "S010       100.00\n",
      "S011       100.00\n",
      "S101       100.00\n",
      "S102       100.00\n",
      "S103       100.00\n",
      "S104        97.75\n",
      "S105        99.75\n",
      "S106        99.25\n",
      "Cross validating, leaving out subject S009\n",
      "54 sessions loaded for training\n",
      "58 sessions loaded for validation\n"
     ]
    },
    {
     "data": {
      "application/vnd.jupyter.widget-view+json": {
       "model_id": "21d18f8652e34ef880165261bc5f8135",
       "version_major": 2,
       "version_minor": 0
      },
      "text/plain": [
       "  0%|          | 0/58 [00:00<?, ?it/s]"
      ]
     },
     "metadata": {},
     "output_type": "display_data"
    },
    {
     "name": "stdout",
     "output_type": "stream",
     "text": [
      "Global accuracy: 98.93%\n",
      "         Accuracy\n",
      "Subject          \n",
      "S001       100.00\n",
      "S002        99.00\n",
      "S004        99.25\n",
      "S005        99.50\n",
      "S006        99.75\n",
      "S007        98.25\n",
      "S008       100.00\n",
      "S009        90.50\n",
      "S010       100.00\n",
      "S011       100.00\n",
      "S101       100.00\n",
      "S102       100.00\n",
      "S103       100.00\n",
      "S104        98.50\n",
      "S105        99.75\n",
      "S106        99.25\n",
      "Cross validating, leaving out subject S010\n",
      "54 sessions loaded for training\n",
      "58 sessions loaded for validation\n"
     ]
    },
    {
     "data": {
      "application/vnd.jupyter.widget-view+json": {
       "model_id": "d61c799aa5e240dab52490df35416685",
       "version_major": 2,
       "version_minor": 0
      },
      "text/plain": [
       "  0%|          | 0/58 [00:00<?, ?it/s]"
      ]
     },
     "metadata": {},
     "output_type": "display_data"
    },
    {
     "name": "stdout",
     "output_type": "stream",
     "text": [
      "Global accuracy: 98.62%\n",
      "         Accuracy\n",
      "Subject          \n",
      "S001       100.00\n",
      "S002        99.00\n",
      "S004        98.75\n",
      "S005        99.50\n",
      "S006       100.00\n",
      "S007        98.25\n",
      "S008       100.00\n",
      "S009        99.00\n",
      "S010        87.50\n",
      "S011       100.00\n",
      "S101       100.00\n",
      "S102       100.00\n",
      "S103       100.00\n",
      "S104        98.00\n",
      "S105        99.75\n",
      "S106        99.50\n",
      "Cross validating, leaving out subject S011\n",
      "56 sessions loaded for training\n",
      "58 sessions loaded for validation\n"
     ]
    },
    {
     "data": {
      "application/vnd.jupyter.widget-view+json": {
       "model_id": "40f59b6406044a0ba05b7aa070863769",
       "version_major": 2,
       "version_minor": 0
      },
      "text/plain": [
       "  0%|          | 0/58 [00:00<?, ?it/s]"
      ]
     },
     "metadata": {},
     "output_type": "display_data"
    },
    {
     "name": "stdout",
     "output_type": "stream",
     "text": [
      "Global accuracy: 99.28%\n",
      "         Accuracy\n",
      "Subject          \n",
      "S001       100.00\n",
      "S002        99.00\n",
      "S004        99.25\n",
      "S005        99.50\n",
      "S006       100.00\n",
      "S007        98.25\n",
      "S008       100.00\n",
      "S009        99.00\n",
      "S010       100.00\n",
      "S011        93.00\n",
      "S101       100.00\n",
      "S102       100.00\n",
      "S103       100.00\n",
      "S104        98.00\n",
      "S105        99.75\n",
      "S106        99.50\n",
      "Cross validating, leaving out subject S101\n",
      "54 sessions loaded for training\n",
      "58 sessions loaded for validation\n"
     ]
    },
    {
     "data": {
      "application/vnd.jupyter.widget-view+json": {
       "model_id": "88472b1af6434991b14f637366e172cb",
       "version_major": 2,
       "version_minor": 0
      },
      "text/plain": [
       "  0%|          | 0/58 [00:00<?, ?it/s]"
      ]
     },
     "metadata": {},
     "output_type": "display_data"
    },
    {
     "name": "stdout",
     "output_type": "stream",
     "text": [
      "Global accuracy: 98.71%\n",
      "         Accuracy\n",
      "Subject          \n",
      "S001       100.00\n",
      "S002        99.00\n",
      "S004        99.25\n",
      "S005        99.25\n",
      "S006        99.75\n",
      "S007        98.25\n",
      "S008       100.00\n",
      "S009        99.00\n",
      "S010       100.00\n",
      "S011       100.00\n",
      "S101        89.25\n",
      "S102       100.00\n",
      "S103       100.00\n",
      "S104        97.75\n",
      "S105        99.50\n",
      "S106        99.50\n",
      "Cross validating, leaving out subject S102\n",
      "54 sessions loaded for training\n",
      "58 sessions loaded for validation\n"
     ]
    },
    {
     "data": {
      "application/vnd.jupyter.widget-view+json": {
       "model_id": "f8763977ddda4c12b8bb8efe7da3b5a9",
       "version_major": 2,
       "version_minor": 0
      },
      "text/plain": [
       "  0%|          | 0/58 [00:00<?, ?it/s]"
      ]
     },
     "metadata": {},
     "output_type": "display_data"
    },
    {
     "name": "stdout",
     "output_type": "stream",
     "text": [
      "Global accuracy: 98.81%\n",
      "         Accuracy\n",
      "Subject          \n",
      "S001       100.00\n",
      "S002        99.00\n",
      "S004        99.25\n",
      "S005        99.50\n",
      "S006        99.75\n",
      "S007        98.25\n",
      "S008       100.00\n",
      "S009        99.00\n",
      "S010       100.00\n",
      "S011       100.00\n",
      "S101       100.00\n",
      "S102        90.00\n",
      "S103       100.00\n",
      "S104        98.00\n",
      "S105        99.75\n",
      "S106        99.50\n",
      "Cross validating, leaving out subject S103\n",
      "55 sessions loaded for training\n",
      "58 sessions loaded for validation\n"
     ]
    },
    {
     "data": {
      "application/vnd.jupyter.widget-view+json": {
       "model_id": "bb5e620e41dc4ddf85c856178426d8ce",
       "version_major": 2,
       "version_minor": 0
      },
      "text/plain": [
       "  0%|          | 0/58 [00:00<?, ?it/s]"
      ]
     },
     "metadata": {},
     "output_type": "display_data"
    },
    {
     "name": "stdout",
     "output_type": "stream",
     "text": [
      "Global accuracy: 98.59%\n",
      "           Accuracy\n",
      "Subject            \n",
      "S001     100.000000\n",
      "S002      99.000000\n",
      "S004      99.250000\n",
      "S005      99.250000\n",
      "S006     100.000000\n",
      "S007      98.250000\n",
      "S008     100.000000\n",
      "S009      99.000000\n",
      "S010     100.000000\n",
      "S011     100.000000\n",
      "S101     100.000000\n",
      "S102     100.000000\n",
      "S103      83.333333\n",
      "S104      97.500000\n",
      "S105      99.500000\n",
      "S106      99.500000\n",
      "Cross validating, leaving out subject S104\n",
      "54 sessions loaded for training\n",
      "58 sessions loaded for validation\n"
     ]
    },
    {
     "data": {
      "application/vnd.jupyter.widget-view+json": {
       "model_id": "c2fab77a0e564b15b7953688eb02ff33",
       "version_major": 2,
       "version_minor": 0
      },
      "text/plain": [
       "  0%|          | 0/58 [00:00<?, ?it/s]"
      ]
     },
     "metadata": {},
     "output_type": "display_data"
    },
    {
     "name": "stdout",
     "output_type": "stream",
     "text": [
      "Global accuracy: 99.02%\n",
      "         Accuracy\n",
      "Subject          \n",
      "S001       100.00\n",
      "S002        99.00\n",
      "S004        99.50\n",
      "S005        99.50\n",
      "S006       100.00\n",
      "S007        98.25\n",
      "S008       100.00\n",
      "S009        99.00\n",
      "S010       100.00\n",
      "S011       100.00\n",
      "S101       100.00\n",
      "S102       100.00\n",
      "S103       100.00\n",
      "S104        91.00\n",
      "S105        99.50\n",
      "S106        99.25\n",
      "Cross validating, leaving out subject S105\n",
      "54 sessions loaded for training\n",
      "58 sessions loaded for validation\n"
     ]
    },
    {
     "data": {
      "application/vnd.jupyter.widget-view+json": {
       "model_id": "a3619ac4cc5345cea1bb0491e8f9d302",
       "version_major": 2,
       "version_minor": 0
      },
      "text/plain": [
       "  0%|          | 0/58 [00:00<?, ?it/s]"
      ]
     },
     "metadata": {},
     "output_type": "display_data"
    },
    {
     "name": "stdout",
     "output_type": "stream",
     "text": [
      "Global accuracy: 98.47%\n",
      "         Accuracy\n",
      "Subject          \n",
      "S001       100.00\n",
      "S002        99.00\n",
      "S004        99.25\n",
      "S005        99.25\n",
      "S006       100.00\n",
      "S007        98.25\n",
      "S008       100.00\n",
      "S009        99.00\n",
      "S010       100.00\n",
      "S011       100.00\n",
      "S101       100.00\n",
      "S102       100.00\n",
      "S103       100.00\n",
      "S104        97.25\n",
      "S105        85.75\n",
      "S106        99.25\n",
      "Cross validating, leaving out subject S106\n",
      "54 sessions loaded for training\n",
      "58 sessions loaded for validation\n"
     ]
    },
    {
     "data": {
      "application/vnd.jupyter.widget-view+json": {
       "model_id": "a09753947c8949df9d2185e222cd1052",
       "version_major": 2,
       "version_minor": 0
      },
      "text/plain": [
       "  0%|          | 0/58 [00:00<?, ?it/s]"
      ]
     },
     "metadata": {},
     "output_type": "display_data"
    },
    {
     "name": "stdout",
     "output_type": "stream",
     "text": [
      "Global accuracy: 97.9%\n",
      "         Accuracy\n",
      "Subject          \n",
      "S001       100.00\n",
      "S002        99.00\n",
      "S004        99.00\n",
      "S005        99.50\n",
      "S006       100.00\n",
      "S007        98.25\n",
      "S008       100.00\n",
      "S009        99.00\n",
      "S010       100.00\n",
      "S011       100.00\n",
      "S101       100.00\n",
      "S102       100.00\n",
      "S103       100.00\n",
      "S104        97.50\n",
      "S105        99.75\n",
      "S106        76.75\n"
     ]
    }
   ],
   "source": [
    "root_path = 'C:/resources/EMG/'\n",
    "post_fix = '_1s_cleaned' #'_1s_new' #\n",
    "classes = settings['classes']\n",
    "subjects = os.listdir(root_path)\n",
    "results = {} #dictionary of pandas dataframes\n",
    "for subject in subjects:\n",
    "    print(f'Cross validating, leaving out subject {subject}')\n",
    "    pd_result = cross_validate(subject)\n",
    "    results[subject] = pd_result\n",
    "    "
   ]
  },
  {
   "cell_type": "code",
   "execution_count": 54,
   "metadata": {},
   "outputs": [
    {
     "name": "stdout",
     "output_type": "stream",
     "text": [
      "[[ 83.25        99.          99.          99.5         99.75\n",
      "   98.5        100.          99.         100.         100.\n",
      "  100.         100.         100.          98.          99.75\n",
      "   99.5       ]\n",
      " [100.          87.          99.25        99.5         99.75\n",
      "   98.25       100.          99.         100.         100.\n",
      "  100.         100.         100.          98.          99.5\n",
      "   99.5       ]\n",
      " [100.          99.          72.          99.25       100.\n",
      "   98.25       100.          99.         100.         100.\n",
      "  100.         100.         100.          98.          99.75\n",
      "   99.5       ]\n",
      " [100.          99.          99.25        85.25        99.75\n",
      "   98.5        100.          99.         100.         100.\n",
      "  100.         100.         100.          98.          99.75\n",
      "   99.5       ]\n",
      " [100.          99.          99.25        99.5         71.75\n",
      "   98.         100.          99.         100.         100.\n",
      "  100.         100.         100.          97.25        99.75\n",
      "   99.25      ]\n",
      " [100.          99.          99.          99.25       100.\n",
      "   80.         100.          99.         100.         100.\n",
      "  100.         100.         100.          98.          99.75\n",
      "   99.5       ]\n",
      " [100.          98.          99.          99.25       100.\n",
      "   98.5         75.25        99.         100.         100.\n",
      "  100.         100.         100.          97.75        99.75\n",
      "   99.25      ]\n",
      " [100.          99.          99.25        99.5         99.75\n",
      "   98.25       100.          90.5        100.         100.\n",
      "  100.         100.         100.          98.5         99.75\n",
      "   99.25      ]\n",
      " [100.          99.          98.75        99.5        100.\n",
      "   98.25       100.          99.          87.5        100.\n",
      "  100.         100.         100.          98.          99.75\n",
      "   99.5       ]\n",
      " [100.          99.          99.25        99.5        100.\n",
      "   98.25       100.          99.         100.          93.\n",
      "  100.         100.         100.          98.          99.75\n",
      "   99.5       ]\n",
      " [100.          99.          99.25        99.25        99.75\n",
      "   98.25       100.          99.         100.         100.\n",
      "   89.25       100.         100.          97.75        99.5\n",
      "   99.5       ]\n",
      " [100.          99.          99.25        99.5         99.75\n",
      "   98.25       100.          99.         100.         100.\n",
      "  100.          90.         100.          98.          99.75\n",
      "   99.5       ]\n",
      " [100.          99.          99.25        99.25       100.\n",
      "   98.25       100.          99.         100.         100.\n",
      "  100.         100.          83.33333333  97.5         99.5\n",
      "   99.5       ]\n",
      " [100.          99.          99.5         99.5        100.\n",
      "   98.25       100.          99.         100.         100.\n",
      "  100.         100.         100.          91.          99.5\n",
      "   99.25      ]\n",
      " [100.          99.          99.25        99.25       100.\n",
      "   98.25       100.          99.         100.         100.\n",
      "  100.         100.         100.          97.25        85.75\n",
      "   99.25      ]\n",
      " [100.          99.          99.          99.5        100.\n",
      "   98.25       100.          99.         100.         100.\n",
      "  100.         100.         100.          97.5         99.75\n",
      "   76.75      ]]\n"
     ]
    }
   ],
   "source": [
    "final = []\n",
    "for d in results:\n",
    "    by_subject = results[d].groupby(['Subject']).mean()\n",
    "    final.append(by_subject.loc[:,'Accuracy'].tolist())\n",
    "print(np.array(final))"
   ]
  },
  {
   "cell_type": "code",
   "execution_count": null,
   "metadata": {},
   "outputs": [],
   "source": [
    "pd.concat([results['S001'], results['S002']])\n",
    "asddd = [results['S001'].loc[:,'Accuracy'] + results['S002'].loc[:,'Accuracy']]\n",
    "asddd"
   ]
  },
  {
   "cell_type": "code",
   "execution_count": 15,
   "metadata": {},
   "outputs": [],
   "source": [
    "def cross_validate(subject, log = False):\n",
    "    # use session4 for validation\n",
    "    subject_to_val = [subject]\n",
    "    train_sessions = []\n",
    "    val_sessions = []\n",
    "\n",
    "    for subject in os.listdir(root_path):\n",
    "        for session in os.listdir(os.path.join(root_path,subject)):\n",
    "            val_sessions.append(os.path.join(root_path,subject, session))\n",
    "            if not subject in subject_to_val:\n",
    "                train_sessions.append(os.path.join(root_path,subject, session))\n",
    "        \n",
    "\n",
    "\n",
    "    train_records = {}\n",
    "    for c in classes:\n",
    "        class_data = []\n",
    "        for session in train_sessions:\n",
    "            data = np.load(os.path.join(session,c+post_fix+'.npy'),allow_pickle=True)\n",
    "            if data.shape[0] != 0:\n",
    "                class_data.append(data)\n",
    "            #else:\n",
    "            #    print(f\"No data available for train for class {c}\")\n",
    "        \n",
    "        train_records[c] = np.concatenate(class_data)\n",
    "    print(f\"{len(train_sessions)} sessions loaded for training\")\n",
    "\n",
    "\n",
    "    val_records = {}\n",
    "    for c in classes:\n",
    "        class_data = []\n",
    "        for session in val_sessions:\n",
    "            data = np.load(os.path.join(session,c+post_fix+'.npy'),allow_pickle=True)\n",
    "            if data.shape[0] != 0:\n",
    "                class_data.append(data)\n",
    "        if len(class_data) != 0:\n",
    "            val_records[c] = np.concatenate(class_data)\n",
    "        #else:\n",
    "        #    print(f\"No data available for validation for class {c}\")\n",
    "\n",
    "    print(f\"{len(val_sessions)} sessions loaded for validation\")\n",
    "\n",
    "\n",
    "\n",
    "\n",
    "\n",
    "    n_channels = train_records[\"Rest\"].shape[1]\n",
    "    input_length = train_records[\"Rest\"].shape[2]\n",
    "\n",
    "    train_y = create_labels(train_records)\n",
    "    train_X = np.concatenate((list(train_records.values())), axis=0)\n",
    "\n",
    "    train_X, train_y = apply_augment(train_X, train_y)\n",
    "    train_X = train_X.reshape(train_X.shape[0], n_channels*input_length)\n",
    "\n",
    "    # param_grid = {'C': [10], 'gamma': [0.01]}\n",
    "\n",
    "    # grid = GridSearchCV(SVC(),param_grid,refit=True,verbose=2)\n",
    "    # grid.fit(train_X,train_y)\n",
    "    # model = grid.best_estimator_ \n",
    "    svm = SVC(C=10, gamma=0.01)\n",
    "    svm.fit(train_X, train_y)\n",
    "    return evaluate_set(svm, val_sessions, classes, post_fix, log = log)\n"
   ]
  },
  {
   "cell_type": "code",
   "execution_count": null,
   "metadata": {},
   "outputs": [],
   "source": []
  }
 ],
 "metadata": {
  "interpreter": {
   "hash": "a81b55685ebb6380129efe90592a7e4f2f571da2ab32c8bbcf8b970d830ead19"
  },
  "kernelspec": {
   "display_name": "Python 3.7.6 64-bit",
   "name": "python3"
  },
  "language_info": {
   "codemirror_mode": {
    "name": "ipython",
    "version": 3
   },
   "file_extension": ".py",
   "mimetype": "text/x-python",
   "name": "python",
   "nbconvert_exporter": "python",
   "pygments_lexer": "ipython3",
   "version": "3.7.0"
  }
 },
 "nbformat": 4,
 "nbformat_minor": 4
}
