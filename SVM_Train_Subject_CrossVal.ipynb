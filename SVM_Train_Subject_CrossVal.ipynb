{
 "cells": [
  {
   "cell_type": "code",
   "execution_count": 1,
   "metadata": {},
   "outputs": [
    {
     "name": "stderr",
     "output_type": "stream",
     "text": [
      "C:\\Users\\Nemes\\anaconda3\\envs\\tf\\lib\\site-packages\\numpy\\_distributor_init.py:32: UserWarning: loaded more than 1 DLL from .libs:\n",
      "C:\\Users\\Nemes\\anaconda3\\envs\\tf\\lib\\site-packages\\numpy\\.libs\\libopenblas.PYQHXLVVQ7VESDPUVUADXEVJOBGHJPAY.gfortran-win_amd64.dll\n",
      "C:\\Users\\Nemes\\anaconda3\\envs\\tf\\lib\\site-packages\\numpy\\.libs\\libopenblas.WCDJNK7YVMPZQ2ME2ZZHJJRJ3JIKNDB7.gfortran-win_amd64.dll\n",
      "C:\\Users\\Nemes\\anaconda3\\envs\\tf\\lib\\site-packages\\numpy\\.libs\\libopenblas.XWYDX2IKJW2NMTWSFYNGFUWKQU3LYTCZ.gfortran-win_amd64.dll\n",
      "  stacklevel=1)\n"
     ]
    }
   ],
   "source": [
    "import numpy as np\n",
    "import pandas as pd\n",
    "import random\n",
    "import os\n",
    "from matplotlib import pyplot as plt\n",
    "from sklearn.model_selection import train_test_split\n",
    "from joblib import dump\n",
    "from tqdm.notebook import tqdm\n",
    "from sklearn.model_selection import train_test_split\n",
    "import itertools\n",
    "from sklearn.utils import shuffle\n",
    "from scipy import signal\n",
    "%matplotlib inline\n",
    "\n",
    "\n",
    "from sklearn.svm import SVC\n",
    "from sklearn.model_selection import GridSearchCV\n",
    "\n",
    "from sklearn.feature_selection import SelectFdr, chi2\n",
    "\n",
    "from sklearn.model_selection import StratifiedKFold, KFold\n",
    "from sklearn.metrics import classification_report,confusion_matrix\n",
    "from sklearn.metrics import accuracy_score\n",
    "\n",
    "from utils.svm import preProcess, evaluate_set\n",
    "from utils.visualize import showMe\n",
    "from utils.augment import apply_augment\n",
    "from config.default import *\n",
    "\n",
    "\n",
    "%load_ext autoreload\n",
    "%autoreload 2\n"
   ]
  },
  {
   "cell_type": "code",
   "execution_count": 2,
   "metadata": {},
   "outputs": [],
   "source": [
    "def create_labels(X):\n",
    "    y = []\n",
    "    for i, r in enumerate(X):\n",
    "        l = np.ones(X[r].shape[0])*i\n",
    "        y = y + l.tolist()\n",
    "    y = np.array(y)\n",
    "    return y\n"
   ]
  },
  {
   "cell_type": "code",
   "execution_count": null,
   "metadata": {},
   "outputs": [],
   "source": [
    "root_path = 'C:/resources/EMG/'\n",
    "post_fix = '_1s_cleaned' #'_1s_new' #\n",
    "classes = settings['classes']\n",
    "subjects = os.listdir(root_path)\n",
    "results = {} #dictionary of pandas dataframes\n",
    "cv_results = {}\n",
    "for subject in subjects:\n",
    "    print(f'Cross validating, leaving out subject {subject}')\n",
    "    pd_result, cv_result = cross_validate(subject)\n",
    "    results[subject] = pd_result\n",
    "    cv_results[subject] = cv_result\n",
    "\n",
    "    "
   ]
  },
  {
   "cell_type": "code",
   "execution_count": 38,
   "metadata": {},
   "outputs": [
    {
     "name": "stdout",
     "output_type": "stream",
     "text": [
      "S001\n",
      "S002\n",
      "S004\n",
      "S005\n",
      "S006\n",
      "S007\n",
      "S008\n",
      "S009\n",
      "S010\n",
      "S011\n",
      "S101\n",
      "S102\n",
      "S103\n",
      "S104\n",
      "S105\n",
      "S106\n"
     ]
    },
    {
     "name": "stderr",
     "output_type": "stream",
     "text": [
      "C:\\Users\\Nemes\\anaconda3\\envs\\tf\\lib\\site-packages\\ipykernel_launcher.py:17: DeprecationWarning: `np.int` is a deprecated alias for the builtin `int`. To silence this warning, use `int` by itself. Doing this will not modify any behavior and is safe. When replacing `np.int`, you may wish to use e.g. `np.int64` or `np.int32` to specify the precision. If you wish to review your current use, check the release note link for additional information.\n",
      "Deprecated in NumPy 1.20; for more details and guidance: https://numpy.org/devdocs/release/1.20.0-notes.html#deprecations\n"
     ]
    }
   ],
   "source": [
    "commutative = []\n",
    "for subject in subjects:\n",
    "    print(subject)\n",
    "    all = []\n",
    "    for session in cv_results[subject]:\n",
    "        #print(session)\n",
    "        if subject in session:\n",
    "            #print(cv_results[subject][session])\n",
    "            temp = cv_results[subject][session]\n",
    "            \n",
    "            zeros = np.zeros((4,4), dtype = np.float32)\n",
    "            zeros[:temp.shape[0], :temp.shape[1]] = temp\n",
    "            #temp.resize(4,4)\n",
    "            all.append(zeros)\n",
    "    all = np.array(all)\n",
    "    summ = np.sum(all,axis = 0 )\n",
    "    summ = np.array(summ, dtype = np.int)\n",
    "    commutative.append(summ)\n",
    "    #print(summ)\n",
    "    #np.savetxt('confusion/SVM/'+subject+'.csv', summ,fmt='%i', delimiter=',')\n",
    "        \n",
    "commutative = np.array(commutative)\n",
    "commutative =np.sum(commutative, axis = 0)\n",
    "np.savetxt('confusion/SVM/commutative.csv', commutative,fmt='%i', delimiter=',')\n",
    "\n"
   ]
  },
  {
   "cell_type": "code",
   "execution_count": null,
   "metadata": {},
   "outputs": [],
   "source": [
    "final = []\n",
    "for d in results:\n",
    "    by_subject = results[d].groupby(['Subject']).mean()\n",
    "    final.append(by_subject.loc[:,'Accuracy'].tolist())\n",
    "print(np.array(final))"
   ]
  },
  {
   "cell_type": "code",
   "execution_count": null,
   "metadata": {},
   "outputs": [],
   "source": [
    "pd.concat([results['S001'], results['S002']])\n",
    "asddd = [results['S001'].loc[:,'Accuracy'] + results['S002'].loc[:,'Accuracy']]\n",
    "asddd"
   ]
  },
  {
   "cell_type": "code",
   "execution_count": 8,
   "metadata": {},
   "outputs": [],
   "source": [
    "def cross_validate(subject, log = False):\n",
    "    # use session4 for validation\n",
    "    subject_to_val = [subject]\n",
    "    train_sessions = []\n",
    "    val_sessions = []\n",
    "\n",
    "    for subject in os.listdir(root_path):\n",
    "        for session in os.listdir(os.path.join(root_path,subject)):\n",
    "            val_sessions.append(os.path.join(root_path,subject, session))\n",
    "            if not subject in subject_to_val:\n",
    "                train_sessions.append(os.path.join(root_path,subject, session))\n",
    "        \n",
    "\n",
    "\n",
    "    train_records = {}\n",
    "    for c in classes:\n",
    "        class_data = []\n",
    "        for session in train_sessions:\n",
    "            data = np.load(os.path.join(session,c+post_fix+'.npy'),allow_pickle=True)\n",
    "            if data.shape[0] != 0:\n",
    "                class_data.append(data)\n",
    "            #else:\n",
    "            #    print(f\"No data available for train for class {c}\")\n",
    "        \n",
    "        train_records[c] = np.concatenate(class_data)\n",
    "    print(f\"{len(train_sessions)} sessions loaded for training\")\n",
    "\n",
    "\n",
    "    val_records = {}\n",
    "    for c in classes:\n",
    "        class_data = []\n",
    "        for session in val_sessions:\n",
    "            data = np.load(os.path.join(session,c+post_fix+'.npy'),allow_pickle=True)\n",
    "            if data.shape[0] != 0:\n",
    "                class_data.append(data)\n",
    "        if len(class_data) != 0:\n",
    "            val_records[c] = np.concatenate(class_data)\n",
    "        #else:\n",
    "        #    print(f\"No data available for validation for class {c}\")\n",
    "\n",
    "    print(f\"{len(val_sessions)} sessions loaded for validation\")\n",
    "\n",
    "\n",
    "\n",
    "\n",
    "\n",
    "    n_channels = train_records[\"Rest\"].shape[1]\n",
    "    input_length = train_records[\"Rest\"].shape[2]\n",
    "\n",
    "    train_y = create_labels(train_records)\n",
    "    train_X = np.concatenate((list(train_records.values())), axis=0)\n",
    "\n",
    "    train_X, train_y = apply_augment(train_X, train_y)\n",
    "    train_X = train_X.reshape(train_X.shape[0], n_channels*input_length)\n",
    "\n",
    "    # param_grid = {'C': [10], 'gamma': [0.01]}\n",
    "\n",
    "    # grid = GridSearchCV(SVC(),param_grid,refit=True,verbose=2)\n",
    "    # grid.fit(train_X,train_y)\n",
    "    # model = grid.best_estimator_ \n",
    "    svm = SVC(C=10, gamma=0.01)\n",
    "    svm.fit(train_X, train_y)\n",
    "    return evaluate_set(svm, val_sessions, classes, post_fix, log = log)\n"
   ]
  },
  {
   "cell_type": "code",
   "execution_count": null,
   "metadata": {},
   "outputs": [],
   "source": []
  }
 ],
 "metadata": {
  "interpreter": {
   "hash": "a81b55685ebb6380129efe90592a7e4f2f571da2ab32c8bbcf8b970d830ead19"
  },
  "kernelspec": {
   "display_name": "Python 3.7.6 64-bit",
   "name": "python3"
  },
  "language_info": {
   "codemirror_mode": {
    "name": "ipython",
    "version": 3
   },
   "file_extension": ".py",
   "mimetype": "text/x-python",
   "name": "python",
   "nbconvert_exporter": "python",
   "pygments_lexer": "ipython3",
   "version": "3.7.0"
  }
 },
 "nbformat": 4,
 "nbformat_minor": 4
}
