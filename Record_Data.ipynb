{
 "cells": [
  {
   "cell_type": "code",
   "execution_count": 1,
   "metadata": {},
   "outputs": [
    {
     "name": "stderr",
     "output_type": "stream",
     "text": [
      "C:\\Users\\Nemes\\anaconda3\\envs\\tf\\lib\\site-packages\\numpy\\_distributor_init.py:32: UserWarning: loaded more than 1 DLL from .libs:\n",
      "C:\\Users\\Nemes\\anaconda3\\envs\\tf\\lib\\site-packages\\numpy\\.libs\\libopenblas.PYQHXLVVQ7VESDPUVUADXEVJOBGHJPAY.gfortran-win_amd64.dll\n",
      "C:\\Users\\Nemes\\anaconda3\\envs\\tf\\lib\\site-packages\\numpy\\.libs\\libopenblas.WCDJNK7YVMPZQ2ME2ZZHJJRJ3JIKNDB7.gfortran-win_amd64.dll\n",
      "C:\\Users\\Nemes\\anaconda3\\envs\\tf\\lib\\site-packages\\numpy\\.libs\\libopenblas.XWYDX2IKJW2NMTWSFYNGFUWKQU3LYTCZ.gfortran-win_amd64.dll\n",
      "  stacklevel=1)\n"
     ]
    }
   ],
   "source": [
    "import os\n",
    "import time\n",
    "import numpy as np\n",
    "from IPython.display import clear_output\n",
    "\n",
    "import brainflow\n",
    "from brainflow.data_filter import DataFilter, FilterTypes, AggOperations\n",
    "from brainflow.board_shim import BoardShim, BrainFlowInputParams, BoardIds, BrainFlowError\n",
    "\n",
    "from tqdm.notebook import tqdm\n",
    "import datetime\n",
    "\n",
    "\n",
    "from matplotlib import pyplot as plt\n",
    "from sklearn.model_selection import train_test_split\n",
    "import itertools\n",
    "from sklearn.utils import shuffle\n",
    "from scipy import signal\n",
    "\n",
    "\n",
    "%matplotlib inline"
   ]
  },
  {
   "cell_type": "code",
   "execution_count": 2,
   "metadata": {},
   "outputs": [],
   "source": [
    "def showMe(data, range=[-10000,10000]):\n",
    "    plt.rcParams[\"figure.figsize\"] = [17, 2]\n",
    "    fig, (c1, c2, c3, c4, c5,c6) = plt.subplots(1, 6)\n",
    "    c1.set_ylim(range[0],range[1])\n",
    "    c2.set_ylim(range[0],range[1])\n",
    "    c3.set_ylim(range[0],range[1])\n",
    "    c4.set_ylim(range[0],range[1])\n",
    "    c5.set_ylim(range[0],range[1])\n",
    "    c6.set_ylim(range[0],range[1])\n",
    "    c1.plot(data[0])\n",
    "    c2.plot(data[1])\n",
    "    c3.plot(data[2])\n",
    "    c4.plot(data[3])\n",
    "    c5.plot(data[4])\n",
    "    c6.plot(data[5])\n",
    "    plt.show()\n"
   ]
  },
  {
   "cell_type": "code",
   "execution_count": 3,
   "metadata": {},
   "outputs": [],
   "source": [
    "res_dir = 'C:/resources/EMG/'+datetime.datetime.now().strftime(\"%m_%d\")+'/'\n",
    "try:\n",
    "    os.mkdir(res_dir)\n",
    "except:\n",
    "    ..."
   ]
  },
  {
   "cell_type": "code",
   "execution_count": 4,
   "metadata": {},
   "outputs": [
    {
     "name": "stdout",
     "output_type": "stream",
     "text": [
      "Device ready (sampling rate: 500hz)\n"
     ]
    }
   ],
   "source": [
    "####      INIT BOARD        #######\n",
    "BoardShim.enable_dev_board_logger()\n",
    "params = BrainFlowInputParams()\n",
    "board = BoardShim(BoardIds.MINDROVE_WIFI_BOARD, params)\n",
    "\n",
    "\n",
    "try:\n",
    "    board.stop_stream()\n",
    "    board.release_session()\n",
    "except:\n",
    "    ...\n",
    "    \n",
    "    \n",
    "board.prepare_session()\n",
    "sample_rate = board.get_sampling_rate(16)\n",
    "n_channels  = 6\n",
    "\n",
    "print(\"Device ready (sampling rate: {}hz)\".format(sample_rate))"
   ]
  },
  {
   "cell_type": "code",
   "execution_count": 5,
   "metadata": {},
   "outputs": [],
   "source": [
    "length_of_signal = 1 #seconds"
   ]
  },
  {
   "cell_type": "code",
   "execution_count": 6,
   "metadata": {
    "scrolled": true
   },
   "outputs": [
    {
     "name": "stdout",
     "output_type": "stream",
     "text": [
      "Stand By! (60/60)\n",
      "Get ready to perform |   Rest   |\n",
      "Perform |   Rest   |\n"
     ]
    }
   ],
   "source": [
    "def GenerateOrder(n_classes, n_samples_per_class = 1):\n",
    "    lists = []\n",
    "    for i in range(n_classes):\n",
    "        tmp = np.empty([n_samples_per_class])\n",
    "        tmp.fill(i)\n",
    "        lists.append(tmp)\n",
    "    order = np.vstack(lists).ravel().astype(np.int32)\n",
    "    np.random.shuffle(order)\n",
    "    return order\n",
    "\n",
    "\n",
    "def CollectData(classes = ['Eyebrow','Chew'],n_samples_per_class = 1):\n",
    "    classes = ['Rest'] + classes\n",
    "    results = [[] for i in range(len(classes))]\n",
    "    tasks = GenerateOrder(len(classes),n_samples_per_class)\n",
    "    length_of_trial  = length_of_signal +3 #seconds\n",
    "    \n",
    "    board.start_stream((sample_rate*length_of_trial)+2) # plus 2 sec to be sure\n",
    "    i = 0\n",
    "    for task in tasks:\n",
    "        clear_output()\n",
    "        print(\"Stand By! ({}/{})\".format(i+1,len(tasks)))\n",
    "        time.sleep(1)\n",
    "        print(\"Get ready to perform |{:^10s}|\".format(classes[task]))\n",
    "        time.sleep(1)\n",
    "        print(\"Perform |{:^10s}|\".format(classes[task]))\n",
    "        board.get_board_data() # clear buffer\n",
    "        time.sleep(length_of_signal*1.1) # record longer to make sure there is enough data\n",
    "        data = board.get_board_data()\n",
    "        data = data[:6,:sample_rate*length_of_signal] #keep the data of the eeg channels only, and remove data over the trial length\n",
    "        results[task].append(data)\n",
    "        i += 1    \n",
    "    \n",
    "    return results, classes\n",
    "        \n",
    "results, classes = CollectData(n_samples_per_class=20)"
   ]
  },
  {
   "cell_type": "code",
   "execution_count": 8,
   "metadata": {},
   "outputs": [
    {
     "data": {
      "application/vnd.jupyter.widget-view+json": {
       "model_id": "15f22293ef464d108d3c9e2cb0bc0749",
       "version_major": 2,
       "version_minor": 0
      },
      "text/plain": [
       "  0%|          | 0/3 [00:00<?, ?it/s]"
      ]
     },
     "metadata": {},
     "output_type": "display_data"
    }
   ],
   "source": [
    "#Save results to file\n",
    "i = 0\n",
    "for result in tqdm(results):\n",
    "    result= np.asarray(result)\n",
    "    np.save(res_dir+classes[i],result)\n",
    "    i+=1"
   ]
  },
  {
   "cell_type": "code",
   "execution_count": 9,
   "metadata": {},
   "outputs": [],
   "source": [
    "board.stop_stream()\n",
    "board.release_session()"
   ]
  },
  {
   "cell_type": "code",
   "execution_count": null,
   "metadata": {},
   "outputs": [],
   "source": []
  }
 ],
 "metadata": {
  "interpreter": {
   "hash": "a81b55685ebb6380129efe90592a7e4f2f571da2ab32c8bbcf8b970d830ead19"
  },
  "kernelspec": {
   "display_name": "Python 3.7.6 64-bit",
   "name": "python3"
  },
  "language_info": {
   "codemirror_mode": {
    "name": "ipython",
    "version": 3
   },
   "file_extension": ".py",
   "mimetype": "text/x-python",
   "name": "python",
   "nbconvert_exporter": "python",
   "pygments_lexer": "ipython3",
   "version": "3.7.0"
  }
 },
 "nbformat": 4,
 "nbformat_minor": 4
}
