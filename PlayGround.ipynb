{
 "cells": [
  {
   "cell_type": "code",
   "execution_count": 1,
   "metadata": {},
   "outputs": [
    {
     "name": "stderr",
     "output_type": "stream",
     "text": [
      "C:\\Users\\Nemes\\anaconda3\\envs\\tf\\lib\\site-packages\\numpy\\_distributor_init.py:32: UserWarning: loaded more than 1 DLL from .libs:\n",
      "C:\\Users\\Nemes\\anaconda3\\envs\\tf\\lib\\site-packages\\numpy\\.libs\\libopenblas.PYQHXLVVQ7VESDPUVUADXEVJOBGHJPAY.gfortran-win_amd64.dll\n",
      "C:\\Users\\Nemes\\anaconda3\\envs\\tf\\lib\\site-packages\\numpy\\.libs\\libopenblas.WCDJNK7YVMPZQ2ME2ZZHJJRJ3JIKNDB7.gfortran-win_amd64.dll\n",
      "C:\\Users\\Nemes\\anaconda3\\envs\\tf\\lib\\site-packages\\numpy\\.libs\\libopenblas.XWYDX2IKJW2NMTWSFYNGFUWKQU3LYTCZ.gfortran-win_amd64.dll\n",
      "  stacklevel=1)\n"
     ]
    }
   ],
   "source": [
    "import os\n",
    "import time\n",
    "import numpy as np\n",
    "from pathlib import Path\n",
    "from matplotlib import pyplot as plt\n",
    "from time import perf_counter\n",
    "from IPython.display import clear_output\n",
    "from pathlib import Path\n",
    "\n",
    "from brainflow.board_shim import BoardShim, BrainFlowInputParams, BoardIds\n",
    "\n",
    "from tqdm.notebook import tqdm\n",
    "import datetime\n",
    "\n",
    "\n",
    "%matplotlib qt\n",
    "\n",
    "\n",
    "%load_ext autoreload\n",
    "%autoreload 2\n"
   ]
  },
  {
   "cell_type": "code",
   "execution_count": 2,
   "metadata": {},
   "outputs": [
    {
     "name": "stdout",
     "output_type": "stream",
     "text": [
      "Device ready (sampling rate: 500hz)\n"
     ]
    }
   ],
   "source": [
    "####      INIT BOARD        #######\n",
    "BoardShim.enable_dev_board_logger()\n",
    "params = BrainFlowInputParams()\n",
    "board = BoardShim(BoardIds.MINDROVE_WIFI_BOARD, params)\n",
    "\n",
    "try:\n",
    "    board.stop_stream()\n",
    "    board.release_session()\n",
    "except:\n",
    "    ...\n",
    "    \n",
    "board.prepare_session()\n",
    "sample_rate = board.get_sampling_rate(16)\n",
    "print(\"Device ready (sampling rate: {}hz)\".format(sample_rate))"
   ]
  },
  {
   "cell_type": "code",
   "execution_count": 3,
   "metadata": {},
   "outputs": [],
   "source": [
    "def visualize(data):\n",
    "   \n",
    "    fig = plt.gcf()\n",
    "    fig.canvas.manager.window.raise_()\n",
    "    mngr = plt.get_current_fig_manager()\n",
    "    \n",
    " \n",
    " \n",
    "    plt.cla()\n",
    "    plt.ylim(-1, 1)\n",
    "    for i, c in enumerate(data):\n",
    "        plt.plot(c)\n",
    "    \n",
    "\n",
    "    mngr.window.setGeometry(1150,100,800, 800)\n",
    "    fig.canvas.flush_events()\n",
    "    plt.draw()\n",
    "    # plt.pause(0.001)\n",
    "    #plt.cla()\n",
    "    plt.show()\n",
    "    \n",
    "def get_avg(data):\n",
    "    \n",
    "    \n",
    "    mins = []\n",
    "    for i, channel in enumerate(data):\n",
    "        mins.append(np.min(channel))\n",
    "    data = np.delete(data, np.argmin(mins), 0)\n",
    "\n",
    "    maxs = []\n",
    "    for i, channel in enumerate(data):\n",
    "        maxs.append(np.max(channel))\n",
    "    data = np.delete(data, np.argmax(maxs), 0)\n",
    "    \n",
    "    return data\n",
    "\n",
    "\n",
    "def DCFilter(data):\n",
    "    #return data - np.mean(data, axis=0)\n",
    "    new_data = []\n",
    "    for d in data:\n",
    "        new_data.append(d - np.mean(d))\n",
    "    return np.array(new_data)"
   ]
  },
  {
   "cell_type": "code",
   "execution_count": 4,
   "metadata": {},
   "outputs": [],
   "source": [
    "clip_value = 2000\n",
    "\n",
    "board.start_stream(450000) \n",
    "\n",
    "time.sleep(10)\n",
    "\n",
    "for i in range(1000):\n",
    "    clear_output()\n",
    "    time.sleep(0.1)\n",
    "    \n",
    "    data = board.get_current_board_data(sample_rate*10) # 10 seconds\n",
    "    data = DCFilter(data)\n",
    "\n",
    "    data = data[:6,-500:]\n",
    "    data = get_avg(data)\n",
    "    data = np.clip(data, -clip_value, clip_value)\n",
    "    data /= clip_value\n",
    "    \n",
    "    visualize(data)"
   ]
  },
  {
   "cell_type": "code",
   "execution_count": null,
   "metadata": {},
   "outputs": [],
   "source": []
  }
 ],
 "metadata": {
  "interpreter": {
   "hash": "128934f646949eb4cf464f35c20c7e7ac7bc290bed06c64aee2699698b1492ef"
  },
  "kernelspec": {
   "display_name": "Python 3.7.0 ('tf')",
   "language": "python",
   "name": "python3"
  },
  "language_info": {
   "codemirror_mode": {
    "name": "ipython",
    "version": 3
   },
   "file_extension": ".py",
   "mimetype": "text/x-python",
   "name": "python",
   "nbconvert_exporter": "python",
   "pygments_lexer": "ipython3",
   "version": "3.7.0"
  },
  "orig_nbformat": 4
 },
 "nbformat": 4,
 "nbformat_minor": 2
}
